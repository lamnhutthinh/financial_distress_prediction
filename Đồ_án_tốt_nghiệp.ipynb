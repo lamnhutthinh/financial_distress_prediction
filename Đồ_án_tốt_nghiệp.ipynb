{
  "cells": [
    {
      "cell_type": "markdown",
      "metadata": {
        "id": "YF5PTNk_KoED"
      },
      "source": [
        "# PROJECT CODE"
      ]
    },
    {
      "cell_type": "markdown",
      "metadata": {
        "id": "gmeYaCR-KoEN"
      },
      "source": [
        "- ***Name: Lam Nhut Thinh***\n",
        "- ***Student ID: K194141751***"
      ]
    },
    {
      "cell_type": "markdown",
      "metadata": {
        "id": "8UHcNKloKoEP"
      },
      "source": [
        "# IMPORT LIBRARIES"
      ]
    },
    {
      "cell_type": "code",
      "execution_count": 210,
      "metadata": {
        "id": "7JLgHLcIKoEQ"
      },
      "outputs": [],
      "source": [
        "import pandas as pd\n",
        "import numpy as np\n",
        "import matplotlib.pyplot as plt\n",
        "import seaborn as sns\n",
        "import math\n",
        "from sklearn import tree\n",
        "from sklearn import neighbors\n",
        "import statsmodels.formula.api as smf\n",
        "import warnings\n",
        "warnings.filterwarnings(\"ignore\")"
      ]
    },
    {
      "cell_type": "markdown",
      "metadata": {
        "id": "pIl8KCehKoEV"
      },
      "source": [
        "# READ AND PREPROCESS THE DATA"
      ]
    },
    {
      "cell_type": "markdown",
      "metadata": {
        "id": "e1WEC1fJKoEW"
      },
      "source": [
        "***READ THE DATA***"
      ]
    },
    {
      "cell_type": "code",
      "execution_count": 211,
      "metadata": {
        "colab": {
          "base_uri": "https://localhost:8080/"
        },
        "id": "eug7EMKhRKMR",
        "outputId": "bbf5cf84-ce73-42e6-ce57-9203c8d4b61f"
      },
      "outputs": [
        {
          "output_type": "stream",
          "name": "stdout",
          "text": [
            "Mounted at /content/gdrive\n"
          ]
        }
      ],
      "source": [
        "from google.colab import drive\n",
        "drive.mount('/content/gdrive', force_remount=True)\n",
        "path = \"gdrive/My Drive/Đồ án tốt nghiệp\""
      ]
    },
    {
      "cell_type": "code",
      "execution_count": 212,
      "metadata": {
        "colab": {
          "base_uri": "https://localhost:8080/",
          "height": 468
        },
        "id": "gUpdFRhKKoEX",
        "outputId": "d6d6b29b-69b6-472c-a540-b6e2d5434590"
      },
      "outputs": [
        {
          "output_type": "execute_result",
          "data": {
            "text/plain": [
              "    NAME  EBIT(t-1)  PB(t-1)  QR(t-1)  DA(t-1)  TATO(t-1)  ROS(t-1)  \\\n",
              "0    AAA     520.00      1.4      0.9    53.04       0.87      3.81   \n",
              "1    AAA     550.00      1.6      1.3    45.50       1.31      2.47   \n",
              "2    AAM     -12.00      0.6      3.3     8.06       0.57     -9.92   \n",
              "3    AAM       0.33      0.7     14.1     3.48       0.67      0.17   \n",
              "4    ABR      30.00      2.1      4.6    16.31       0.35     25.51   \n",
              "..   ...        ...      ...      ...      ...        ...       ...   \n",
              "705  VTO     123.00      0.5      1.2    38.35       0.65      6.00   \n",
              "706  VTO     188.00      0.8      1.8    34.62       0.54     13.64   \n",
              "707  YBM      31.00      0.7      0.9    58.94       1.13      3.04   \n",
              "708  YEG    -164.00      1.7      2.0    36.46       0.88    -14.77   \n",
              "709  YEG     120.00      0.9      2.7    36.08       0.79      2.78   \n",
              "\n",
              "     OCFTD(t-1)  EBIT(t-2)  PB(t-2)  QR(t-2)  DA(t-2)  TATO(t-2)  ROS(t-2)  \\\n",
              "0         13.49        822      1.1      1.2    59.25       1.16      5.30   \n",
              "1          9.75        520      1.4      0.9    53.04       0.87      3.81   \n",
              "2       -141.18         10      0.6      4.9     7.02       0.95      3.70   \n",
              "3        642.86        -12      0.6      3.3     8.06       0.57     -9.92   \n",
              "4         50.00         11      1.1      3.8    18.22       0.10     29.63   \n",
              "..          ...        ...      ...      ...      ...        ...       ...   \n",
              "705       41.46        163      0.4      0.9    41.30       0.77      6.53   \n",
              "706       38.82        123      0.5      1.2    38.35       0.65      6.00   \n",
              "707       13.62         31      0.5      0.8    58.95       1.02      3.05   \n",
              "708      -84.75       -369      1.2      2.2    32.61       0.96    -26.38   \n",
              "709      -17.78       -164      1.7      2.0    36.46       0.88    -14.77   \n",
              "\n",
              "     OCFTD(t-2)  TARGET  \n",
              "0         10.33       0  \n",
              "1         13.49       0  \n",
              "2       -168.75       1  \n",
              "3       -141.18       0  \n",
              "4       -165.96       0  \n",
              "..          ...     ...  \n",
              "705       37.87       0  \n",
              "706       41.46       0  \n",
              "707       13.36       0  \n",
              "708      -79.55       0  \n",
              "709      -84.75       0  \n",
              "\n",
              "[710 rows x 16 columns]"
            ],
            "text/html": [
              "\n",
              "  <div id=\"df-f4c4df68-8e36-4b15-ac86-68efd6a3a86c\">\n",
              "    <div class=\"colab-df-container\">\n",
              "      <div>\n",
              "<style scoped>\n",
              "    .dataframe tbody tr th:only-of-type {\n",
              "        vertical-align: middle;\n",
              "    }\n",
              "\n",
              "    .dataframe tbody tr th {\n",
              "        vertical-align: top;\n",
              "    }\n",
              "\n",
              "    .dataframe thead th {\n",
              "        text-align: right;\n",
              "    }\n",
              "</style>\n",
              "<table border=\"1\" class=\"dataframe\">\n",
              "  <thead>\n",
              "    <tr style=\"text-align: right;\">\n",
              "      <th></th>\n",
              "      <th>NAME</th>\n",
              "      <th>EBIT(t-1)</th>\n",
              "      <th>PB(t-1)</th>\n",
              "      <th>QR(t-1)</th>\n",
              "      <th>DA(t-1)</th>\n",
              "      <th>TATO(t-1)</th>\n",
              "      <th>ROS(t-1)</th>\n",
              "      <th>OCFTD(t-1)</th>\n",
              "      <th>EBIT(t-2)</th>\n",
              "      <th>PB(t-2)</th>\n",
              "      <th>QR(t-2)</th>\n",
              "      <th>DA(t-2)</th>\n",
              "      <th>TATO(t-2)</th>\n",
              "      <th>ROS(t-2)</th>\n",
              "      <th>OCFTD(t-2)</th>\n",
              "      <th>TARGET</th>\n",
              "    </tr>\n",
              "  </thead>\n",
              "  <tbody>\n",
              "    <tr>\n",
              "      <th>0</th>\n",
              "      <td>AAA</td>\n",
              "      <td>520.00</td>\n",
              "      <td>1.4</td>\n",
              "      <td>0.9</td>\n",
              "      <td>53.04</td>\n",
              "      <td>0.87</td>\n",
              "      <td>3.81</td>\n",
              "      <td>13.49</td>\n",
              "      <td>822</td>\n",
              "      <td>1.1</td>\n",
              "      <td>1.2</td>\n",
              "      <td>59.25</td>\n",
              "      <td>1.16</td>\n",
              "      <td>5.30</td>\n",
              "      <td>10.33</td>\n",
              "      <td>0</td>\n",
              "    </tr>\n",
              "    <tr>\n",
              "      <th>1</th>\n",
              "      <td>AAA</td>\n",
              "      <td>550.00</td>\n",
              "      <td>1.6</td>\n",
              "      <td>1.3</td>\n",
              "      <td>45.50</td>\n",
              "      <td>1.31</td>\n",
              "      <td>2.47</td>\n",
              "      <td>9.75</td>\n",
              "      <td>520</td>\n",
              "      <td>1.4</td>\n",
              "      <td>0.9</td>\n",
              "      <td>53.04</td>\n",
              "      <td>0.87</td>\n",
              "      <td>3.81</td>\n",
              "      <td>13.49</td>\n",
              "      <td>0</td>\n",
              "    </tr>\n",
              "    <tr>\n",
              "      <th>2</th>\n",
              "      <td>AAM</td>\n",
              "      <td>-12.00</td>\n",
              "      <td>0.6</td>\n",
              "      <td>3.3</td>\n",
              "      <td>8.06</td>\n",
              "      <td>0.57</td>\n",
              "      <td>-9.92</td>\n",
              "      <td>-141.18</td>\n",
              "      <td>10</td>\n",
              "      <td>0.6</td>\n",
              "      <td>4.9</td>\n",
              "      <td>7.02</td>\n",
              "      <td>0.95</td>\n",
              "      <td>3.70</td>\n",
              "      <td>-168.75</td>\n",
              "      <td>1</td>\n",
              "    </tr>\n",
              "    <tr>\n",
              "      <th>3</th>\n",
              "      <td>AAM</td>\n",
              "      <td>0.33</td>\n",
              "      <td>0.7</td>\n",
              "      <td>14.1</td>\n",
              "      <td>3.48</td>\n",
              "      <td>0.67</td>\n",
              "      <td>0.17</td>\n",
              "      <td>642.86</td>\n",
              "      <td>-12</td>\n",
              "      <td>0.6</td>\n",
              "      <td>3.3</td>\n",
              "      <td>8.06</td>\n",
              "      <td>0.57</td>\n",
              "      <td>-9.92</td>\n",
              "      <td>-141.18</td>\n",
              "      <td>0</td>\n",
              "    </tr>\n",
              "    <tr>\n",
              "      <th>4</th>\n",
              "      <td>ABR</td>\n",
              "      <td>30.00</td>\n",
              "      <td>2.1</td>\n",
              "      <td>4.6</td>\n",
              "      <td>16.31</td>\n",
              "      <td>0.35</td>\n",
              "      <td>25.51</td>\n",
              "      <td>50.00</td>\n",
              "      <td>11</td>\n",
              "      <td>1.1</td>\n",
              "      <td>3.8</td>\n",
              "      <td>18.22</td>\n",
              "      <td>0.10</td>\n",
              "      <td>29.63</td>\n",
              "      <td>-165.96</td>\n",
              "      <td>0</td>\n",
              "    </tr>\n",
              "    <tr>\n",
              "      <th>...</th>\n",
              "      <td>...</td>\n",
              "      <td>...</td>\n",
              "      <td>...</td>\n",
              "      <td>...</td>\n",
              "      <td>...</td>\n",
              "      <td>...</td>\n",
              "      <td>...</td>\n",
              "      <td>...</td>\n",
              "      <td>...</td>\n",
              "      <td>...</td>\n",
              "      <td>...</td>\n",
              "      <td>...</td>\n",
              "      <td>...</td>\n",
              "      <td>...</td>\n",
              "      <td>...</td>\n",
              "      <td>...</td>\n",
              "    </tr>\n",
              "    <tr>\n",
              "      <th>705</th>\n",
              "      <td>VTO</td>\n",
              "      <td>123.00</td>\n",
              "      <td>0.5</td>\n",
              "      <td>1.2</td>\n",
              "      <td>38.35</td>\n",
              "      <td>0.65</td>\n",
              "      <td>6.00</td>\n",
              "      <td>41.46</td>\n",
              "      <td>163</td>\n",
              "      <td>0.4</td>\n",
              "      <td>0.9</td>\n",
              "      <td>41.30</td>\n",
              "      <td>0.77</td>\n",
              "      <td>6.53</td>\n",
              "      <td>37.87</td>\n",
              "      <td>0</td>\n",
              "    </tr>\n",
              "    <tr>\n",
              "      <th>706</th>\n",
              "      <td>VTO</td>\n",
              "      <td>188.00</td>\n",
              "      <td>0.8</td>\n",
              "      <td>1.8</td>\n",
              "      <td>34.62</td>\n",
              "      <td>0.54</td>\n",
              "      <td>13.64</td>\n",
              "      <td>38.82</td>\n",
              "      <td>123</td>\n",
              "      <td>0.5</td>\n",
              "      <td>1.2</td>\n",
              "      <td>38.35</td>\n",
              "      <td>0.65</td>\n",
              "      <td>6.00</td>\n",
              "      <td>41.46</td>\n",
              "      <td>0</td>\n",
              "    </tr>\n",
              "    <tr>\n",
              "      <th>707</th>\n",
              "      <td>YBM</td>\n",
              "      <td>31.00</td>\n",
              "      <td>0.7</td>\n",
              "      <td>0.9</td>\n",
              "      <td>58.94</td>\n",
              "      <td>1.13</td>\n",
              "      <td>3.04</td>\n",
              "      <td>13.62</td>\n",
              "      <td>31</td>\n",
              "      <td>0.5</td>\n",
              "      <td>0.8</td>\n",
              "      <td>58.95</td>\n",
              "      <td>1.02</td>\n",
              "      <td>3.05</td>\n",
              "      <td>13.36</td>\n",
              "      <td>0</td>\n",
              "    </tr>\n",
              "    <tr>\n",
              "      <th>708</th>\n",
              "      <td>YEG</td>\n",
              "      <td>-164.00</td>\n",
              "      <td>1.7</td>\n",
              "      <td>2.0</td>\n",
              "      <td>36.46</td>\n",
              "      <td>0.88</td>\n",
              "      <td>-14.77</td>\n",
              "      <td>-84.75</td>\n",
              "      <td>-369</td>\n",
              "      <td>1.2</td>\n",
              "      <td>2.2</td>\n",
              "      <td>32.61</td>\n",
              "      <td>0.96</td>\n",
              "      <td>-26.38</td>\n",
              "      <td>-79.55</td>\n",
              "      <td>0</td>\n",
              "    </tr>\n",
              "    <tr>\n",
              "      <th>709</th>\n",
              "      <td>YEG</td>\n",
              "      <td>120.00</td>\n",
              "      <td>0.9</td>\n",
              "      <td>2.7</td>\n",
              "      <td>36.08</td>\n",
              "      <td>0.79</td>\n",
              "      <td>2.78</td>\n",
              "      <td>-17.78</td>\n",
              "      <td>-164</td>\n",
              "      <td>1.7</td>\n",
              "      <td>2.0</td>\n",
              "      <td>36.46</td>\n",
              "      <td>0.88</td>\n",
              "      <td>-14.77</td>\n",
              "      <td>-84.75</td>\n",
              "      <td>0</td>\n",
              "    </tr>\n",
              "  </tbody>\n",
              "</table>\n",
              "<p>710 rows × 16 columns</p>\n",
              "</div>\n",
              "      <button class=\"colab-df-convert\" onclick=\"convertToInteractive('df-f4c4df68-8e36-4b15-ac86-68efd6a3a86c')\"\n",
              "              title=\"Convert this dataframe to an interactive table.\"\n",
              "              style=\"display:none;\">\n",
              "        \n",
              "  <svg xmlns=\"http://www.w3.org/2000/svg\" height=\"24px\"viewBox=\"0 0 24 24\"\n",
              "       width=\"24px\">\n",
              "    <path d=\"M0 0h24v24H0V0z\" fill=\"none\"/>\n",
              "    <path d=\"M18.56 5.44l.94 2.06.94-2.06 2.06-.94-2.06-.94-.94-2.06-.94 2.06-2.06.94zm-11 1L8.5 8.5l.94-2.06 2.06-.94-2.06-.94L8.5 2.5l-.94 2.06-2.06.94zm10 10l.94 2.06.94-2.06 2.06-.94-2.06-.94-.94-2.06-.94 2.06-2.06.94z\"/><path d=\"M17.41 7.96l-1.37-1.37c-.4-.4-.92-.59-1.43-.59-.52 0-1.04.2-1.43.59L10.3 9.45l-7.72 7.72c-.78.78-.78 2.05 0 2.83L4 21.41c.39.39.9.59 1.41.59.51 0 1.02-.2 1.41-.59l7.78-7.78 2.81-2.81c.8-.78.8-2.07 0-2.86zM5.41 20L4 18.59l7.72-7.72 1.47 1.35L5.41 20z\"/>\n",
              "  </svg>\n",
              "      </button>\n",
              "      \n",
              "  <style>\n",
              "    .colab-df-container {\n",
              "      display:flex;\n",
              "      flex-wrap:wrap;\n",
              "      gap: 12px;\n",
              "    }\n",
              "\n",
              "    .colab-df-convert {\n",
              "      background-color: #E8F0FE;\n",
              "      border: none;\n",
              "      border-radius: 50%;\n",
              "      cursor: pointer;\n",
              "      display: none;\n",
              "      fill: #1967D2;\n",
              "      height: 32px;\n",
              "      padding: 0 0 0 0;\n",
              "      width: 32px;\n",
              "    }\n",
              "\n",
              "    .colab-df-convert:hover {\n",
              "      background-color: #E2EBFA;\n",
              "      box-shadow: 0px 1px 2px rgba(60, 64, 67, 0.3), 0px 1px 3px 1px rgba(60, 64, 67, 0.15);\n",
              "      fill: #174EA6;\n",
              "    }\n",
              "\n",
              "    [theme=dark] .colab-df-convert {\n",
              "      background-color: #3B4455;\n",
              "      fill: #D2E3FC;\n",
              "    }\n",
              "\n",
              "    [theme=dark] .colab-df-convert:hover {\n",
              "      background-color: #434B5C;\n",
              "      box-shadow: 0px 1px 3px 1px rgba(0, 0, 0, 0.15);\n",
              "      filter: drop-shadow(0px 1px 2px rgba(0, 0, 0, 0.3));\n",
              "      fill: #FFFFFF;\n",
              "    }\n",
              "  </style>\n",
              "\n",
              "      <script>\n",
              "        const buttonEl =\n",
              "          document.querySelector('#df-f4c4df68-8e36-4b15-ac86-68efd6a3a86c button.colab-df-convert');\n",
              "        buttonEl.style.display =\n",
              "          google.colab.kernel.accessAllowed ? 'block' : 'none';\n",
              "\n",
              "        async function convertToInteractive(key) {\n",
              "          const element = document.querySelector('#df-f4c4df68-8e36-4b15-ac86-68efd6a3a86c');\n",
              "          const dataTable =\n",
              "            await google.colab.kernel.invokeFunction('convertToInteractive',\n",
              "                                                     [key], {});\n",
              "          if (!dataTable) return;\n",
              "\n",
              "          const docLinkHtml = 'Like what you see? Visit the ' +\n",
              "            '<a target=\"_blank\" href=https://colab.research.google.com/notebooks/data_table.ipynb>data table notebook</a>'\n",
              "            + ' to learn more about interactive tables.';\n",
              "          element.innerHTML = '';\n",
              "          dataTable['output_type'] = 'display_data';\n",
              "          await google.colab.output.renderOutput(dataTable, element);\n",
              "          const docLink = document.createElement('div');\n",
              "          docLink.innerHTML = docLinkHtml;\n",
              "          element.appendChild(docLink);\n",
              "        }\n",
              "      </script>\n",
              "    </div>\n",
              "  </div>\n",
              "  "
            ]
          },
          "metadata": {},
          "execution_count": 212
        }
      ],
      "source": [
        "df = pd.read_csv('gdrive/MyDrive/Đồ án tốt nghiệp/final_data.csv')\n",
        "df"
      ]
    },
    {
      "cell_type": "markdown",
      "metadata": {
        "id": "UaPNjcOaKoEb"
      },
      "source": [
        "***FILTER OUT FINANCIAL FIRMS***"
      ]
    },
    {
      "cell_type": "code",
      "execution_count": 213,
      "metadata": {
        "id": "rFE_rFlHKoEc"
      },
      "outputs": [],
      "source": [
        "df_final = df.set_index('NAME')"
      ]
    },
    {
      "cell_type": "code",
      "execution_count": 214,
      "metadata": {
        "id": "WK3X3gBZKoEd"
      },
      "outputs": [],
      "source": [
        "# financial_firms = ['ACB','AGR','APG','BIC','BID','BMI','BSI','BVH','CTG','CTS','EIB','EVF','FTS']"
      ]
    },
    {
      "cell_type": "code",
      "execution_count": 215,
      "metadata": {
        "id": "V6Pr5ZsQKoEe"
      },
      "outputs": [],
      "source": [
        "# non_financial_firms = []\n",
        "# for i in df.index:\n",
        "#     if not i in financial_firms:\n",
        "#         non_financial_firms.append(i)"
      ]
    },
    {
      "cell_type": "code",
      "execution_count": 216,
      "metadata": {
        "id": "3kLnoowiKoEf"
      },
      "outputs": [],
      "source": [
        "# df = df.loc[non_financial_firms,:]\n",
        "# df"
      ]
    },
    {
      "cell_type": "code",
      "execution_count": 217,
      "metadata": {
        "colab": {
          "base_uri": "https://localhost:8080/"
        },
        "id": "tu1W0hqYKoEf",
        "outputId": "008f749b-d3a9-4017-d22e-b2ee7c576ab2"
      },
      "outputs": [
        {
          "output_type": "execute_result",
          "data": {
            "text/plain": [
              "Index(['EBIT(t-1)', 'PB(t-1)', 'QR(t-1)', 'DA(t-1)', 'TATO(t-1)', 'ROS(t-1)',\n",
              "       'OCFTD(t-1)', 'EBIT(t-2)', 'PB(t-2)', 'QR(t-2)', 'DA(t-2)', 'TATO(t-2)',\n",
              "       'ROS(t-2)', 'OCFTD(t-2)', 'TARGET'],\n",
              "      dtype='object')"
            ]
          },
          "metadata": {},
          "execution_count": 217
        }
      ],
      "source": [
        "df_final.columns"
      ]
    },
    {
      "cell_type": "markdown",
      "metadata": {
        "id": "fTg3eZ8mKoEm"
      },
      "source": [
        "# EXPLORATORY DATA ANALYSIS (EDA)"
      ]
    },
    {
      "cell_type": "markdown",
      "metadata": {
        "id": "lNchJSdUKoEm"
      },
      "source": [
        "***BASIC STATS OF THE VARIABLES***"
      ]
    },
    {
      "cell_type": "code",
      "execution_count": 218,
      "metadata": {
        "colab": {
          "base_uri": "https://localhost:8080/",
          "height": 364
        },
        "id": "r3Eh5piyKoEm",
        "outputId": "e7f6e6c5-aeb4-4623-f252-7298c1f66c50"
      },
      "outputs": [
        {
          "output_type": "execute_result",
          "data": {
            "text/plain": [
              "          EBIT(t-1)     PB(t-1)     QR(t-1)     DA(t-1)   TATO(t-1)  \\\n",
              "count    710.000000  710.000000  710.000000  710.000000  710.000000   \n",
              "mean     762.199056    1.924366    1.943803   47.419465    0.859310   \n",
              "std     3425.484957    2.003118    3.856357   20.678359    0.875205   \n",
              "min   -12158.000000   -5.300000    0.100000    0.540000   -0.050000   \n",
              "25%       41.000000    1.000000    0.700000   31.260000    0.272500   \n",
              "50%      127.500000    1.500000    1.100000   47.930000    0.655000   \n",
              "75%      432.500000    2.300000    1.800000   64.382500    1.097500   \n",
              "max    50531.000000   34.000000   62.700000  126.100000    8.160000   \n",
              "\n",
              "          ROS(t-1)   OCFTD(t-1)     EBIT(t-2)     PB(t-2)     QR(t-2)  \\\n",
              "count   710.000000   710.000000    710.000000  710.000000  710.000000   \n",
              "mean      0.241268    22.033000    680.940845    1.465352    1.791408   \n",
              "std     221.727919    98.282757   2770.914329    1.353066    3.006729   \n",
              "min   -5800.000000  -335.290000 -10034.000000   -5.300000    0.100000   \n",
              "25%       2.012500    -3.712500     39.000000    0.700000    0.700000   \n",
              "50%       6.100000     7.730000    126.500000    1.100000    1.100000   \n",
              "75%      15.155000    26.907500    360.750000    1.800000    1.700000   \n",
              "max     204.170000  1700.000000  39519.000000   18.100000   42.800000   \n",
              "\n",
              "          DA(t-2)   TATO(t-2)    ROS(t-2)   OCFTD(t-2)      TARGET  \n",
              "count  710.000000  710.000000  710.000000   710.000000  710.000000  \n",
              "mean    47.566155    0.916197    8.297549    28.072155    0.091549  \n",
              "std     20.694040    0.930721   51.831091    97.265505    0.288592  \n",
              "min      0.000000    0.000000 -673.080000  -254.550000    0.000000  \n",
              "25%     32.140000    0.320000    2.217500    -0.195000    0.000000  \n",
              "50%     47.895000    0.720000    6.080000    11.255000    0.000000  \n",
              "75%     63.875000    1.157500   15.105000    31.927500    0.000000  \n",
              "max    129.400000    8.160000  620.000000  1365.000000    1.000000  "
            ],
            "text/html": [
              "\n",
              "  <div id=\"df-44672657-4dd9-4637-9778-63fd7ef98f44\">\n",
              "    <div class=\"colab-df-container\">\n",
              "      <div>\n",
              "<style scoped>\n",
              "    .dataframe tbody tr th:only-of-type {\n",
              "        vertical-align: middle;\n",
              "    }\n",
              "\n",
              "    .dataframe tbody tr th {\n",
              "        vertical-align: top;\n",
              "    }\n",
              "\n",
              "    .dataframe thead th {\n",
              "        text-align: right;\n",
              "    }\n",
              "</style>\n",
              "<table border=\"1\" class=\"dataframe\">\n",
              "  <thead>\n",
              "    <tr style=\"text-align: right;\">\n",
              "      <th></th>\n",
              "      <th>EBIT(t-1)</th>\n",
              "      <th>PB(t-1)</th>\n",
              "      <th>QR(t-1)</th>\n",
              "      <th>DA(t-1)</th>\n",
              "      <th>TATO(t-1)</th>\n",
              "      <th>ROS(t-1)</th>\n",
              "      <th>OCFTD(t-1)</th>\n",
              "      <th>EBIT(t-2)</th>\n",
              "      <th>PB(t-2)</th>\n",
              "      <th>QR(t-2)</th>\n",
              "      <th>DA(t-2)</th>\n",
              "      <th>TATO(t-2)</th>\n",
              "      <th>ROS(t-2)</th>\n",
              "      <th>OCFTD(t-2)</th>\n",
              "      <th>TARGET</th>\n",
              "    </tr>\n",
              "  </thead>\n",
              "  <tbody>\n",
              "    <tr>\n",
              "      <th>count</th>\n",
              "      <td>710.000000</td>\n",
              "      <td>710.000000</td>\n",
              "      <td>710.000000</td>\n",
              "      <td>710.000000</td>\n",
              "      <td>710.000000</td>\n",
              "      <td>710.000000</td>\n",
              "      <td>710.000000</td>\n",
              "      <td>710.000000</td>\n",
              "      <td>710.000000</td>\n",
              "      <td>710.000000</td>\n",
              "      <td>710.000000</td>\n",
              "      <td>710.000000</td>\n",
              "      <td>710.000000</td>\n",
              "      <td>710.000000</td>\n",
              "      <td>710.000000</td>\n",
              "    </tr>\n",
              "    <tr>\n",
              "      <th>mean</th>\n",
              "      <td>762.199056</td>\n",
              "      <td>1.924366</td>\n",
              "      <td>1.943803</td>\n",
              "      <td>47.419465</td>\n",
              "      <td>0.859310</td>\n",
              "      <td>0.241268</td>\n",
              "      <td>22.033000</td>\n",
              "      <td>680.940845</td>\n",
              "      <td>1.465352</td>\n",
              "      <td>1.791408</td>\n",
              "      <td>47.566155</td>\n",
              "      <td>0.916197</td>\n",
              "      <td>8.297549</td>\n",
              "      <td>28.072155</td>\n",
              "      <td>0.091549</td>\n",
              "    </tr>\n",
              "    <tr>\n",
              "      <th>std</th>\n",
              "      <td>3425.484957</td>\n",
              "      <td>2.003118</td>\n",
              "      <td>3.856357</td>\n",
              "      <td>20.678359</td>\n",
              "      <td>0.875205</td>\n",
              "      <td>221.727919</td>\n",
              "      <td>98.282757</td>\n",
              "      <td>2770.914329</td>\n",
              "      <td>1.353066</td>\n",
              "      <td>3.006729</td>\n",
              "      <td>20.694040</td>\n",
              "      <td>0.930721</td>\n",
              "      <td>51.831091</td>\n",
              "      <td>97.265505</td>\n",
              "      <td>0.288592</td>\n",
              "    </tr>\n",
              "    <tr>\n",
              "      <th>min</th>\n",
              "      <td>-12158.000000</td>\n",
              "      <td>-5.300000</td>\n",
              "      <td>0.100000</td>\n",
              "      <td>0.540000</td>\n",
              "      <td>-0.050000</td>\n",
              "      <td>-5800.000000</td>\n",
              "      <td>-335.290000</td>\n",
              "      <td>-10034.000000</td>\n",
              "      <td>-5.300000</td>\n",
              "      <td>0.100000</td>\n",
              "      <td>0.000000</td>\n",
              "      <td>0.000000</td>\n",
              "      <td>-673.080000</td>\n",
              "      <td>-254.550000</td>\n",
              "      <td>0.000000</td>\n",
              "    </tr>\n",
              "    <tr>\n",
              "      <th>25%</th>\n",
              "      <td>41.000000</td>\n",
              "      <td>1.000000</td>\n",
              "      <td>0.700000</td>\n",
              "      <td>31.260000</td>\n",
              "      <td>0.272500</td>\n",
              "      <td>2.012500</td>\n",
              "      <td>-3.712500</td>\n",
              "      <td>39.000000</td>\n",
              "      <td>0.700000</td>\n",
              "      <td>0.700000</td>\n",
              "      <td>32.140000</td>\n",
              "      <td>0.320000</td>\n",
              "      <td>2.217500</td>\n",
              "      <td>-0.195000</td>\n",
              "      <td>0.000000</td>\n",
              "    </tr>\n",
              "    <tr>\n",
              "      <th>50%</th>\n",
              "      <td>127.500000</td>\n",
              "      <td>1.500000</td>\n",
              "      <td>1.100000</td>\n",
              "      <td>47.930000</td>\n",
              "      <td>0.655000</td>\n",
              "      <td>6.100000</td>\n",
              "      <td>7.730000</td>\n",
              "      <td>126.500000</td>\n",
              "      <td>1.100000</td>\n",
              "      <td>1.100000</td>\n",
              "      <td>47.895000</td>\n",
              "      <td>0.720000</td>\n",
              "      <td>6.080000</td>\n",
              "      <td>11.255000</td>\n",
              "      <td>0.000000</td>\n",
              "    </tr>\n",
              "    <tr>\n",
              "      <th>75%</th>\n",
              "      <td>432.500000</td>\n",
              "      <td>2.300000</td>\n",
              "      <td>1.800000</td>\n",
              "      <td>64.382500</td>\n",
              "      <td>1.097500</td>\n",
              "      <td>15.155000</td>\n",
              "      <td>26.907500</td>\n",
              "      <td>360.750000</td>\n",
              "      <td>1.800000</td>\n",
              "      <td>1.700000</td>\n",
              "      <td>63.875000</td>\n",
              "      <td>1.157500</td>\n",
              "      <td>15.105000</td>\n",
              "      <td>31.927500</td>\n",
              "      <td>0.000000</td>\n",
              "    </tr>\n",
              "    <tr>\n",
              "      <th>max</th>\n",
              "      <td>50531.000000</td>\n",
              "      <td>34.000000</td>\n",
              "      <td>62.700000</td>\n",
              "      <td>126.100000</td>\n",
              "      <td>8.160000</td>\n",
              "      <td>204.170000</td>\n",
              "      <td>1700.000000</td>\n",
              "      <td>39519.000000</td>\n",
              "      <td>18.100000</td>\n",
              "      <td>42.800000</td>\n",
              "      <td>129.400000</td>\n",
              "      <td>8.160000</td>\n",
              "      <td>620.000000</td>\n",
              "      <td>1365.000000</td>\n",
              "      <td>1.000000</td>\n",
              "    </tr>\n",
              "  </tbody>\n",
              "</table>\n",
              "</div>\n",
              "      <button class=\"colab-df-convert\" onclick=\"convertToInteractive('df-44672657-4dd9-4637-9778-63fd7ef98f44')\"\n",
              "              title=\"Convert this dataframe to an interactive table.\"\n",
              "              style=\"display:none;\">\n",
              "        \n",
              "  <svg xmlns=\"http://www.w3.org/2000/svg\" height=\"24px\"viewBox=\"0 0 24 24\"\n",
              "       width=\"24px\">\n",
              "    <path d=\"M0 0h24v24H0V0z\" fill=\"none\"/>\n",
              "    <path d=\"M18.56 5.44l.94 2.06.94-2.06 2.06-.94-2.06-.94-.94-2.06-.94 2.06-2.06.94zm-11 1L8.5 8.5l.94-2.06 2.06-.94-2.06-.94L8.5 2.5l-.94 2.06-2.06.94zm10 10l.94 2.06.94-2.06 2.06-.94-2.06-.94-.94-2.06-.94 2.06-2.06.94z\"/><path d=\"M17.41 7.96l-1.37-1.37c-.4-.4-.92-.59-1.43-.59-.52 0-1.04.2-1.43.59L10.3 9.45l-7.72 7.72c-.78.78-.78 2.05 0 2.83L4 21.41c.39.39.9.59 1.41.59.51 0 1.02-.2 1.41-.59l7.78-7.78 2.81-2.81c.8-.78.8-2.07 0-2.86zM5.41 20L4 18.59l7.72-7.72 1.47 1.35L5.41 20z\"/>\n",
              "  </svg>\n",
              "      </button>\n",
              "      \n",
              "  <style>\n",
              "    .colab-df-container {\n",
              "      display:flex;\n",
              "      flex-wrap:wrap;\n",
              "      gap: 12px;\n",
              "    }\n",
              "\n",
              "    .colab-df-convert {\n",
              "      background-color: #E8F0FE;\n",
              "      border: none;\n",
              "      border-radius: 50%;\n",
              "      cursor: pointer;\n",
              "      display: none;\n",
              "      fill: #1967D2;\n",
              "      height: 32px;\n",
              "      padding: 0 0 0 0;\n",
              "      width: 32px;\n",
              "    }\n",
              "\n",
              "    .colab-df-convert:hover {\n",
              "      background-color: #E2EBFA;\n",
              "      box-shadow: 0px 1px 2px rgba(60, 64, 67, 0.3), 0px 1px 3px 1px rgba(60, 64, 67, 0.15);\n",
              "      fill: #174EA6;\n",
              "    }\n",
              "\n",
              "    [theme=dark] .colab-df-convert {\n",
              "      background-color: #3B4455;\n",
              "      fill: #D2E3FC;\n",
              "    }\n",
              "\n",
              "    [theme=dark] .colab-df-convert:hover {\n",
              "      background-color: #434B5C;\n",
              "      box-shadow: 0px 1px 3px 1px rgba(0, 0, 0, 0.15);\n",
              "      filter: drop-shadow(0px 1px 2px rgba(0, 0, 0, 0.3));\n",
              "      fill: #FFFFFF;\n",
              "    }\n",
              "  </style>\n",
              "\n",
              "      <script>\n",
              "        const buttonEl =\n",
              "          document.querySelector('#df-44672657-4dd9-4637-9778-63fd7ef98f44 button.colab-df-convert');\n",
              "        buttonEl.style.display =\n",
              "          google.colab.kernel.accessAllowed ? 'block' : 'none';\n",
              "\n",
              "        async function convertToInteractive(key) {\n",
              "          const element = document.querySelector('#df-44672657-4dd9-4637-9778-63fd7ef98f44');\n",
              "          const dataTable =\n",
              "            await google.colab.kernel.invokeFunction('convertToInteractive',\n",
              "                                                     [key], {});\n",
              "          if (!dataTable) return;\n",
              "\n",
              "          const docLinkHtml = 'Like what you see? Visit the ' +\n",
              "            '<a target=\"_blank\" href=https://colab.research.google.com/notebooks/data_table.ipynb>data table notebook</a>'\n",
              "            + ' to learn more about interactive tables.';\n",
              "          element.innerHTML = '';\n",
              "          dataTable['output_type'] = 'display_data';\n",
              "          await google.colab.output.renderOutput(dataTable, element);\n",
              "          const docLink = document.createElement('div');\n",
              "          docLink.innerHTML = docLinkHtml;\n",
              "          element.appendChild(docLink);\n",
              "        }\n",
              "      </script>\n",
              "    </div>\n",
              "  </div>\n",
              "  "
            ]
          },
          "metadata": {},
          "execution_count": 218
        }
      ],
      "source": [
        "df_final.describe()"
      ]
    },
    {
      "cell_type": "markdown",
      "metadata": {
        "id": "H112shg2KoEn"
      },
      "source": [
        "***PIE CHART OF TARGET VARIABLE***"
      ]
    },
    {
      "cell_type": "code",
      "execution_count": 219,
      "metadata": {
        "colab": {
          "base_uri": "https://localhost:8080/",
          "height": 590
        },
        "id": "HQrErCLUKoEn",
        "outputId": "2dfdf0e5-b651-4cbe-c3c8-78291b4d83af"
      },
      "outputs": [
        {
          "output_type": "display_data",
          "data": {
            "text/plain": [
              "<Figure size 1000x700 with 1 Axes>"
            ],
            "image/png": "[encoded data removed]"
          },
          "metadata": {}
        }
      ],
      "source": [
        "fig = plt.figure(figsize =(10, 7))\n",
        "plt.pie(df_final['TARGET'].value_counts(),\n",
        "        labels = [\"Firms without financial distress\",\"Firms with financial distress\"],\n",
        "        colors = ['Darkgreen','r'],\n",
        "        autopct='%.1f%%' ,textprops={'fontsize': 20},\n",
        "        wedgeprops={'edgecolor': 'white', 'linewidth': 1})\n",
        "plt.title('TARGET VARIABLE',fontsize = 25);"
      ]
    },
    {
      "cell_type": "markdown",
      "metadata": {
        "id": "qZ3rDGWuKoEo"
      },
      "source": [
        "***BOX PLOT OF INDEPENDENT VARIABLES***"
      ]
    },
    {
      "cell_type": "code",
      "execution_count": 220,
      "metadata": {
        "id": "KYKU7Se6KoEo",
        "scrolled": false
      },
      "outputs": [],
      "source": [
        "# distress = df_final[['EBIT(t-1)','PB(t-1)','QR(t-1)','DA(t-1)','TATO(t-1)','ROS(t-1)','OCFTD(t-1)','TARGET']]['TARGET'].map({1:'Distress',0:'No Distress'})\n",
        "# for feature in df_final.columns[:-1]:\n",
        "#     plt.subplots(figsize=(7,5))\n",
        "#     sns.boxplot(y=df_final[feature],x = distress)\n",
        "#     plt.title(f'{feature.upper()} BOX PLOT')\n",
        "#     plt.show()"
      ]
    },
    {
      "cell_type": "markdown",
      "metadata": {
        "id": "DsvEWMhrKoEp"
      },
      "source": [
        "***CORRELATION MATRIX OF THE VARIABLES***"
      ]
    },
    {
      "cell_type": "code",
      "source": [
        "# sns.pairplot(df_final[['QR(t-1)','OCFTD(t-1)','TARGET']])"
      ],
      "metadata": {
        "id": "yJVKSjIpRzlP"
      },
      "execution_count": 221,
      "outputs": []
    },
    {
      "cell_type": "code",
      "execution_count": 222,
      "metadata": {
        "id": "KLzixKCsKoEp",
        "colab": {
          "base_uri": "https://localhost:8080/",
          "height": 699
        },
        "outputId": "795d54e9-2712-4d77-c855-c7106362fd1a"
      },
      "outputs": [
        {
          "output_type": "display_data",
          "data": {
            "text/plain": [
              "<Figure size 1000x800 with 2 Axes>"
            ],
            "image/png": "[encoded data removed]"
          },
          "metadata": {}
        }
      ],
      "source": [
        "plt.figure(figsize=(10,8))\n",
        "sns.heatmap(df_final[['EBIT(t-1)','PB(t-1)','QR(t-1)','DA(t-1)','TATO(t-1)','ROS(t-1)','OCFTD(t-1)','TARGET']].corr(),annot=True,cmap = 'Greens',linewidths=1)\n",
        "plt.title('CORRELATION MATRIX')\n",
        "plt.show()"
      ]
    },
    {
      "cell_type": "code",
      "source": [
        "plt.figure(figsize=(10,8))\n",
        "sns.heatmap(df_final[['EBIT(t-2)','PB(t-2)','QR(t-2)','DA(t-2)','TATO(t-2)','ROS(t-2)','OCFTD(t-2)','TARGET']].corr(),annot=True,cmap = 'Greens',linewidths=1)\n",
        "plt.title('CORRELATION MATRIX')\n",
        "plt.show()"
      ],
      "metadata": {
        "colab": {
          "base_uri": "https://localhost:8080/",
          "height": 699
        },
        "id": "yGL_sM3mH8SV",
        "outputId": "7ec0d925-ab77-4a8d-e100-e1a54794dc57"
      },
      "execution_count": 223,
      "outputs": [
        {
          "output_type": "display_data",
          "data": {
            "text/plain": [
              "<Figure size 1000x800 with 2 Axes>"
            ],
            "image/png": "[encoded data removed]"
          },
          "metadata": {}
        }
      ]
    },
    {
      "cell_type": "code",
      "source": [
        "g = sns.PairGrid(df_final[['EBIT(t-1)','PB(t-1)','QR(t-1)','DA(t-1)','TATO(t-1)','ROS(t-1)','OCFTD(t-1)','TARGET']], y_vars='TARGET',\n",
        "                 x_vars=list(df_final[['EBIT(t-1)','PB(t-1)','QR(t-1)','DA(t-1)','TATO(t-1)','ROS(t-1)','OCFTD(t-1)','TARGET']].columns[:-1]), hue='TARGET',\n",
        "                 palette=[\"C2\", \"C3\"])\n",
        "g = g.map(plt.scatter,alpha=0.3)\n",
        "g = sns.PairGrid(df_final[['EBIT(t-2)','PB(t-2)','QR(t-2)','DA(t-2)','TATO(t-2)','ROS(t-2)','OCFTD(t-2)','TARGET']], y_vars='TARGET',\n",
        "                 x_vars=list(df_final[['EBIT(t-2)','PB(t-2)','QR(t-2)','DA(t-2)','TATO(t-2)','ROS(t-2)','OCFTD(t-2)','TARGET']].columns[:-1]), hue='TARGET',\n",
        "                 palette=[\"C2\", \"C3\"])\n",
        "g = g.map(plt.scatter, alpha=0.3)"
      ],
      "metadata": {
        "colab": {
          "base_uri": "https://localhost:8080/",
          "height": 373
        },
        "id": "9J0fT3TC8C23",
        "outputId": "ba72d4a7-bc83-4d03-fe25-586b1adae279"
      },
      "execution_count": 224,
      "outputs": [
        {
          "output_type": "display_data",
          "data": {
            "text/plain": [
              "<Figure size 1750x250 with 7 Axes>"
            ],
            "image/png": "[encoded data removed]"
          },
          "metadata": {}
        },
        {
          "output_type": "display_data",
          "data": {
            "text/plain": [
              "<Figure size 1750x250 with 7 Axes>"
            ],
            "image/png": "[encoded data removed]"
          },
          "metadata": {}
        }
      ]
    },
    {
      "cell_type": "code",
      "source": [
        "df_final[['EBIT(t-1)','PB(t-1)','QR(t-1)','DA(t-1)','TATO(t-1)','ROS(t-1)','OCFTD(t-1)','TARGET']].describe()"
      ],
      "metadata": {
        "id": "8arRqr1s6EUB",
        "colab": {
          "base_uri": "https://localhost:8080/",
          "height": 300
        },
        "outputId": "eb1f871e-551a-459e-b109-d488faf71ab9"
      },
      "execution_count": 225,
      "outputs": [
        {
          "output_type": "execute_result",
          "data": {
            "text/plain": [
              "          EBIT(t-1)     PB(t-1)     QR(t-1)     DA(t-1)   TATO(t-1)  \\\n",
              "count    710.000000  710.000000  710.000000  710.000000  710.000000   \n",
              "mean     762.199056    1.924366    1.943803   47.419465    0.859310   \n",
              "std     3425.484957    2.003118    3.856357   20.678359    0.875205   \n",
              "min   -12158.000000   -5.300000    0.100000    0.540000   -0.050000   \n",
              "25%       41.000000    1.000000    0.700000   31.260000    0.272500   \n",
              "50%      127.500000    1.500000    1.100000   47.930000    0.655000   \n",
              "75%      432.500000    2.300000    1.800000   64.382500    1.097500   \n",
              "max    50531.000000   34.000000   62.700000  126.100000    8.160000   \n",
              "\n",
              "          ROS(t-1)   OCFTD(t-1)      TARGET  \n",
              "count   710.000000   710.000000  710.000000  \n",
              "mean      0.241268    22.033000    0.091549  \n",
              "std     221.727919    98.282757    0.288592  \n",
              "min   -5800.000000  -335.290000    0.000000  \n",
              "25%       2.012500    -3.712500    0.000000  \n",
              "50%       6.100000     7.730000    0.000000  \n",
              "75%      15.155000    26.907500    0.000000  \n",
              "max     204.170000  1700.000000    1.000000  "
            ],
            "text/html": [
              "\n",
              "  <div id=\"df-9f87c6ad-7766-4615-b590-b9cc003a2d86\">\n",
              "    <div class=\"colab-df-container\">\n",
              "      <div>\n",
              "<style scoped>\n",
              "    .dataframe tbody tr th:only-of-type {\n",
              "        vertical-align: middle;\n",
              "    }\n",
              "\n",
              "    .dataframe tbody tr th {\n",
              "        vertical-align: top;\n",
              "    }\n",
              "\n",
              "    .dataframe thead th {\n",
              "        text-align: right;\n",
              "    }\n",
              "</style>\n",
              "<table border=\"1\" class=\"dataframe\">\n",
              "  <thead>\n",
              "    <tr style=\"text-align: right;\">\n",
              "      <th></th>\n",
              "      <th>EBIT(t-1)</th>\n",
              "      <th>PB(t-1)</th>\n",
              "      <th>QR(t-1)</th>\n",
              "      <th>DA(t-1)</th>\n",
              "      <th>TATO(t-1)</th>\n",
              "      <th>ROS(t-1)</th>\n",
              "      <th>OCFTD(t-1)</th>\n",
              "      <th>TARGET</th>\n",
              "    </tr>\n",
              "  </thead>\n",
              "  <tbody>\n",
              "    <tr>\n",
              "      <th>count</th>\n",
              "      <td>710.000000</td>\n",
              "      <td>710.000000</td>\n",
              "      <td>710.000000</td>\n",
              "      <td>710.000000</td>\n",
              "      <td>710.000000</td>\n",
              "      <td>710.000000</td>\n",
              "      <td>710.000000</td>\n",
              "      <td>710.000000</td>\n",
              "    </tr>\n",
              "    <tr>\n",
              "      <th>mean</th>\n",
              "      <td>762.199056</td>\n",
              "      <td>1.924366</td>\n",
              "      <td>1.943803</td>\n",
              "      <td>47.419465</td>\n",
              "      <td>0.859310</td>\n",
              "      <td>0.241268</td>\n",
              "      <td>22.033000</td>\n",
              "      <td>0.091549</td>\n",
              "    </tr>\n",
              "    <tr>\n",
              "      <th>std</th>\n",
              "      <td>3425.484957</td>\n",
              "      <td>2.003118</td>\n",
              "      <td>3.856357</td>\n",
              "      <td>20.678359</td>\n",
              "      <td>0.875205</td>\n",
              "      <td>221.727919</td>\n",
              "      <td>98.282757</td>\n",
              "      <td>0.288592</td>\n",
              "    </tr>\n",
              "    <tr>\n",
              "      <th>min</th>\n",
              "      <td>-12158.000000</td>\n",
              "      <td>-5.300000</td>\n",
              "      <td>0.100000</td>\n",
              "      <td>0.540000</td>\n",
              "      <td>-0.050000</td>\n",
              "      <td>-5800.000000</td>\n",
              "      <td>-335.290000</td>\n",
              "      <td>0.000000</td>\n",
              "    </tr>\n",
              "    <tr>\n",
              "      <th>25%</th>\n",
              "      <td>41.000000</td>\n",
              "      <td>1.000000</td>\n",
              "      <td>0.700000</td>\n",
              "      <td>31.260000</td>\n",
              "      <td>0.272500</td>\n",
              "      <td>2.012500</td>\n",
              "      <td>-3.712500</td>\n",
              "      <td>0.000000</td>\n",
              "    </tr>\n",
              "    <tr>\n",
              "      <th>50%</th>\n",
              "      <td>127.500000</td>\n",
              "      <td>1.500000</td>\n",
              "      <td>1.100000</td>\n",
              "      <td>47.930000</td>\n",
              "      <td>0.655000</td>\n",
              "      <td>6.100000</td>\n",
              "      <td>7.730000</td>\n",
              "      <td>0.000000</td>\n",
              "    </tr>\n",
              "    <tr>\n",
              "      <th>75%</th>\n",
              "      <td>432.500000</td>\n",
              "      <td>2.300000</td>\n",
              "      <td>1.800000</td>\n",
              "      <td>64.382500</td>\n",
              "      <td>1.097500</td>\n",
              "      <td>15.155000</td>\n",
              "      <td>26.907500</td>\n",
              "      <td>0.000000</td>\n",
              "    </tr>\n",
              "    <tr>\n",
              "      <th>max</th>\n",
              "      <td>50531.000000</td>\n",
              "      <td>34.000000</td>\n",
              "      <td>62.700000</td>\n",
              "      <td>126.100000</td>\n",
              "      <td>8.160000</td>\n",
              "      <td>204.170000</td>\n",
              "      <td>1700.000000</td>\n",
              "      <td>1.000000</td>\n",
              "    </tr>\n",
              "  </tbody>\n",
              "</table>\n",
              "</div>\n",
              "      <button class=\"colab-df-convert\" onclick=\"convertToInteractive('df-9f87c6ad-7766-4615-b590-b9cc003a2d86')\"\n",
              "              title=\"Convert this dataframe to an interactive table.\"\n",
              "              style=\"display:none;\">\n",
              "        \n",
              "  <svg xmlns=\"http://www.w3.org/2000/svg\" height=\"24px\"viewBox=\"0 0 24 24\"\n",
              "       width=\"24px\">\n",
              "    <path d=\"M0 0h24v24H0V0z\" fill=\"none\"/>\n",
              "    <path d=\"M18.56 5.44l.94 2.06.94-2.06 2.06-.94-2.06-.94-.94-2.06-.94 2.06-2.06.94zm-11 1L8.5 8.5l.94-2.06 2.06-.94-2.06-.94L8.5 2.5l-.94 2.06-2.06.94zm10 10l.94 2.06.94-2.06 2.06-.94-2.06-.94-.94-2.06-.94 2.06-2.06.94z\"/><path d=\"M17.41 7.96l-1.37-1.37c-.4-.4-.92-.59-1.43-.59-.52 0-1.04.2-1.43.59L10.3 9.45l-7.72 7.72c-.78.78-.78 2.05 0 2.83L4 21.41c.39.39.9.59 1.41.59.51 0 1.02-.2 1.41-.59l7.78-7.78 2.81-2.81c.8-.78.8-2.07 0-2.86zM5.41 20L4 18.59l7.72-7.72 1.47 1.35L5.41 20z\"/>\n",
              "  </svg>\n",
              "      </button>\n",
              "      \n",
              "  <style>\n",
              "    .colab-df-container {\n",
              "      display:flex;\n",
              "      flex-wrap:wrap;\n",
              "      gap: 12px;\n",
              "    }\n",
              "\n",
              "    .colab-df-convert {\n",
              "      background-color: #E8F0FE;\n",
              "      border: none;\n",
              "      border-radius: 50%;\n",
              "      cursor: pointer;\n",
              "      display: none;\n",
              "      fill: #1967D2;\n",
              "      height: 32px;\n",
              "      padding: 0 0 0 0;\n",
              "      width: 32px;\n",
              "    }\n",
              "\n",
              "    .colab-df-convert:hover {\n",
              "      background-color: #E2EBFA;\n",
              "      box-shadow: 0px 1px 2px rgba(60, 64, 67, 0.3), 0px 1px 3px 1px rgba(60, 64, 67, 0.15);\n",
              "      fill: #174EA6;\n",
              "    }\n",
              "\n",
              "    [theme=dark] .colab-df-convert {\n",
              "      background-color: #3B4455;\n",
              "      fill: #D2E3FC;\n",
              "    }\n",
              "\n",
              "    [theme=dark] .colab-df-convert:hover {\n",
              "      background-color: #434B5C;\n",
              "      box-shadow: 0px 1px 3px 1px rgba(0, 0, 0, 0.15);\n",
              "      filter: drop-shadow(0px 1px 2px rgba(0, 0, 0, 0.3));\n",
              "      fill: #FFFFFF;\n",
              "    }\n",
              "  </style>\n",
              "\n",
              "      <script>\n",
              "        const buttonEl =\n",
              "          document.querySelector('#df-9f87c6ad-7766-4615-b590-b9cc003a2d86 button.colab-df-convert');\n",
              "        buttonEl.style.display =\n",
              "          google.colab.kernel.accessAllowed ? 'block' : 'none';\n",
              "\n",
              "        async function convertToInteractive(key) {\n",
              "          const element = document.querySelector('#df-9f87c6ad-7766-4615-b590-b9cc003a2d86');\n",
              "          const dataTable =\n",
              "            await google.colab.kernel.invokeFunction('convertToInteractive',\n",
              "                                                     [key], {});\n",
              "          if (!dataTable) return;\n",
              "\n",
              "          const docLinkHtml = 'Like what you see? Visit the ' +\n",
              "            '<a target=\"_blank\" href=https://colab.research.google.com/notebooks/data_table.ipynb>data table notebook</a>'\n",
              "            + ' to learn more about interactive tables.';\n",
              "          element.innerHTML = '';\n",
              "          dataTable['output_type'] = 'display_data';\n",
              "          await google.colab.output.renderOutput(dataTable, element);\n",
              "          const docLink = document.createElement('div');\n",
              "          docLink.innerHTML = docLinkHtml;\n",
              "          element.appendChild(docLink);\n",
              "        }\n",
              "      </script>\n",
              "    </div>\n",
              "  </div>\n",
              "  "
            ]
          },
          "metadata": {},
          "execution_count": 225
        }
      ]
    },
    {
      "cell_type": "code",
      "source": [
        "df_final[['EBIT(t-2)','PB(t-2)','QR(t-2)','DA(t-2)','TATO(t-2)','ROS(t-2)','OCFTD(t-2)','TARGET']].describe()"
      ],
      "metadata": {
        "colab": {
          "base_uri": "https://localhost:8080/",
          "height": 300
        },
        "id": "GADug7Z5J8iq",
        "outputId": "8f00dc4f-c6a0-4ca2-eb67-c5fc1ba0e520"
      },
      "execution_count": 226,
      "outputs": [
        {
          "output_type": "execute_result",
          "data": {
            "text/plain": [
              "          EBIT(t-2)     PB(t-2)     QR(t-2)     DA(t-2)   TATO(t-2)  \\\n",
              "count    710.000000  710.000000  710.000000  710.000000  710.000000   \n",
              "mean     680.940845    1.465352    1.791408   47.566155    0.916197   \n",
              "std     2770.914329    1.353066    3.006729   20.694040    0.930721   \n",
              "min   -10034.000000   -5.300000    0.100000    0.000000    0.000000   \n",
              "25%       39.000000    0.700000    0.700000   32.140000    0.320000   \n",
              "50%      126.500000    1.100000    1.100000   47.895000    0.720000   \n",
              "75%      360.750000    1.800000    1.700000   63.875000    1.157500   \n",
              "max    39519.000000   18.100000   42.800000  129.400000    8.160000   \n",
              "\n",
              "         ROS(t-2)   OCFTD(t-2)      TARGET  \n",
              "count  710.000000   710.000000  710.000000  \n",
              "mean     8.297549    28.072155    0.091549  \n",
              "std     51.831091    97.265505    0.288592  \n",
              "min   -673.080000  -254.550000    0.000000  \n",
              "25%      2.217500    -0.195000    0.000000  \n",
              "50%      6.080000    11.255000    0.000000  \n",
              "75%     15.105000    31.927500    0.000000  \n",
              "max    620.000000  1365.000000    1.000000  "
            ],
            "text/html": [
              "\n",
              "  <div id=\"df-7c6d3c26-37bb-480d-b41b-4c7aa5934bf7\">\n",
              "    <div class=\"colab-df-container\">\n",
              "      <div>\n",
              "<style scoped>\n",
              "    .dataframe tbody tr th:only-of-type {\n",
              "        vertical-align: middle;\n",
              "    }\n",
              "\n",
              "    .dataframe tbody tr th {\n",
              "        vertical-align: top;\n",
              "    }\n",
              "\n",
              "    .dataframe thead th {\n",
              "        text-align: right;\n",
              "    }\n",
              "</style>\n",
              "<table border=\"1\" class=\"dataframe\">\n",
              "  <thead>\n",
              "    <tr style=\"text-align: right;\">\n",
              "      <th></th>\n",
              "      <th>EBIT(t-2)</th>\n",
              "      <th>PB(t-2)</th>\n",
              "      <th>QR(t-2)</th>\n",
              "      <th>DA(t-2)</th>\n",
              "      <th>TATO(t-2)</th>\n",
              "      <th>ROS(t-2)</th>\n",
              "      <th>OCFTD(t-2)</th>\n",
              "      <th>TARGET</th>\n",
              "    </tr>\n",
              "  </thead>\n",
              "  <tbody>\n",
              "    <tr>\n",
              "      <th>count</th>\n",
              "      <td>710.000000</td>\n",
              "      <td>710.000000</td>\n",
              "      <td>710.000000</td>\n",
              "      <td>710.000000</td>\n",
              "      <td>710.000000</td>\n",
              "      <td>710.000000</td>\n",
              "      <td>710.000000</td>\n",
              "      <td>710.000000</td>\n",
              "    </tr>\n",
              "    <tr>\n",
              "      <th>mean</th>\n",
              "      <td>680.940845</td>\n",
              "      <td>1.465352</td>\n",
              "      <td>1.791408</td>\n",
              "      <td>47.566155</td>\n",
              "      <td>0.916197</td>\n",
              "      <td>8.297549</td>\n",
              "      <td>28.072155</td>\n",
              "      <td>0.091549</td>\n",
              "    </tr>\n",
              "    <tr>\n",
              "      <th>std</th>\n",
              "      <td>2770.914329</td>\n",
              "      <td>1.353066</td>\n",
              "      <td>3.006729</td>\n",
              "      <td>20.694040</td>\n",
              "      <td>0.930721</td>\n",
              "      <td>51.831091</td>\n",
              "      <td>97.265505</td>\n",
              "      <td>0.288592</td>\n",
              "    </tr>\n",
              "    <tr>\n",
              "      <th>min</th>\n",
              "      <td>-10034.000000</td>\n",
              "      <td>-5.300000</td>\n",
              "      <td>0.100000</td>\n",
              "      <td>0.000000</td>\n",
              "      <td>0.000000</td>\n",
              "      <td>-673.080000</td>\n",
              "      <td>-254.550000</td>\n",
              "      <td>0.000000</td>\n",
              "    </tr>\n",
              "    <tr>\n",
              "      <th>25%</th>\n",
              "      <td>39.000000</td>\n",
              "      <td>0.700000</td>\n",
              "      <td>0.700000</td>\n",
              "      <td>32.140000</td>\n",
              "      <td>0.320000</td>\n",
              "      <td>2.217500</td>\n",
              "      <td>-0.195000</td>\n",
              "      <td>0.000000</td>\n",
              "    </tr>\n",
              "    <tr>\n",
              "      <th>50%</th>\n",
              "      <td>126.500000</td>\n",
              "      <td>1.100000</td>\n",
              "      <td>1.100000</td>\n",
              "      <td>47.895000</td>\n",
              "      <td>0.720000</td>\n",
              "      <td>6.080000</td>\n",
              "      <td>11.255000</td>\n",
              "      <td>0.000000</td>\n",
              "    </tr>\n",
              "    <tr>\n",
              "      <th>75%</th>\n",
              "      <td>360.750000</td>\n",
              "      <td>1.800000</td>\n",
              "      <td>1.700000</td>\n",
              "      <td>63.875000</td>\n",
              "      <td>1.157500</td>\n",
              "      <td>15.105000</td>\n",
              "      <td>31.927500</td>\n",
              "      <td>0.000000</td>\n",
              "    </tr>\n",
              "    <tr>\n",
              "      <th>max</th>\n",
              "      <td>39519.000000</td>\n",
              "      <td>18.100000</td>\n",
              "      <td>42.800000</td>\n",
              "      <td>129.400000</td>\n",
              "      <td>8.160000</td>\n",
              "      <td>620.000000</td>\n",
              "      <td>1365.000000</td>\n",
              "      <td>1.000000</td>\n",
              "    </tr>\n",
              "  </tbody>\n",
              "</table>\n",
              "</div>\n",
              "      <button class=\"colab-df-convert\" onclick=\"convertToInteractive('df-7c6d3c26-37bb-480d-b41b-4c7aa5934bf7')\"\n",
              "              title=\"Convert this dataframe to an interactive table.\"\n",
              "              style=\"display:none;\">\n",
              "        \n",
              "  <svg xmlns=\"http://www.w3.org/2000/svg\" height=\"24px\"viewBox=\"0 0 24 24\"\n",
              "       width=\"24px\">\n",
              "    <path d=\"M0 0h24v24H0V0z\" fill=\"none\"/>\n",
              "    <path d=\"M18.56 5.44l.94 2.06.94-2.06 2.06-.94-2.06-.94-.94-2.06-.94 2.06-2.06.94zm-11 1L8.5 8.5l.94-2.06 2.06-.94-2.06-.94L8.5 2.5l-.94 2.06-2.06.94zm10 10l.94 2.06.94-2.06 2.06-.94-2.06-.94-.94-2.06-.94 2.06-2.06.94z\"/><path d=\"M17.41 7.96l-1.37-1.37c-.4-.4-.92-.59-1.43-.59-.52 0-1.04.2-1.43.59L10.3 9.45l-7.72 7.72c-.78.78-.78 2.05 0 2.83L4 21.41c.39.39.9.59 1.41.59.51 0 1.02-.2 1.41-.59l7.78-7.78 2.81-2.81c.8-.78.8-2.07 0-2.86zM5.41 20L4 18.59l7.72-7.72 1.47 1.35L5.41 20z\"/>\n",
              "  </svg>\n",
              "      </button>\n",
              "      \n",
              "  <style>\n",
              "    .colab-df-container {\n",
              "      display:flex;\n",
              "      flex-wrap:wrap;\n",
              "      gap: 12px;\n",
              "    }\n",
              "\n",
              "    .colab-df-convert {\n",
              "      background-color: #E8F0FE;\n",
              "      border: none;\n",
              "      border-radius: 50%;\n",
              "      cursor: pointer;\n",
              "      display: none;\n",
              "      fill: #1967D2;\n",
              "      height: 32px;\n",
              "      padding: 0 0 0 0;\n",
              "      width: 32px;\n",
              "    }\n",
              "\n",
              "    .colab-df-convert:hover {\n",
              "      background-color: #E2EBFA;\n",
              "      box-shadow: 0px 1px 2px rgba(60, 64, 67, 0.3), 0px 1px 3px 1px rgba(60, 64, 67, 0.15);\n",
              "      fill: #174EA6;\n",
              "    }\n",
              "\n",
              "    [theme=dark] .colab-df-convert {\n",
              "      background-color: #3B4455;\n",
              "      fill: #D2E3FC;\n",
              "    }\n",
              "\n",
              "    [theme=dark] .colab-df-convert:hover {\n",
              "      background-color: #434B5C;\n",
              "      box-shadow: 0px 1px 3px 1px rgba(0, 0, 0, 0.15);\n",
              "      filter: drop-shadow(0px 1px 2px rgba(0, 0, 0, 0.3));\n",
              "      fill: #FFFFFF;\n",
              "    }\n",
              "  </style>\n",
              "\n",
              "      <script>\n",
              "        const buttonEl =\n",
              "          document.querySelector('#df-7c6d3c26-37bb-480d-b41b-4c7aa5934bf7 button.colab-df-convert');\n",
              "        buttonEl.style.display =\n",
              "          google.colab.kernel.accessAllowed ? 'block' : 'none';\n",
              "\n",
              "        async function convertToInteractive(key) {\n",
              "          const element = document.querySelector('#df-7c6d3c26-37bb-480d-b41b-4c7aa5934bf7');\n",
              "          const dataTable =\n",
              "            await google.colab.kernel.invokeFunction('convertToInteractive',\n",
              "                                                     [key], {});\n",
              "          if (!dataTable) return;\n",
              "\n",
              "          const docLinkHtml = 'Like what you see? Visit the ' +\n",
              "            '<a target=\"_blank\" href=https://colab.research.google.com/notebooks/data_table.ipynb>data table notebook</a>'\n",
              "            + ' to learn more about interactive tables.';\n",
              "          element.innerHTML = '';\n",
              "          dataTable['output_type'] = 'display_data';\n",
              "          await google.colab.output.renderOutput(dataTable, element);\n",
              "          const docLink = document.createElement('div');\n",
              "          docLink.innerHTML = docLinkHtml;\n",
              "          element.appendChild(docLink);\n",
              "        }\n",
              "      </script>\n",
              "    </div>\n",
              "  </div>\n",
              "  "
            ]
          },
          "metadata": {},
          "execution_count": 226
        }
      ]
    },
    {
      "cell_type": "markdown",
      "metadata": {
        "id": "EXlppDYcKoEq"
      },
      "source": [
        "# PREDICTIVE MODELS"
      ]
    },
    {
      "cell_type": "markdown",
      "metadata": {
        "id": "3JBXOQFKKoEq"
      },
      "source": [
        "## SPLITTING THE DATA"
      ]
    },
    {
      "cell_type": "code",
      "execution_count": 227,
      "metadata": {
        "id": "akU8Zc3tKoEq"
      },
      "outputs": [],
      "source": [
        "# Assign dependent and independent variables\n",
        "y = df_final['TARGET']\n",
        "X = df_final.iloc[:,:-1]\n",
        "\n",
        "\n",
        "from sklearn.model_selection import train_test_split\n",
        "X_train, X_test, y_train, y_test = train_test_split(X,y, random_state=0, test_size=0.2)"
      ]
    },
    {
      "cell_type": "code",
      "execution_count": 228,
      "metadata": {
        "id": "62anfic1KoEr"
      },
      "outputs": [],
      "source": [
        "def confusion_matrix_df(y_test,y_pred):\n",
        "    df = pd.DataFrame(confusion_matrix(y_test,y_pred),\n",
        "                      columns=['Predict No Distress','Predict Distress'],\n",
        "                      index=['Actual No Distress','Actual Distress'])\n",
        "    return df.style.background_gradient(cmap='Greens')"
      ]
    },
    {
      "cell_type": "markdown",
      "metadata": {
        "id": "alEQpp1zKoEr"
      },
      "source": [
        "## DECISION TREE CLASSIFIER"
      ]
    },
    {
      "cell_type": "markdown",
      "metadata": {
        "id": "ey9JcE3yKoEs"
      },
      "source": [
        "***FIT THE DATA AND MAKE PREDICTION***"
      ]
    },
    {
      "cell_type": "code",
      "execution_count": 229,
      "metadata": {
        "id": "bIJ3XsLHTjyn"
      },
      "outputs": [],
      "source": [
        "# pip install --upgrade scikit-learn"
      ]
    },
    {
      "cell_type": "code",
      "execution_count": 230,
      "metadata": {
        "id": "nZcbl19OKoEs",
        "colab": {
          "base_uri": "https://localhost:8080/",
          "height": 459
        },
        "outputId": "594c50c3-0204-4e3b-c342-80b20f67b230"
      },
      "outputs": [
        {
          "output_type": "stream",
          "name": "stdout",
          "text": [
            "              precision    recall  f1-score   support\n",
            "\n",
            "           0       0.99      0.90      0.94       513\n",
            "           1       0.49      0.89      0.63        55\n",
            "\n",
            "    accuracy                           0.90       568\n",
            "   macro avg       0.74      0.89      0.78       568\n",
            "weighted avg       0.94      0.90      0.91       568\n",
            "\n",
            "Decision Tree Accuracy Train: 90.0%\n",
            "              precision    recall  f1-score   support\n",
            "\n",
            "           0       0.99      0.83      0.90       132\n",
            "           1       0.28      0.90      0.43        10\n",
            "\n",
            "    accuracy                           0.83       142\n",
            "   macro avg       0.64      0.86      0.66       142\n",
            "weighted avg       0.94      0.83      0.87       142\n",
            "\n",
            "Decision Tree Accuracy: 83.0%\n"
          ]
        },
        {
          "output_type": "execute_result",
          "data": {
            "text/plain": [
              "<pandas.io.formats.style.Styler at 0x7f1836cafcd0>"
            ],
            "text/html": [
              "<style type=\"text/css\">\n",
              "#T_c7f15_row0_col0, #T_c7f15_row0_col1 {\n",
              "  background-color: #00441b;\n",
              "  color: #f1f1f1;\n",
              "}\n",
              "#T_c7f15_row1_col0, #T_c7f15_row1_col1 {\n",
              "  background-color: #f7fcf5;\n",
              "  color: #000000;\n",
              "}\n",
              "</style>\n",
              "<table id=\"T_c7f15\" class=\"dataframe\">\n",
              "  <thead>\n",
              "    <tr>\n",
              "      <th class=\"blank level0\" >&nbsp;</th>\n",
              "      <th id=\"T_c7f15_level0_col0\" class=\"col_heading level0 col0\" >Predict No Distress</th>\n",
              "      <th id=\"T_c7f15_level0_col1\" class=\"col_heading level0 col1\" >Predict Distress</th>\n",
              "    </tr>\n",
              "  </thead>\n",
              "  <tbody>\n",
              "    <tr>\n",
              "      <th id=\"T_c7f15_level0_row0\" class=\"row_heading level0 row0\" >Actual No Distress</th>\n",
              "      <td id=\"T_c7f15_row0_col0\" class=\"data row0 col0\" >109</td>\n",
              "      <td id=\"T_c7f15_row0_col1\" class=\"data row0 col1\" >23</td>\n",
              "    </tr>\n",
              "    <tr>\n",
              "      <th id=\"T_c7f15_level0_row1\" class=\"row_heading level0 row1\" >Actual Distress</th>\n",
              "      <td id=\"T_c7f15_row1_col0\" class=\"data row1 col0\" >1</td>\n",
              "      <td id=\"T_c7f15_row1_col1\" class=\"data row1 col1\" >9</td>\n",
              "    </tr>\n",
              "  </tbody>\n",
              "</table>\n"
            ]
          },
          "metadata": {},
          "execution_count": 230
        }
      ],
      "source": [
        "from sklearn.tree import DecisionTreeClassifier, DecisionTreeRegressor\n",
        "from sklearn.ensemble import RandomForestClassifier\n",
        "from sklearn.metrics import confusion_matrix\n",
        "from sklearn.metrics import classification_report, confusion_matrix, accuracy_score, roc_auc_score\n",
        "\n",
        "my_tree = DecisionTreeClassifier(max_depth = 4,\n",
        "                                      max_features = 'auto',\n",
        "                                      min_samples_split = 4,\n",
        "                                      random_state = 0,\n",
        "                                      criterion='gini',class_weight = {0:.092, 1:.908})\n",
        "model_dectree = my_tree.fit(X_train, y_train)\n",
        "y_pred_dectree = model_dectree.predict(X_test)\n",
        "y_pred_train_dectree = model_dectree.predict(X_train)\n",
        "print(classification_report(y_train, y_pred_train_dectree))\n",
        "print(f'Decision Tree Accuracy Train: {100*round(accuracy_score(y_train, y_pred_train_dectree),2)}%')\n",
        "confusion_matrix_df(y_train, y_pred_train_dectree)\n",
        "print(classification_report(y_test, y_pred_dectree))\n",
        "print(f'Decision Tree Accuracy: {100*round(accuracy_score(y_test, y_pred_dectree),2)}%')\n",
        "confusion_matrix_df(y_test,y_pred_dectree)"
      ]
    },
    {
      "cell_type": "markdown",
      "metadata": {
        "id": "EDAXd3i4KoEu"
      },
      "source": [
        "***TUNE THE HYPERPARAMETERS OF THE MODEL***"
      ]
    },
    {
      "cell_type": "code",
      "execution_count": 231,
      "metadata": {
        "id": "dcu8qyzYKoEu",
        "colab": {
          "base_uri": "https://localhost:8080/",
          "height": 118
        },
        "outputId": "5a0073d9-15c8-4b7b-8662-a7e80abebc5a"
      },
      "outputs": [
        {
          "output_type": "execute_result",
          "data": {
            "text/plain": [
              "GridSearchCV(cv=5,\n",
              "             estimator=DecisionTreeClassifier(class_weight={0: 0.092, 1: 0.908},\n",
              "                                              random_state=0),\n",
              "             param_grid={'max_depth': [4, 5, 6],\n",
              "                         'max_features': ['auto', 'sqrt'],\n",
              "                         'min_samples_split': [2, 4, 6]},\n",
              "             scoring='recall')"
            ],
            "text/html": [
              "<style>#sk-container-id-16 {color: black;background-color: white;}#sk-container-id-16 pre{padding: 0;}#sk-container-id-16 div.sk-toggleable {background-color: white;}#sk-container-id-16 label.sk-toggleable__label {cursor: pointer;display: block;width: 100%;margin-bottom: 0;padding: 0.3em;box-sizing: border-box;text-align: center;}#sk-container-id-16 label.sk-toggleable__label-arrow:before {content: \"▸\";float: left;margin-right: 0.25em;color: #696969;}#sk-container-id-16 label.sk-toggleable__label-arrow:hover:before {color: black;}#sk-container-id-16 div.sk-estimator:hover label.sk-toggleable__label-arrow:before {color: black;}#sk-container-id-16 div.sk-toggleable__content {max-height: 0;max-width: 0;overflow: hidden;text-align: left;background-color: #f0f8ff;}#sk-container-id-16 div.sk-toggleable__content pre {margin: 0.2em;color: black;border-radius: 0.25em;background-color: #f0f8ff;}#sk-container-id-16 input.sk-toggleable__control:checked~div.sk-toggleable__content {max-height: 200px;max-width: 100%;overflow: auto;}#sk-container-id-16 input.sk-toggleable__control:checked~label.sk-toggleable__label-arrow:before {content: \"▾\";}#sk-container-id-16 div.sk-estimator input.sk-toggleable__control:checked~label.sk-toggleable__label {background-color: #d4ebff;}#sk-container-id-16 div.sk-label input.sk-toggleable__control:checked~label.sk-toggleable__label {background-color: #d4ebff;}#sk-container-id-16 input.sk-hidden--visually {border: 0;clip: rect(1px 1px 1px 1px);clip: rect(1px, 1px, 1px, 1px);height: 1px;margin: -1px;overflow: hidden;padding: 0;position: absolute;width: 1px;}#sk-container-id-16 div.sk-estimator {font-family: monospace;background-color: #f0f8ff;border: 1px dotted black;border-radius: 0.25em;box-sizing: border-box;margin-bottom: 0.5em;}#sk-container-id-16 div.sk-estimator:hover {background-color: #d4ebff;}#sk-container-id-16 div.sk-parallel-item::after {content: \"\";width: 100%;border-bottom: 1px solid gray;flex-grow: 1;}#sk-container-id-16 div.sk-label:hover label.sk-toggleable__label {background-color: #d4ebff;}#sk-container-id-16 div.sk-serial::before {content: \"\";position: absolute;border-left: 1px solid gray;box-sizing: border-box;top: 0;bottom: 0;left: 50%;z-index: 0;}#sk-container-id-16 div.sk-serial {display: flex;flex-direction: column;align-items: center;background-color: white;padding-right: 0.2em;padding-left: 0.2em;position: relative;}#sk-container-id-16 div.sk-item {position: relative;z-index: 1;}#sk-container-id-16 div.sk-parallel {display: flex;align-items: stretch;justify-content: center;background-color: white;position: relative;}#sk-container-id-16 div.sk-item::before, #sk-container-id-16 div.sk-parallel-item::before {content: \"\";position: absolute;border-left: 1px solid gray;box-sizing: border-box;top: 0;bottom: 0;left: 50%;z-index: -1;}#sk-container-id-16 div.sk-parallel-item {display: flex;flex-direction: column;z-index: 1;position: relative;background-color: white;}#sk-container-id-16 div.sk-parallel-item:first-child::after {align-self: flex-end;width: 50%;}#sk-container-id-16 div.sk-parallel-item:last-child::after {align-self: flex-start;width: 50%;}#sk-container-id-16 div.sk-parallel-item:only-child::after {width: 0;}#sk-container-id-16 div.sk-dashed-wrapped {border: 1px dashed gray;margin: 0 0.4em 0.5em 0.4em;box-sizing: border-box;padding-bottom: 0.4em;background-color: white;}#sk-container-id-16 div.sk-label label {font-family: monospace;font-weight: bold;display: inline-block;line-height: 1.2em;}#sk-container-id-16 div.sk-label-container {text-align: center;}#sk-container-id-16 div.sk-container {/* jupyter's `normalize.less` sets `[hidden] { display: none; }` but bootstrap.min.css set `[hidden] { display: none !important; }` so we also need the `!important` here to be able to override the default hidden behavior on the sphinx rendered scikit-learn.org. See: https://github.com/scikit-learn/scikit-learn/issues/21755 */display: inline-block !important;position: relative;}#sk-container-id-16 div.sk-text-repr-fallback {display: none;}</style><div id=\"sk-container-id-16\" class=\"sk-top-container\"><div class=\"sk-text-repr-fallback\"><pre>GridSearchCV(cv=5,\n",
              "             estimator=DecisionTreeClassifier(class_weight={0: 0.092, 1: 0.908},\n",
              "                                              random_state=0),\n",
              "             param_grid={&#x27;max_depth&#x27;: [4, 5, 6],\n",
              "                         &#x27;max_features&#x27;: [&#x27;auto&#x27;, &#x27;sqrt&#x27;],\n",
              "                         &#x27;min_samples_split&#x27;: [2, 4, 6]},\n",
              "             scoring=&#x27;recall&#x27;)</pre><b>In a Jupyter environment, please rerun this cell to show the HTML representation or trust the notebook. <br />On GitHub, the HTML representation is unable to render, please try loading this page with nbviewer.org.</b></div><div class=\"sk-container\" hidden><div class=\"sk-item sk-dashed-wrapped\"><div class=\"sk-label-container\"><div class=\"sk-label sk-toggleable\"><input class=\"sk-toggleable__control sk-hidden--visually\" id=\"sk-estimator-id-46\" type=\"checkbox\" ><label for=\"sk-estimator-id-46\" class=\"sk-toggleable__label sk-toggleable__label-arrow\">GridSearchCV</label><div class=\"sk-toggleable__content\"><pre>GridSearchCV(cv=5,\n",
              "             estimator=DecisionTreeClassifier(class_weight={0: 0.092, 1: 0.908},\n",
              "                                              random_state=0),\n",
              "             param_grid={&#x27;max_depth&#x27;: [4, 5, 6],\n",
              "                         &#x27;max_features&#x27;: [&#x27;auto&#x27;, &#x27;sqrt&#x27;],\n",
              "                         &#x27;min_samples_split&#x27;: [2, 4, 6]},\n",
              "             scoring=&#x27;recall&#x27;)</pre></div></div></div><div class=\"sk-parallel\"><div class=\"sk-parallel-item\"><div class=\"sk-item\"><div class=\"sk-label-container\"><div class=\"sk-label sk-toggleable\"><input class=\"sk-toggleable__control sk-hidden--visually\" id=\"sk-estimator-id-47\" type=\"checkbox\" ><label for=\"sk-estimator-id-47\" class=\"sk-toggleable__label sk-toggleable__label-arrow\">estimator: DecisionTreeClassifier</label><div class=\"sk-toggleable__content\"><pre>DecisionTreeClassifier(class_weight={0: 0.092, 1: 0.908}, random_state=0)</pre></div></div></div><div class=\"sk-serial\"><div class=\"sk-item\"><div class=\"sk-estimator sk-toggleable\"><input class=\"sk-toggleable__control sk-hidden--visually\" id=\"sk-estimator-id-48\" type=\"checkbox\" ><label for=\"sk-estimator-id-48\" class=\"sk-toggleable__label sk-toggleable__label-arrow\">DecisionTreeClassifier</label><div class=\"sk-toggleable__content\"><pre>DecisionTreeClassifier(class_weight={0: 0.092, 1: 0.908}, random_state=0)</pre></div></div></div></div></div></div></div></div></div></div>"
            ]
          },
          "metadata": {},
          "execution_count": 231
        }
      ],
      "source": [
        "from sklearn.model_selection import GridSearchCV\n",
        "\n",
        "tree_param = {'max_depth':[4,5,6],\n",
        "              'max_features':['auto','sqrt'],\n",
        "              'min_samples_split':[2,4,6],\n",
        "              }\n",
        "grid_dectree = GridSearchCV(DecisionTreeClassifier(random_state = 0,class_weight = {0:.092, 1:.908}), tree_param, cv=5,scoring = 'recall')\n",
        "grid_dectree.fit(X_train,y_train)"
      ]
    },
    {
      "cell_type": "code",
      "execution_count": 232,
      "metadata": {
        "id": "LY9zTuPMKoEv",
        "colab": {
          "base_uri": "https://localhost:8080/"
        },
        "outputId": "eb59ad44-557c-4dac-dd12-708d39ecd767"
      },
      "outputs": [
        {
          "output_type": "execute_result",
          "data": {
            "text/plain": [
              "{'max_depth': 4, 'max_features': 'auto', 'min_samples_split': 2}"
            ]
          },
          "metadata": {},
          "execution_count": 232
        }
      ],
      "source": [
        "grid_dectree.best_params_"
      ]
    },
    {
      "cell_type": "code",
      "execution_count": 233,
      "metadata": {
        "id": "sIyecGqcKoEw",
        "colab": {
          "base_uri": "https://localhost:8080/",
          "height": 459
        },
        "outputId": "e87a25bd-76b5-45a0-b692-0f5233a464fc"
      },
      "outputs": [
        {
          "output_type": "stream",
          "name": "stdout",
          "text": [
            "              precision    recall  f1-score   support\n",
            "\n",
            "           0       0.99      0.90      0.94       513\n",
            "           1       0.49      0.89      0.63        55\n",
            "\n",
            "    accuracy                           0.90       568\n",
            "   macro avg       0.74      0.89      0.78       568\n",
            "weighted avg       0.94      0.90      0.91       568\n",
            "\n",
            "Decision Tree Accuracy Train: 90.0%\n",
            "              precision    recall  f1-score   support\n",
            "\n",
            "           0       0.99      0.83      0.90       132\n",
            "           1       0.28      0.90      0.43        10\n",
            "\n",
            "    accuracy                           0.83       142\n",
            "   macro avg       0.64      0.86      0.66       142\n",
            "weighted avg       0.94      0.83      0.87       142\n",
            "\n",
            "Decision Tree Accuracy: 83.0%\n"
          ]
        },
        {
          "output_type": "execute_result",
          "data": {
            "text/plain": [
              "<pandas.io.formats.style.Styler at 0x7f18369287c0>"
            ],
            "text/html": [
              "<style type=\"text/css\">\n",
              "#T_e3522_row0_col0, #T_e3522_row0_col1 {\n",
              "  background-color: #00441b;\n",
              "  color: #f1f1f1;\n",
              "}\n",
              "#T_e3522_row1_col0, #T_e3522_row1_col1 {\n",
              "  background-color: #f7fcf5;\n",
              "  color: #000000;\n",
              "}\n",
              "</style>\n",
              "<table id=\"T_e3522\" class=\"dataframe\">\n",
              "  <thead>\n",
              "    <tr>\n",
              "      <th class=\"blank level0\" >&nbsp;</th>\n",
              "      <th id=\"T_e3522_level0_col0\" class=\"col_heading level0 col0\" >Predict No Distress</th>\n",
              "      <th id=\"T_e3522_level0_col1\" class=\"col_heading level0 col1\" >Predict Distress</th>\n",
              "    </tr>\n",
              "  </thead>\n",
              "  <tbody>\n",
              "    <tr>\n",
              "      <th id=\"T_e3522_level0_row0\" class=\"row_heading level0 row0\" >Actual No Distress</th>\n",
              "      <td id=\"T_e3522_row0_col0\" class=\"data row0 col0\" >109</td>\n",
              "      <td id=\"T_e3522_row0_col1\" class=\"data row0 col1\" >23</td>\n",
              "    </tr>\n",
              "    <tr>\n",
              "      <th id=\"T_e3522_level0_row1\" class=\"row_heading level0 row1\" >Actual Distress</th>\n",
              "      <td id=\"T_e3522_row1_col0\" class=\"data row1 col0\" >1</td>\n",
              "      <td id=\"T_e3522_row1_col1\" class=\"data row1 col1\" >9</td>\n",
              "    </tr>\n",
              "  </tbody>\n",
              "</table>\n"
            ]
          },
          "metadata": {},
          "execution_count": 233
        }
      ],
      "source": [
        "y_pred_grid_dectree=grid_dectree.predict(X_test)\n",
        "y_pred_grid_dectree_train = grid_dectree.predict(X_train)\n",
        "print(classification_report(y_train, y_pred_grid_dectree_train))\n",
        "print(f'Decision Tree Accuracy Train: {100*round(accuracy_score(y_train, y_pred_grid_dectree_train),2)}%')\n",
        "confusion_matrix_df(y_train, y_pred_grid_dectree_train)\n",
        "print(classification_report(y_test, y_pred_grid_dectree))\n",
        "print(f'Decision Tree Accuracy: {100*round(accuracy_score(y_test, y_pred_grid_dectree),2)}%')\n",
        "confusion_matrix_df(y_test,y_pred_grid_dectree)"
      ]
    },
    {
      "cell_type": "code",
      "source": [
        "dec_pred = y_pred_grid_dectree.tolist()"
      ],
      "metadata": {
        "id": "NDvL3jXMhpPr"
      },
      "execution_count": 234,
      "outputs": []
    },
    {
      "cell_type": "markdown",
      "metadata": {
        "id": "-W2kaYHsKoEx"
      },
      "source": [
        "## RANDOM FOREST CLASSIFIER"
      ]
    },
    {
      "cell_type": "markdown",
      "metadata": {
        "id": "tXf_f0PsKoEx"
      },
      "source": [
        "***FIT THE DATA AND MAKE PREDICTION***"
      ]
    },
    {
      "cell_type": "code",
      "execution_count": 235,
      "metadata": {
        "id": "LHtwmEyrKoEy",
        "colab": {
          "base_uri": "https://localhost:8080/",
          "height": 459
        },
        "outputId": "31f9a243-6a3c-4e4b-e65c-f5c1d0d74097"
      },
      "outputs": [
        {
          "output_type": "stream",
          "name": "stdout",
          "text": [
            "              precision    recall  f1-score   support\n",
            "\n",
            "           0       1.00      1.00      1.00       513\n",
            "           1       1.00      1.00      1.00        55\n",
            "\n",
            "    accuracy                           1.00       568\n",
            "   macro avg       1.00      1.00      1.00       568\n",
            "weighted avg       1.00      1.00      1.00       568\n",
            "\n",
            "Random Forest Accuracy Train: 100.0%\n",
            "              precision    recall  f1-score   support\n",
            "\n",
            "           0       0.96      0.98      0.97       132\n",
            "           1       0.57      0.40      0.47        10\n",
            "\n",
            "    accuracy                           0.94       142\n",
            "   macro avg       0.76      0.69      0.72       142\n",
            "weighted avg       0.93      0.94      0.93       142\n",
            "\n",
            "Random Forest Accuracy: 94.0%\n"
          ]
        },
        {
          "output_type": "execute_result",
          "data": {
            "text/plain": [
              "<pandas.io.formats.style.Styler at 0x7f1836b07ac0>"
            ],
            "text/html": [
              "<style type=\"text/css\">\n",
              "#T_8c0d6_row0_col0, #T_8c0d6_row1_col1 {\n",
              "  background-color: #00441b;\n",
              "  color: #f1f1f1;\n",
              "}\n",
              "#T_8c0d6_row0_col1, #T_8c0d6_row1_col0 {\n",
              "  background-color: #f7fcf5;\n",
              "  color: #000000;\n",
              "}\n",
              "</style>\n",
              "<table id=\"T_8c0d6\" class=\"dataframe\">\n",
              "  <thead>\n",
              "    <tr>\n",
              "      <th class=\"blank level0\" >&nbsp;</th>\n",
              "      <th id=\"T_8c0d6_level0_col0\" class=\"col_heading level0 col0\" >Predict No Distress</th>\n",
              "      <th id=\"T_8c0d6_level0_col1\" class=\"col_heading level0 col1\" >Predict Distress</th>\n",
              "    </tr>\n",
              "  </thead>\n",
              "  <tbody>\n",
              "    <tr>\n",
              "      <th id=\"T_8c0d6_level0_row0\" class=\"row_heading level0 row0\" >Actual No Distress</th>\n",
              "      <td id=\"T_8c0d6_row0_col0\" class=\"data row0 col0\" >129</td>\n",
              "      <td id=\"T_8c0d6_row0_col1\" class=\"data row0 col1\" >3</td>\n",
              "    </tr>\n",
              "    <tr>\n",
              "      <th id=\"T_8c0d6_level0_row1\" class=\"row_heading level0 row1\" >Actual Distress</th>\n",
              "      <td id=\"T_8c0d6_row1_col0\" class=\"data row1 col0\" >6</td>\n",
              "      <td id=\"T_8c0d6_row1_col1\" class=\"data row1 col1\" >4</td>\n",
              "    </tr>\n",
              "  </tbody>\n",
              "</table>\n"
            ]
          },
          "metadata": {},
          "execution_count": 235
        }
      ],
      "source": [
        "my_forest = RandomForestClassifier(random_state = 0,class_weight = {0:.092, 1:.908})\n",
        "model_forest = my_forest.fit(X_train, y_train)\n",
        "y_pred_forest = model_forest.predict(X_test)\n",
        "y_pred_forest_train = model_forest.predict(X_train)\n",
        "print(classification_report(y_train, y_pred_forest_train))\n",
        "print(f'Random Forest Accuracy Train: {100*round(accuracy_score(y_train, y_pred_forest_train),2)}%')\n",
        "confusion_matrix_df(y_train, y_pred_forest_train)\n",
        "print(classification_report(y_test, y_pred_forest))\n",
        "print(f'Random Forest Accuracy: {100*round(accuracy_score(y_test, y_pred_forest),2)}%')\n",
        "confusion_matrix_df(y_test,y_pred_forest)"
      ]
    },
    {
      "cell_type": "markdown",
      "metadata": {
        "id": "tbL46zrGKoEy"
      },
      "source": [
        "***TUNE THE HYPERPARAMETERS OF THE MODEL***"
      ]
    },
    {
      "cell_type": "code",
      "execution_count": 236,
      "metadata": {
        "id": "BM-ZDQDXKoEz",
        "scrolled": true,
        "colab": {
          "base_uri": "https://localhost:8080/",
          "height": 118
        },
        "outputId": "b11eeac0-cf4f-402b-bb46-057297b565e5"
      },
      "outputs": [
        {
          "output_type": "execute_result",
          "data": {
            "text/plain": [
              "GridSearchCV(cv=5,\n",
              "             estimator=RandomForestClassifier(class_weight={0: 0.092, 1: 0.908},\n",
              "                                              random_state=0),\n",
              "             param_grid={'max_depth': [4, 5, 6],\n",
              "                         'max_features': ['auto', 'sqrt'],\n",
              "                         'min_samples_split': [2, 4, 6],\n",
              "                         'n_estimators': [50, 60, 70]},\n",
              "             scoring='recall')"
            ],
            "text/html": [
              "<style>#sk-container-id-17 {color: black;background-color: white;}#sk-container-id-17 pre{padding: 0;}#sk-container-id-17 div.sk-toggleable {background-color: white;}#sk-container-id-17 label.sk-toggleable__label {cursor: pointer;display: block;width: 100%;margin-bottom: 0;padding: 0.3em;box-sizing: border-box;text-align: center;}#sk-container-id-17 label.sk-toggleable__label-arrow:before {content: \"▸\";float: left;margin-right: 0.25em;color: #696969;}#sk-container-id-17 label.sk-toggleable__label-arrow:hover:before {color: black;}#sk-container-id-17 div.sk-estimator:hover label.sk-toggleable__label-arrow:before {color: black;}#sk-container-id-17 div.sk-toggleable__content {max-height: 0;max-width: 0;overflow: hidden;text-align: left;background-color: #f0f8ff;}#sk-container-id-17 div.sk-toggleable__content pre {margin: 0.2em;color: black;border-radius: 0.25em;background-color: #f0f8ff;}#sk-container-id-17 input.sk-toggleable__control:checked~div.sk-toggleable__content {max-height: 200px;max-width: 100%;overflow: auto;}#sk-container-id-17 input.sk-toggleable__control:checked~label.sk-toggleable__label-arrow:before {content: \"▾\";}#sk-container-id-17 div.sk-estimator input.sk-toggleable__control:checked~label.sk-toggleable__label {background-color: #d4ebff;}#sk-container-id-17 div.sk-label input.sk-toggleable__control:checked~label.sk-toggleable__label {background-color: #d4ebff;}#sk-container-id-17 input.sk-hidden--visually {border: 0;clip: rect(1px 1px 1px 1px);clip: rect(1px, 1px, 1px, 1px);height: 1px;margin: -1px;overflow: hidden;padding: 0;position: absolute;width: 1px;}#sk-container-id-17 div.sk-estimator {font-family: monospace;background-color: #f0f8ff;border: 1px dotted black;border-radius: 0.25em;box-sizing: border-box;margin-bottom: 0.5em;}#sk-container-id-17 div.sk-estimator:hover {background-color: #d4ebff;}#sk-container-id-17 div.sk-parallel-item::after {content: \"\";width: 100%;border-bottom: 1px solid gray;flex-grow: 1;}#sk-container-id-17 div.sk-label:hover label.sk-toggleable__label {background-color: #d4ebff;}#sk-container-id-17 div.sk-serial::before {content: \"\";position: absolute;border-left: 1px solid gray;box-sizing: border-box;top: 0;bottom: 0;left: 50%;z-index: 0;}#sk-container-id-17 div.sk-serial {display: flex;flex-direction: column;align-items: center;background-color: white;padding-right: 0.2em;padding-left: 0.2em;position: relative;}#sk-container-id-17 div.sk-item {position: relative;z-index: 1;}#sk-container-id-17 div.sk-parallel {display: flex;align-items: stretch;justify-content: center;background-color: white;position: relative;}#sk-container-id-17 div.sk-item::before, #sk-container-id-17 div.sk-parallel-item::before {content: \"\";position: absolute;border-left: 1px solid gray;box-sizing: border-box;top: 0;bottom: 0;left: 50%;z-index: -1;}#sk-container-id-17 div.sk-parallel-item {display: flex;flex-direction: column;z-index: 1;position: relative;background-color: white;}#sk-container-id-17 div.sk-parallel-item:first-child::after {align-self: flex-end;width: 50%;}#sk-container-id-17 div.sk-parallel-item:last-child::after {align-self: flex-start;width: 50%;}#sk-container-id-17 div.sk-parallel-item:only-child::after {width: 0;}#sk-container-id-17 div.sk-dashed-wrapped {border: 1px dashed gray;margin: 0 0.4em 0.5em 0.4em;box-sizing: border-box;padding-bottom: 0.4em;background-color: white;}#sk-container-id-17 div.sk-label label {font-family: monospace;font-weight: bold;display: inline-block;line-height: 1.2em;}#sk-container-id-17 div.sk-label-container {text-align: center;}#sk-container-id-17 div.sk-container {/* jupyter's `normalize.less` sets `[hidden] { display: none; }` but bootstrap.min.css set `[hidden] { display: none !important; }` so we also need the `!important` here to be able to override the default hidden behavior on the sphinx rendered scikit-learn.org. See: https://github.com/scikit-learn/scikit-learn/issues/21755 */display: inline-block !important;position: relative;}#sk-container-id-17 div.sk-text-repr-fallback {display: none;}</style><div id=\"sk-container-id-17\" class=\"sk-top-container\"><div class=\"sk-text-repr-fallback\"><pre>GridSearchCV(cv=5,\n",
              "             estimator=RandomForestClassifier(class_weight={0: 0.092, 1: 0.908},\n",
              "                                              random_state=0),\n",
              "             param_grid={&#x27;max_depth&#x27;: [4, 5, 6],\n",
              "                         &#x27;max_features&#x27;: [&#x27;auto&#x27;, &#x27;sqrt&#x27;],\n",
              "                         &#x27;min_samples_split&#x27;: [2, 4, 6],\n",
              "                         &#x27;n_estimators&#x27;: [50, 60, 70]},\n",
              "             scoring=&#x27;recall&#x27;)</pre><b>In a Jupyter environment, please rerun this cell to show the HTML representation or trust the notebook. <br />On GitHub, the HTML representation is unable to render, please try loading this page with nbviewer.org.</b></div><div class=\"sk-container\" hidden><div class=\"sk-item sk-dashed-wrapped\"><div class=\"sk-label-container\"><div class=\"sk-label sk-toggleable\"><input class=\"sk-toggleable__control sk-hidden--visually\" id=\"sk-estimator-id-49\" type=\"checkbox\" ><label for=\"sk-estimator-id-49\" class=\"sk-toggleable__label sk-toggleable__label-arrow\">GridSearchCV</label><div class=\"sk-toggleable__content\"><pre>GridSearchCV(cv=5,\n",
              "             estimator=RandomForestClassifier(class_weight={0: 0.092, 1: 0.908},\n",
              "                                              random_state=0),\n",
              "             param_grid={&#x27;max_depth&#x27;: [4, 5, 6],\n",
              "                         &#x27;max_features&#x27;: [&#x27;auto&#x27;, &#x27;sqrt&#x27;],\n",
              "                         &#x27;min_samples_split&#x27;: [2, 4, 6],\n",
              "                         &#x27;n_estimators&#x27;: [50, 60, 70]},\n",
              "             scoring=&#x27;recall&#x27;)</pre></div></div></div><div class=\"sk-parallel\"><div class=\"sk-parallel-item\"><div class=\"sk-item\"><div class=\"sk-label-container\"><div class=\"sk-label sk-toggleable\"><input class=\"sk-toggleable__control sk-hidden--visually\" id=\"sk-estimator-id-50\" type=\"checkbox\" ><label for=\"sk-estimator-id-50\" class=\"sk-toggleable__label sk-toggleable__label-arrow\">estimator: RandomForestClassifier</label><div class=\"sk-toggleable__content\"><pre>RandomForestClassifier(class_weight={0: 0.092, 1: 0.908}, random_state=0)</pre></div></div></div><div class=\"sk-serial\"><div class=\"sk-item\"><div class=\"sk-estimator sk-toggleable\"><input class=\"sk-toggleable__control sk-hidden--visually\" id=\"sk-estimator-id-51\" type=\"checkbox\" ><label for=\"sk-estimator-id-51\" class=\"sk-toggleable__label sk-toggleable__label-arrow\">RandomForestClassifier</label><div class=\"sk-toggleable__content\"><pre>RandomForestClassifier(class_weight={0: 0.092, 1: 0.908}, random_state=0)</pre></div></div></div></div></div></div></div></div></div></div>"
            ]
          },
          "metadata": {},
          "execution_count": 236
        }
      ],
      "source": [
        "forest_param = {'n_estimators': [50,60,70],\n",
        "                'max_depth' : [4,5,6],\n",
        "                'max_features':['auto','sqrt'],\n",
        "                'min_samples_split':[2,4,6],\n",
        "                }\n",
        "grid_forest = GridSearchCV(estimator = RandomForestClassifier(random_state = 0,class_weight = {0:.092, 1:.908}),\n",
        "                           param_grid=forest_param, cv= 5,scoring = 'recall')\n",
        "grid_forest.fit(X_train, y_train)"
      ]
    },
    {
      "cell_type": "code",
      "execution_count": 237,
      "metadata": {
        "id": "Z3naGQIuKoEz",
        "colab": {
          "base_uri": "https://localhost:8080/"
        },
        "outputId": "e6d0dd98-763b-4c6c-b85e-e0e72cbf7130"
      },
      "outputs": [
        {
          "output_type": "execute_result",
          "data": {
            "text/plain": [
              "{'max_depth': 4,\n",
              " 'max_features': 'auto',\n",
              " 'min_samples_split': 4,\n",
              " 'n_estimators': 50}"
            ]
          },
          "metadata": {},
          "execution_count": 237
        }
      ],
      "source": [
        "grid_forest.best_params_"
      ]
    },
    {
      "cell_type": "code",
      "execution_count": 238,
      "metadata": {
        "id": "V2VI53nKKoEz",
        "colab": {
          "base_uri": "https://localhost:8080/",
          "height": 459
        },
        "outputId": "b9166fb5-66cd-43c7-d014-ee4d4a34bc7d"
      },
      "outputs": [
        {
          "output_type": "stream",
          "name": "stdout",
          "text": [
            "              precision    recall  f1-score   support\n",
            "\n",
            "           0       0.98      0.94      0.96       513\n",
            "           1       0.59      0.84      0.69        55\n",
            "\n",
            "    accuracy                           0.93       568\n",
            "   macro avg       0.79      0.89      0.83       568\n",
            "weighted avg       0.94      0.93      0.93       568\n",
            "\n",
            "Random Forest Accuracy Train: 93.0%\n",
            "              precision    recall  f1-score   support\n",
            "\n",
            "           0       0.98      0.92      0.95       132\n",
            "           1       0.42      0.80      0.55        10\n",
            "\n",
            "    accuracy                           0.91       142\n",
            "   macro avg       0.70      0.86      0.75       142\n",
            "weighted avg       0.94      0.91      0.92       142\n",
            "\n",
            "Random Forest Accuracy: 91.0%\n"
          ]
        },
        {
          "output_type": "execute_result",
          "data": {
            "text/plain": [
              "<pandas.io.formats.style.Styler at 0x7f1836c188e0>"
            ],
            "text/html": [
              "<style type=\"text/css\">\n",
              "#T_12741_row0_col0, #T_12741_row0_col1 {\n",
              "  background-color: #00441b;\n",
              "  color: #f1f1f1;\n",
              "}\n",
              "#T_12741_row1_col0, #T_12741_row1_col1 {\n",
              "  background-color: #f7fcf5;\n",
              "  color: #000000;\n",
              "}\n",
              "</style>\n",
              "<table id=\"T_12741\" class=\"dataframe\">\n",
              "  <thead>\n",
              "    <tr>\n",
              "      <th class=\"blank level0\" >&nbsp;</th>\n",
              "      <th id=\"T_12741_level0_col0\" class=\"col_heading level0 col0\" >Predict No Distress</th>\n",
              "      <th id=\"T_12741_level0_col1\" class=\"col_heading level0 col1\" >Predict Distress</th>\n",
              "    </tr>\n",
              "  </thead>\n",
              "  <tbody>\n",
              "    <tr>\n",
              "      <th id=\"T_12741_level0_row0\" class=\"row_heading level0 row0\" >Actual No Distress</th>\n",
              "      <td id=\"T_12741_row0_col0\" class=\"data row0 col0\" >121</td>\n",
              "      <td id=\"T_12741_row0_col1\" class=\"data row0 col1\" >11</td>\n",
              "    </tr>\n",
              "    <tr>\n",
              "      <th id=\"T_12741_level0_row1\" class=\"row_heading level0 row1\" >Actual Distress</th>\n",
              "      <td id=\"T_12741_row1_col0\" class=\"data row1 col0\" >2</td>\n",
              "      <td id=\"T_12741_row1_col1\" class=\"data row1 col1\" >8</td>\n",
              "    </tr>\n",
              "  </tbody>\n",
              "</table>\n"
            ]
          },
          "metadata": {},
          "execution_count": 238
        }
      ],
      "source": [
        "y_pred_grid_forest = grid_forest.predict(X_test)\n",
        "y_pred_grid_forest_train = grid_forest.predict(X_train)\n",
        "print(classification_report(y_train, y_pred_grid_forest_train))\n",
        "print(f'Random Forest Accuracy Train: {100*round(accuracy_score(y_train, y_pred_grid_forest_train),2)}%')\n",
        "confusion_matrix_df(y_train, y_pred_grid_forest_train)\n",
        "print(classification_report(y_test, y_pred_grid_forest))\n",
        "print(f'Random Forest Accuracy: {100*round(accuracy_score(y_test, y_pred_grid_forest),2)}%')\n",
        "confusion_matrix_df(y_test,y_pred_grid_forest)"
      ]
    },
    {
      "cell_type": "code",
      "source": [
        "from xgboost import XGBClassifier\n",
        "XGB = XGBClassifier(objective='binary:logistic', random_state=0,\n",
        "                                         max_depth = 4,\n",
        "                                         n_estimators = 50,\n",
        "                                        scale_pos_weight = 9,\n",
        "                                        subsample = 0.8,\n",
        "                                        colsample_bytree = 0.8)\n",
        "model_XGB = XGB.fit(X_train, y_train)\n",
        "y_pred_XGB = model_XGB.predict(X_test)\n",
        "y_pred_XGB_train = model_XGB.predict(X_train)\n",
        "print(classification_report(y_train, y_pred_XGB_train))\n",
        "print(f'XGB Accuracy Train: {100*round(accuracy_score(y_train, y_pred_XGB_train),2)}%')\n",
        "confusion_matrix_df(y_train, y_pred_XGB_train)\n",
        "print(classification_report(y_test, y_pred_XGB))\n",
        "print(f'XGB Accuracy: {100*round(accuracy_score(y_test, y_pred_XGB),2)}%')\n",
        "confusion_matrix_df(y_test,y_pred_XGB)"
      ],
      "metadata": {
        "colab": {
          "base_uri": "https://localhost:8080/",
          "height": 459
        },
        "id": "ribAK52Sibap",
        "outputId": "ce8b847d-3473-4c16-9c72-50b6933baa19"
      },
      "execution_count": 239,
      "outputs": [
        {
          "output_type": "stream",
          "name": "stdout",
          "text": [
            "              precision    recall  f1-score   support\n",
            "\n",
            "           0       1.00      1.00      1.00       513\n",
            "           1       1.00      1.00      1.00        55\n",
            "\n",
            "    accuracy                           1.00       568\n",
            "   macro avg       1.00      1.00      1.00       568\n",
            "weighted avg       1.00      1.00      1.00       568\n",
            "\n",
            "XGB Accuracy Train: 100.0%\n",
            "              precision    recall  f1-score   support\n",
            "\n",
            "           0       0.98      0.93      0.96       132\n",
            "           1       0.47      0.80      0.59        10\n",
            "\n",
            "    accuracy                           0.92       142\n",
            "   macro avg       0.73      0.87      0.77       142\n",
            "weighted avg       0.95      0.92      0.93       142\n",
            "\n",
            "XGB Accuracy: 92.0%\n"
          ]
        },
        {
          "output_type": "execute_result",
          "data": {
            "text/plain": [
              "<pandas.io.formats.style.Styler at 0x7f18523a5000>"
            ],
            "text/html": [
              "<style type=\"text/css\">\n",
              "#T_26eba_row0_col0, #T_26eba_row0_col1 {\n",
              "  background-color: #00441b;\n",
              "  color: #f1f1f1;\n",
              "}\n",
              "#T_26eba_row1_col0, #T_26eba_row1_col1 {\n",
              "  background-color: #f7fcf5;\n",
              "  color: #000000;\n",
              "}\n",
              "</style>\n",
              "<table id=\"T_26eba\" class=\"dataframe\">\n",
              "  <thead>\n",
              "    <tr>\n",
              "      <th class=\"blank level0\" >&nbsp;</th>\n",
              "      <th id=\"T_26eba_level0_col0\" class=\"col_heading level0 col0\" >Predict No Distress</th>\n",
              "      <th id=\"T_26eba_level0_col1\" class=\"col_heading level0 col1\" >Predict Distress</th>\n",
              "    </tr>\n",
              "  </thead>\n",
              "  <tbody>\n",
              "    <tr>\n",
              "      <th id=\"T_26eba_level0_row0\" class=\"row_heading level0 row0\" >Actual No Distress</th>\n",
              "      <td id=\"T_26eba_row0_col0\" class=\"data row0 col0\" >123</td>\n",
              "      <td id=\"T_26eba_row0_col1\" class=\"data row0 col1\" >9</td>\n",
              "    </tr>\n",
              "    <tr>\n",
              "      <th id=\"T_26eba_level0_row1\" class=\"row_heading level0 row1\" >Actual Distress</th>\n",
              "      <td id=\"T_26eba_row1_col0\" class=\"data row1 col0\" >2</td>\n",
              "      <td id=\"T_26eba_row1_col1\" class=\"data row1 col1\" >8</td>\n",
              "    </tr>\n",
              "  </tbody>\n",
              "</table>\n"
            ]
          },
          "metadata": {},
          "execution_count": 239
        }
      ]
    },
    {
      "cell_type": "code",
      "source": [
        "forest_param_up = {'n_estimators': [50,60,70,80],\n",
        "                    'max_depth' : [4,5,6,7,8],\n",
        "                    'learning_rate': [0.025,0.050,0.075,0.1,0.2]}\n",
        "grid_forest_up = GridSearchCV(estimator = XGBClassifier(random_state = 0,objective='binary:logistic',subsample = 0.8,\n",
        "                             colsample_bytree = 0.8,scale_pos_weight = 9),\n",
        "                           param_grid=forest_param_up, cv= 5,scoring = 'recall')\n",
        "grid_forest_up.fit(X_train, y_train)"
      ],
      "metadata": {
        "colab": {
          "base_uri": "https://localhost:8080/",
          "height": 118
        },
        "id": "_k568VWgicgb",
        "outputId": "3171e6f9-2b5f-45cf-867b-e0f064e72779"
      },
      "execution_count": 240,
      "outputs": [
        {
          "output_type": "execute_result",
          "data": {
            "text/plain": [
              "GridSearchCV(cv=5,\n",
              "             estimator=XGBClassifier(base_score=None, booster=None,\n",
              "                                     callbacks=None, colsample_bylevel=None,\n",
              "                                     colsample_bynode=None,\n",
              "                                     colsample_bytree=0.8,\n",
              "                                     early_stopping_rounds=None,\n",
              "                                     enable_categorical=False, eval_metric=None,\n",
              "                                     feature_types=None, gamma=None,\n",
              "                                     gpu_id=None, grow_policy=None,\n",
              "                                     importance_type=None,\n",
              "                                     interaction_constraints=None,\n",
              "                                     learning_rate=None, m...\n",
              "                                     max_cat_threshold=None,\n",
              "                                     max_cat_to_onehot=None,\n",
              "                                     max_delta_step=None, max_depth=None,\n",
              "                                     max_leaves=None, min_child_weight=None,\n",
              "                                     missing=nan, monotone_constraints=None,\n",
              "                                     n_estimators=100, n_jobs=None,\n",
              "                                     num_parallel_tree=None, predictor=None,\n",
              "                                     random_state=0, ...),\n",
              "             param_grid={'learning_rate': [0.025, 0.05, 0.075, 0.1, 0.2],\n",
              "                         'max_depth': [4, 5, 6, 7, 8],\n",
              "                         'n_estimators': [50, 60, 70, 80]},\n",
              "             scoring='recall')"
            ],
            "text/html": [
              "<style>#sk-container-id-18 {color: black;background-color: white;}#sk-container-id-18 pre{padding: 0;}#sk-container-id-18 div.sk-toggleable {background-color: white;}#sk-container-id-18 label.sk-toggleable__label {cursor: pointer;display: block;width: 100%;margin-bottom: 0;padding: 0.3em;box-sizing: border-box;text-align: center;}#sk-container-id-18 label.sk-toggleable__label-arrow:before {content: \"▸\";float: left;margin-right: 0.25em;color: #696969;}#sk-container-id-18 label.sk-toggleable__label-arrow:hover:before {color: black;}#sk-container-id-18 div.sk-estimator:hover label.sk-toggleable__label-arrow:before {color: black;}#sk-container-id-18 div.sk-toggleable__content {max-height: 0;max-width: 0;overflow: hidden;text-align: left;background-color: #f0f8ff;}#sk-container-id-18 div.sk-toggleable__content pre {margin: 0.2em;color: black;border-radius: 0.25em;background-color: #f0f8ff;}#sk-container-id-18 input.sk-toggleable__control:checked~div.sk-toggleable__content {max-height: 200px;max-width: 100%;overflow: auto;}#sk-container-id-18 input.sk-toggleable__control:checked~label.sk-toggleable__label-arrow:before {content: \"▾\";}#sk-container-id-18 div.sk-estimator input.sk-toggleable__control:checked~label.sk-toggleable__label {background-color: #d4ebff;}#sk-container-id-18 div.sk-label input.sk-toggleable__control:checked~label.sk-toggleable__label {background-color: #d4ebff;}#sk-container-id-18 input.sk-hidden--visually {border: 0;clip: rect(1px 1px 1px 1px);clip: rect(1px, 1px, 1px, 1px);height: 1px;margin: -1px;overflow: hidden;padding: 0;position: absolute;width: 1px;}#sk-container-id-18 div.sk-estimator {font-family: monospace;background-color: #f0f8ff;border: 1px dotted black;border-radius: 0.25em;box-sizing: border-box;margin-bottom: 0.5em;}#sk-container-id-18 div.sk-estimator:hover {background-color: #d4ebff;}#sk-container-id-18 div.sk-parallel-item::after {content: \"\";width: 100%;border-bottom: 1px solid gray;flex-grow: 1;}#sk-container-id-18 div.sk-label:hover label.sk-toggleable__label {background-color: #d4ebff;}#sk-container-id-18 div.sk-serial::before {content: \"\";position: absolute;border-left: 1px solid gray;box-sizing: border-box;top: 0;bottom: 0;left: 50%;z-index: 0;}#sk-container-id-18 div.sk-serial {display: flex;flex-direction: column;align-items: center;background-color: white;padding-right: 0.2em;padding-left: 0.2em;position: relative;}#sk-container-id-18 div.sk-item {position: relative;z-index: 1;}#sk-container-id-18 div.sk-parallel {display: flex;align-items: stretch;justify-content: center;background-color: white;position: relative;}#sk-container-id-18 div.sk-item::before, #sk-container-id-18 div.sk-parallel-item::before {content: \"\";position: absolute;border-left: 1px solid gray;box-sizing: border-box;top: 0;bottom: 0;left: 50%;z-index: -1;}#sk-container-id-18 div.sk-parallel-item {display: flex;flex-direction: column;z-index: 1;position: relative;background-color: white;}#sk-container-id-18 div.sk-parallel-item:first-child::after {align-self: flex-end;width: 50%;}#sk-container-id-18 div.sk-parallel-item:last-child::after {align-self: flex-start;width: 50%;}#sk-container-id-18 div.sk-parallel-item:only-child::after {width: 0;}#sk-container-id-18 div.sk-dashed-wrapped {border: 1px dashed gray;margin: 0 0.4em 0.5em 0.4em;box-sizing: border-box;padding-bottom: 0.4em;background-color: white;}#sk-container-id-18 div.sk-label label {font-family: monospace;font-weight: bold;display: inline-block;line-height: 1.2em;}#sk-container-id-18 div.sk-label-container {text-align: center;}#sk-container-id-18 div.sk-container {/* jupyter's `normalize.less` sets `[hidden] { display: none; }` but bootstrap.min.css set `[hidden] { display: none !important; }` so we also need the `!important` here to be able to override the default hidden behavior on the sphinx rendered scikit-learn.org. See: https://github.com/scikit-learn/scikit-learn/issues/21755 */display: inline-block !important;position: relative;}#sk-container-id-18 div.sk-text-repr-fallback {display: none;}</style><div id=\"sk-container-id-18\" class=\"sk-top-container\"><div class=\"sk-text-repr-fallback\"><pre>GridSearchCV(cv=5,\n",
              "             estimator=XGBClassifier(base_score=None, booster=None,\n",
              "                                     callbacks=None, colsample_bylevel=None,\n",
              "                                     colsample_bynode=None,\n",
              "                                     colsample_bytree=0.8,\n",
              "                                     early_stopping_rounds=None,\n",
              "                                     enable_categorical=False, eval_metric=None,\n",
              "                                     feature_types=None, gamma=None,\n",
              "                                     gpu_id=None, grow_policy=None,\n",
              "                                     importance_type=None,\n",
              "                                     interaction_constraints=None,\n",
              "                                     learning_rate=None, m...\n",
              "                                     max_cat_threshold=None,\n",
              "                                     max_cat_to_onehot=None,\n",
              "                                     max_delta_step=None, max_depth=None,\n",
              "                                     max_leaves=None, min_child_weight=None,\n",
              "                                     missing=nan, monotone_constraints=None,\n",
              "                                     n_estimators=100, n_jobs=None,\n",
              "                                     num_parallel_tree=None, predictor=None,\n",
              "                                     random_state=0, ...),\n",
              "             param_grid={&#x27;learning_rate&#x27;: [0.025, 0.05, 0.075, 0.1, 0.2],\n",
              "                         &#x27;max_depth&#x27;: [4, 5, 6, 7, 8],\n",
              "                         &#x27;n_estimators&#x27;: [50, 60, 70, 80]},\n",
              "             scoring=&#x27;recall&#x27;)</pre><b>In a Jupyter environment, please rerun this cell to show the HTML representation or trust the notebook. <br />On GitHub, the HTML representation is unable to render, please try loading this page with nbviewer.org.</b></div><div class=\"sk-container\" hidden><div class=\"sk-item sk-dashed-wrapped\"><div class=\"sk-label-container\"><div class=\"sk-label sk-toggleable\"><input class=\"sk-toggleable__control sk-hidden--visually\" id=\"sk-estimator-id-52\" type=\"checkbox\" ><label for=\"sk-estimator-id-52\" class=\"sk-toggleable__label sk-toggleable__label-arrow\">GridSearchCV</label><div class=\"sk-toggleable__content\"><pre>GridSearchCV(cv=5,\n",
              "             estimator=XGBClassifier(base_score=None, booster=None,\n",
              "                                     callbacks=None, colsample_bylevel=None,\n",
              "                                     colsample_bynode=None,\n",
              "                                     colsample_bytree=0.8,\n",
              "                                     early_stopping_rounds=None,\n",
              "                                     enable_categorical=False, eval_metric=None,\n",
              "                                     feature_types=None, gamma=None,\n",
              "                                     gpu_id=None, grow_policy=None,\n",
              "                                     importance_type=None,\n",
              "                                     interaction_constraints=None,\n",
              "                                     learning_rate=None, m...\n",
              "                                     max_cat_threshold=None,\n",
              "                                     max_cat_to_onehot=None,\n",
              "                                     max_delta_step=None, max_depth=None,\n",
              "                                     max_leaves=None, min_child_weight=None,\n",
              "                                     missing=nan, monotone_constraints=None,\n",
              "                                     n_estimators=100, n_jobs=None,\n",
              "                                     num_parallel_tree=None, predictor=None,\n",
              "                                     random_state=0, ...),\n",
              "             param_grid={&#x27;learning_rate&#x27;: [0.025, 0.05, 0.075, 0.1, 0.2],\n",
              "                         &#x27;max_depth&#x27;: [4, 5, 6, 7, 8],\n",
              "                         &#x27;n_estimators&#x27;: [50, 60, 70, 80]},\n",
              "             scoring=&#x27;recall&#x27;)</pre></div></div></div><div class=\"sk-parallel\"><div class=\"sk-parallel-item\"><div class=\"sk-item\"><div class=\"sk-label-container\"><div class=\"sk-label sk-toggleable\"><input class=\"sk-toggleable__control sk-hidden--visually\" id=\"sk-estimator-id-53\" type=\"checkbox\" ><label for=\"sk-estimator-id-53\" class=\"sk-toggleable__label sk-toggleable__label-arrow\">estimator: XGBClassifier</label><div class=\"sk-toggleable__content\"><pre>XGBClassifier(base_score=None, booster=None, callbacks=None,\n",
              "              colsample_bylevel=None, colsample_bynode=None,\n",
              "              colsample_bytree=0.8, early_stopping_rounds=None,\n",
              "              enable_categorical=False, eval_metric=None, feature_types=None,\n",
              "              gamma=None, gpu_id=None, grow_policy=None, importance_type=None,\n",
              "              interaction_constraints=None, learning_rate=None, max_bin=None,\n",
              "              max_cat_threshold=None, max_cat_to_onehot=None,\n",
              "              max_delta_step=None, max_depth=None, max_leaves=None,\n",
              "              min_child_weight=None, missing=nan, monotone_constraints=None,\n",
              "              n_estimators=100, n_jobs=None, num_parallel_tree=None,\n",
              "              predictor=None, random_state=0, ...)</pre></div></div></div><div class=\"sk-serial\"><div class=\"sk-item\"><div class=\"sk-estimator sk-toggleable\"><input class=\"sk-toggleable__control sk-hidden--visually\" id=\"sk-estimator-id-54\" type=\"checkbox\" ><label for=\"sk-estimator-id-54\" class=\"sk-toggleable__label sk-toggleable__label-arrow\">XGBClassifier</label><div class=\"sk-toggleable__content\"><pre>XGBClassifier(base_score=None, booster=None, callbacks=None,\n",
              "              colsample_bylevel=None, colsample_bynode=None,\n",
              "              colsample_bytree=0.8, early_stopping_rounds=None,\n",
              "              enable_categorical=False, eval_metric=None, feature_types=None,\n",
              "              gamma=None, gpu_id=None, grow_policy=None, importance_type=None,\n",
              "              interaction_constraints=None, learning_rate=None, max_bin=None,\n",
              "              max_cat_threshold=None, max_cat_to_onehot=None,\n",
              "              max_delta_step=None, max_depth=None, max_leaves=None,\n",
              "              min_child_weight=None, missing=nan, monotone_constraints=None,\n",
              "              n_estimators=100, n_jobs=None, num_parallel_tree=None,\n",
              "              predictor=None, random_state=0, ...)</pre></div></div></div></div></div></div></div></div></div></div>"
            ]
          },
          "metadata": {},
          "execution_count": 240
        }
      ]
    },
    {
      "cell_type": "code",
      "source": [
        "grid_forest_up.best_params_\n"
      ],
      "metadata": {
        "colab": {
          "base_uri": "https://localhost:8080/"
        },
        "id": "LZ7YqpH3ixjh",
        "outputId": "cd60d51f-1614-42ce-c84f-8af3176cea60"
      },
      "execution_count": 241,
      "outputs": [
        {
          "output_type": "execute_result",
          "data": {
            "text/plain": [
              "{'learning_rate': 0.025, 'max_depth': 4, 'n_estimators': 50}"
            ]
          },
          "metadata": {},
          "execution_count": 241
        }
      ]
    },
    {
      "cell_type": "code",
      "source": [
        "y_pred_grid_forest_up = grid_forest_up.predict(X_test)\n",
        "y_pred_grid_forest_up_train = grid_forest_up.predict(X_train)\n",
        "print(classification_report(y_train, y_pred_grid_forest_up_train))\n",
        "print(f'Random Forest Accuracy Train: {100*round(accuracy_score(y_train, y_pred_grid_forest_up_train),2)}%')\n",
        "confusion_matrix_df(y_train, y_pred_grid_forest_up_train)\n",
        "print(classification_report(y_test, y_pred_grid_forest_up))\n",
        "print(f'Random Forest Accuracy: {100*round(accuracy_score(y_test, y_pred_grid_forest_up),2)}%')\n",
        "confusion_matrix_df(y_test,y_pred_grid_forest_up)"
      ],
      "metadata": {
        "colab": {
          "base_uri": "https://localhost:8080/",
          "height": 459
        },
        "id": "iTBlkMxDjEgh",
        "outputId": "3cb35510-2ef2-4e22-aad2-8989d0a89367"
      },
      "execution_count": 242,
      "outputs": [
        {
          "output_type": "stream",
          "name": "stdout",
          "text": [
            "              precision    recall  f1-score   support\n",
            "\n",
            "           0       0.99      0.94      0.96       513\n",
            "           1       0.61      0.93      0.73        55\n",
            "\n",
            "    accuracy                           0.93       568\n",
            "   macro avg       0.80      0.93      0.85       568\n",
            "weighted avg       0.95      0.93      0.94       568\n",
            "\n",
            "Random Forest Accuracy Train: 93.0%\n",
            "              precision    recall  f1-score   support\n",
            "\n",
            "           0       0.98      0.90      0.94       132\n",
            "           1       0.38      0.80      0.52        10\n",
            "\n",
            "    accuracy                           0.89       142\n",
            "   macro avg       0.68      0.85      0.73       142\n",
            "weighted avg       0.94      0.89      0.91       142\n",
            "\n",
            "Random Forest Accuracy: 89.0%\n"
          ]
        },
        {
          "output_type": "execute_result",
          "data": {
            "text/plain": [
              "<pandas.io.formats.style.Styler at 0x7f184cd93220>"
            ],
            "text/html": [
              "<style type=\"text/css\">\n",
              "#T_6f4bb_row0_col0, #T_6f4bb_row0_col1 {\n",
              "  background-color: #00441b;\n",
              "  color: #f1f1f1;\n",
              "}\n",
              "#T_6f4bb_row1_col0, #T_6f4bb_row1_col1 {\n",
              "  background-color: #f7fcf5;\n",
              "  color: #000000;\n",
              "}\n",
              "</style>\n",
              "<table id=\"T_6f4bb\" class=\"dataframe\">\n",
              "  <thead>\n",
              "    <tr>\n",
              "      <th class=\"blank level0\" >&nbsp;</th>\n",
              "      <th id=\"T_6f4bb_level0_col0\" class=\"col_heading level0 col0\" >Predict No Distress</th>\n",
              "      <th id=\"T_6f4bb_level0_col1\" class=\"col_heading level0 col1\" >Predict Distress</th>\n",
              "    </tr>\n",
              "  </thead>\n",
              "  <tbody>\n",
              "    <tr>\n",
              "      <th id=\"T_6f4bb_level0_row0\" class=\"row_heading level0 row0\" >Actual No Distress</th>\n",
              "      <td id=\"T_6f4bb_row0_col0\" class=\"data row0 col0\" >119</td>\n",
              "      <td id=\"T_6f4bb_row0_col1\" class=\"data row0 col1\" >13</td>\n",
              "    </tr>\n",
              "    <tr>\n",
              "      <th id=\"T_6f4bb_level0_row1\" class=\"row_heading level0 row1\" >Actual Distress</th>\n",
              "      <td id=\"T_6f4bb_row1_col0\" class=\"data row1 col0\" >2</td>\n",
              "      <td id=\"T_6f4bb_row1_col1\" class=\"data row1 col1\" >8</td>\n",
              "    </tr>\n",
              "  </tbody>\n",
              "</table>\n"
            ]
          },
          "metadata": {},
          "execution_count": 242
        }
      ]
    },
    {
      "cell_type": "markdown",
      "metadata": {
        "id": "JWAgdUToKoE0"
      },
      "source": [
        "## LOGISTIC REGRESSION"
      ]
    },
    {
      "cell_type": "markdown",
      "metadata": {
        "id": "mSt9KAxnKoE0"
      },
      "source": [
        "***SCALE THE DATA***"
      ]
    },
    {
      "cell_type": "code",
      "execution_count": 243,
      "metadata": {
        "id": "mQdWJEmLKoE1"
      },
      "outputs": [],
      "source": [
        "from sklearn.preprocessing import StandardScaler\n",
        "sc = StandardScaler()\n",
        "X_train = sc.fit_transform(X_train)\n",
        "X_test = sc.transform(X_test)"
      ]
    },
    {
      "cell_type": "markdown",
      "metadata": {
        "id": "bvMN5RVrKoE1"
      },
      "source": [
        "***FIT THE DATA AND MAKE PREDICTION***"
      ]
    },
    {
      "cell_type": "code",
      "execution_count": 244,
      "metadata": {
        "id": "y2nQpzh5KoE1",
        "colab": {
          "base_uri": "https://localhost:8080/",
          "height": 459
        },
        "outputId": "61f95ef9-85a8-4c03-bfef-f337627e58ab"
      },
      "outputs": [
        {
          "output_type": "stream",
          "name": "stdout",
          "text": [
            "              precision    recall  f1-score   support\n",
            "\n",
            "           0       0.97      0.71      0.82       513\n",
            "           1       0.22      0.76      0.34        55\n",
            "\n",
            "    accuracy                           0.71       568\n",
            "   macro avg       0.59      0.74      0.58       568\n",
            "weighted avg       0.89      0.71      0.77       568\n",
            "\n",
            "Logistic Regression Accuracy Train: 71.3%\n",
            "              precision    recall  f1-score   support\n",
            "\n",
            "           0       0.97      0.71      0.82       132\n",
            "           1       0.16      0.70      0.25        10\n",
            "\n",
            "    accuracy                           0.71       142\n",
            "   macro avg       0.56      0.71      0.54       142\n",
            "weighted avg       0.91      0.71      0.78       142\n",
            "\n",
            "Logistic Regression Accuracy: 71.13%\n"
          ]
        },
        {
          "output_type": "execute_result",
          "data": {
            "text/plain": [
              "<pandas.io.formats.style.Styler at 0x7f184cd92e90>"
            ],
            "text/html": [
              "<style type=\"text/css\">\n",
              "#T_9622f_row0_col0, #T_9622f_row0_col1 {\n",
              "  background-color: #00441b;\n",
              "  color: #f1f1f1;\n",
              "}\n",
              "#T_9622f_row1_col0, #T_9622f_row1_col1 {\n",
              "  background-color: #f7fcf5;\n",
              "  color: #000000;\n",
              "}\n",
              "</style>\n",
              "<table id=\"T_9622f\" class=\"dataframe\">\n",
              "  <thead>\n",
              "    <tr>\n",
              "      <th class=\"blank level0\" >&nbsp;</th>\n",
              "      <th id=\"T_9622f_level0_col0\" class=\"col_heading level0 col0\" >Predict No Distress</th>\n",
              "      <th id=\"T_9622f_level0_col1\" class=\"col_heading level0 col1\" >Predict Distress</th>\n",
              "    </tr>\n",
              "  </thead>\n",
              "  <tbody>\n",
              "    <tr>\n",
              "      <th id=\"T_9622f_level0_row0\" class=\"row_heading level0 row0\" >Actual No Distress</th>\n",
              "      <td id=\"T_9622f_row0_col0\" class=\"data row0 col0\" >94</td>\n",
              "      <td id=\"T_9622f_row0_col1\" class=\"data row0 col1\" >38</td>\n",
              "    </tr>\n",
              "    <tr>\n",
              "      <th id=\"T_9622f_level0_row1\" class=\"row_heading level0 row1\" >Actual Distress</th>\n",
              "      <td id=\"T_9622f_row1_col0\" class=\"data row1 col0\" >3</td>\n",
              "      <td id=\"T_9622f_row1_col1\" class=\"data row1 col1\" >7</td>\n",
              "    </tr>\n",
              "  </tbody>\n",
              "</table>\n"
            ]
          },
          "metadata": {},
          "execution_count": 244
        }
      ],
      "source": [
        "from scipy.stats import pearsonr,spearmanr\n",
        "from sklearn.metrics import accuracy_score,confusion_matrix,precision_score,f1_score,recall_score,classification_report\n",
        "from sklearn.linear_model import LogisticRegression\n",
        "from sklearn.metrics import confusion_matrix\n",
        "lr=LogisticRegression(random_state = 0,class_weight = {0:.092, 1:.908})\n",
        "model_lr = lr.fit(X_train, y_train)\n",
        "y_pred_lr = model_lr.predict(X_test)\n",
        "y_pred_lr_train = model_lr.predict(X_train)\n",
        "print(classification_report(y_train,y_pred_lr_train))\n",
        "print(f'Logistic Regression Accuracy Train: {round(100*accuracy_score(y_train,y_pred_lr_train),2)}%')\n",
        "confusion_matrix_df(y_train,y_pred_lr_train)\n",
        "print(classification_report(y_test,y_pred_lr))\n",
        "print(f'Logistic Regression Accuracy: {round(100*accuracy_score(y_test,y_pred_lr),2)}%')\n",
        "confusion_matrix_df(y_test,y_pred_lr)"
      ]
    },
    {
      "cell_type": "markdown",
      "metadata": {
        "id": "vD27fN17KoE2"
      },
      "source": [
        "***TUNE THE THRESHOLD OF THE MODEL***"
      ]
    },
    {
      "cell_type": "code",
      "execution_count": 245,
      "metadata": {
        "id": "uSyAgyeHKoE2",
        "colab": {
          "base_uri": "https://localhost:8080/"
        },
        "outputId": "ddceae2a-82f7-4a82-f02f-c42b7be84f50"
      },
      "outputs": [
        {
          "output_type": "stream",
          "name": "stdout",
          "text": [
            "THRESHOLD = 0.6\n",
            "Accuracy Train: 55.46%\n",
            "              precision    recall  f1-score   support\n",
            "\n",
            "           0       0.98      0.52      0.68       513\n",
            "           1       0.17      0.89      0.28        55\n",
            "\n",
            "    accuracy                           0.55       568\n",
            "   macro avg       0.57      0.70      0.48       568\n",
            "weighted avg       0.90      0.55      0.64       568\n",
            "\n",
            "Accuracy: 49.3%\n",
            "              precision    recall  f1-score   support\n",
            "\n",
            "           0       0.98      0.46      0.63       132\n",
            "           1       0.11      0.90      0.20        10\n",
            "\n",
            "    accuracy                           0.49       142\n",
            "   macro avg       0.55      0.68      0.41       142\n",
            "weighted avg       0.92      0.49      0.60       142\n",
            "\n",
            "THRESHOLD = 0.65\n",
            "Accuracy Train: 45.95%\n",
            "              precision    recall  f1-score   support\n",
            "\n",
            "           0       0.99      0.41      0.58       513\n",
            "           1       0.15      0.96      0.26        55\n",
            "\n",
            "    accuracy                           0.46       568\n",
            "   macro avg       0.57      0.68      0.42       568\n",
            "weighted avg       0.91      0.46      0.54       568\n",
            "\n",
            "Accuracy: 38.73%\n",
            "              precision    recall  f1-score   support\n",
            "\n",
            "           0       1.00      0.34      0.51       132\n",
            "           1       0.10      1.00      0.19        10\n",
            "\n",
            "    accuracy                           0.39       142\n",
            "   macro avg       0.55      0.67      0.35       142\n",
            "weighted avg       0.94      0.39      0.49       142\n",
            "\n",
            "THRESHOLD = 0.7\n",
            "Accuracy Train: 36.27%\n",
            "              precision    recall  f1-score   support\n",
            "\n",
            "           0       1.00      0.29      0.45       513\n",
            "           1       0.13      1.00      0.23        55\n",
            "\n",
            "    accuracy                           0.36       568\n",
            "   macro avg       0.57      0.65      0.34       568\n",
            "weighted avg       0.92      0.36      0.43       568\n",
            "\n",
            "Accuracy: 30.99%\n",
            "              precision    recall  f1-score   support\n",
            "\n",
            "           0       1.00      0.26      0.41       132\n",
            "           1       0.09      1.00      0.17        10\n",
            "\n",
            "    accuracy                           0.31       142\n",
            "   macro avg       0.55      0.63      0.29       142\n",
            "weighted avg       0.94      0.31      0.39       142\n",
            "\n",
            "THRESHOLD = 0.75\n",
            "Accuracy Train: 30.28%\n",
            "              precision    recall  f1-score   support\n",
            "\n",
            "           0       1.00      0.23      0.37       513\n",
            "           1       0.12      1.00      0.22        55\n",
            "\n",
            "    accuracy                           0.30       568\n",
            "   macro avg       0.56      0.61      0.29       568\n",
            "weighted avg       0.91      0.30      0.36       568\n",
            "\n",
            "Accuracy: 27.46%\n",
            "              precision    recall  f1-score   support\n",
            "\n",
            "           0       1.00      0.22      0.36       132\n",
            "           1       0.09      1.00      0.16        10\n",
            "\n",
            "    accuracy                           0.27       142\n",
            "   macro avg       0.54      0.61      0.26       142\n",
            "weighted avg       0.94      0.27      0.35       142\n",
            "\n",
            "THRESHOLD = 0.8\n",
            "Accuracy Train: 24.82%\n",
            "              precision    recall  f1-score   support\n",
            "\n",
            "           0       1.00      0.17      0.29       513\n",
            "           1       0.11      1.00      0.20        55\n",
            "\n",
            "    accuracy                           0.25       568\n",
            "   macro avg       0.56      0.58      0.25       568\n",
            "weighted avg       0.91      0.25      0.28       568\n",
            "\n",
            "Accuracy: 23.24%\n",
            "              precision    recall  f1-score   support\n",
            "\n",
            "           0       1.00      0.17      0.30       132\n",
            "           1       0.08      1.00      0.16        10\n",
            "\n",
            "    accuracy                           0.23       142\n",
            "   macro avg       0.54      0.59      0.23       142\n",
            "weighted avg       0.94      0.23      0.29       142\n",
            "\n",
            "THRESHOLD = 0.85\n",
            "Accuracy Train: 20.95%\n",
            "              precision    recall  f1-score   support\n",
            "\n",
            "           0       1.00      0.12      0.22       513\n",
            "           1       0.11      1.00      0.20        55\n",
            "\n",
            "    accuracy                           0.21       568\n",
            "   macro avg       0.55      0.56      0.21       568\n",
            "weighted avg       0.91      0.21      0.22       568\n",
            "\n",
            "Accuracy: 19.01%\n",
            "              precision    recall  f1-score   support\n",
            "\n",
            "           0       1.00      0.13      0.23       132\n",
            "           1       0.08      1.00      0.15        10\n",
            "\n",
            "    accuracy                           0.19       142\n",
            "   macro avg       0.54      0.56      0.19       142\n",
            "weighted avg       0.94      0.19      0.22       142\n",
            "\n",
            "THRESHOLD = 0.9\n",
            "Accuracy Train: 18.31%\n",
            "              precision    recall  f1-score   support\n",
            "\n",
            "           0       1.00      0.10      0.17       513\n",
            "           1       0.11      1.00      0.19        55\n",
            "\n",
            "    accuracy                           0.18       568\n",
            "   macro avg       0.55      0.55      0.18       568\n",
            "weighted avg       0.91      0.18      0.18       568\n",
            "\n",
            "Accuracy: 12.68%\n",
            "              precision    recall  f1-score   support\n",
            "\n",
            "           0       1.00      0.06      0.11       132\n",
            "           1       0.07      1.00      0.14        10\n",
            "\n",
            "    accuracy                           0.13       142\n",
            "   macro avg       0.54      0.53      0.13       142\n",
            "weighted avg       0.93      0.13      0.12       142\n",
            "\n",
            "THRESHOLD = 0.95\n",
            "Accuracy Train: 14.44%\n",
            "              precision    recall  f1-score   support\n",
            "\n",
            "           0       1.00      0.05      0.10       513\n",
            "           1       0.10      1.00      0.18        55\n",
            "\n",
            "    accuracy                           0.14       568\n",
            "   macro avg       0.55      0.53      0.14       568\n",
            "weighted avg       0.91      0.14      0.11       568\n",
            "\n",
            "Accuracy: 9.86%\n",
            "              precision    recall  f1-score   support\n",
            "\n",
            "           0       1.00      0.03      0.06       132\n",
            "           1       0.07      1.00      0.14        10\n",
            "\n",
            "    accuracy                           0.10       142\n",
            "   macro avg       0.54      0.52      0.10       142\n",
            "weighted avg       0.93      0.10      0.06       142\n",
            "\n"
          ]
        }
      ],
      "source": [
        "lr_tune = LogisticRegression(random_state = 0,class_weight = {0:.092, 1:.908})\n",
        "lr_tune.fit(X_train,y_train)\n",
        "for i in range(60,100,5):\n",
        "    print(f'THRESHOLD = {i/100}')\n",
        "    y_pred = np.where(lr_tune.predict_proba(X_test)[:,0] > i/100,0,1)\n",
        "    y_pred_train = np.where(lr_tune.predict_proba(X_train)[:,0] > i/100,0,1)\n",
        "    print(f'Accuracy Train: {round(100*accuracy_score(y_train,y_pred_train),2)}%')\n",
        "    print(classification_report(y_train,y_pred_train))\n",
        "    print(f'Accuracy: {round(100*accuracy_score(y_test,y_pred),2)}%')\n",
        "    print(classification_report(y_test,y_pred))"
      ]
    },
    {
      "cell_type": "markdown",
      "metadata": {
        "id": "WniybOl9KoE3"
      },
      "source": [
        "## K - NEAREST NEIGHBORS CLASSIFIER"
      ]
    },
    {
      "cell_type": "markdown",
      "metadata": {
        "id": "5SAWoyXaKoE3"
      },
      "source": [
        "***FIT THE DATA AND MAKE PREDICTION***"
      ]
    },
    {
      "cell_type": "code",
      "execution_count": 246,
      "metadata": {
        "id": "N-xWmWy1KoE4",
        "colab": {
          "base_uri": "https://localhost:8080/",
          "height": 459
        },
        "outputId": "12e0d632-47bb-4ac1-be86-b7621225f928"
      },
      "outputs": [
        {
          "output_type": "stream",
          "name": "stdout",
          "text": [
            "              precision    recall  f1-score   support\n",
            "\n",
            "           0       0.93      0.99      0.96       513\n",
            "           1       0.82      0.25      0.39        55\n",
            "\n",
            "    accuracy                           0.92       568\n",
            "   macro avg       0.87      0.62      0.67       568\n",
            "weighted avg       0.92      0.92      0.90       568\n",
            "\n",
            "KNN Accuracy Train: 92.0%\n",
            "              precision    recall  f1-score   support\n",
            "\n",
            "           0       0.95      0.99      0.97       132\n",
            "           1       0.75      0.30      0.43        10\n",
            "\n",
            "    accuracy                           0.94       142\n",
            "   macro avg       0.85      0.65      0.70       142\n",
            "weighted avg       0.94      0.94      0.93       142\n",
            "\n",
            "KNN Accuracy: 94.0%\n"
          ]
        },
        {
          "output_type": "execute_result",
          "data": {
            "text/plain": [
              "<pandas.io.formats.style.Styler at 0x7f184cd92860>"
            ],
            "text/html": [
              "<style type=\"text/css\">\n",
              "#T_67de4_row0_col0, #T_67de4_row1_col1 {\n",
              "  background-color: #00441b;\n",
              "  color: #f1f1f1;\n",
              "}\n",
              "#T_67de4_row0_col1, #T_67de4_row1_col0 {\n",
              "  background-color: #f7fcf5;\n",
              "  color: #000000;\n",
              "}\n",
              "</style>\n",
              "<table id=\"T_67de4\" class=\"dataframe\">\n",
              "  <thead>\n",
              "    <tr>\n",
              "      <th class=\"blank level0\" >&nbsp;</th>\n",
              "      <th id=\"T_67de4_level0_col0\" class=\"col_heading level0 col0\" >Predict No Distress</th>\n",
              "      <th id=\"T_67de4_level0_col1\" class=\"col_heading level0 col1\" >Predict Distress</th>\n",
              "    </tr>\n",
              "  </thead>\n",
              "  <tbody>\n",
              "    <tr>\n",
              "      <th id=\"T_67de4_level0_row0\" class=\"row_heading level0 row0\" >Actual No Distress</th>\n",
              "      <td id=\"T_67de4_row0_col0\" class=\"data row0 col0\" >131</td>\n",
              "      <td id=\"T_67de4_row0_col1\" class=\"data row0 col1\" >1</td>\n",
              "    </tr>\n",
              "    <tr>\n",
              "      <th id=\"T_67de4_level0_row1\" class=\"row_heading level0 row1\" >Actual Distress</th>\n",
              "      <td id=\"T_67de4_row1_col0\" class=\"data row1 col0\" >7</td>\n",
              "      <td id=\"T_67de4_row1_col1\" class=\"data row1 col1\" >3</td>\n",
              "    </tr>\n",
              "  </tbody>\n",
              "</table>\n"
            ]
          },
          "metadata": {},
          "execution_count": 246
        }
      ],
      "source": [
        "from sklearn.neighbors import KNeighborsClassifier\n",
        "model_knn = KNeighborsClassifier()\n",
        "model_knn.fit(X_train, y_train)\n",
        "y_pred_knn = model_knn.predict(X_test)\n",
        "y_pred_knn_train = model_knn.predict(X_train)\n",
        "print(classification_report(y_train,y_pred_knn_train))\n",
        "print(f'KNN Accuracy Train: {100*round(accuracy_score(y_train,y_pred_knn_train),2)}%')\n",
        "confusion_matrix_df(y_train,y_pred_knn_train)\n",
        "print(classification_report(y_test,y_pred_knn))\n",
        "print(f'KNN Accuracy: {100*round(accuracy_score(y_test, y_pred_knn),2)}%')\n",
        "confusion_matrix_df(y_test,y_pred_knn)"
      ]
    },
    {
      "cell_type": "markdown",
      "metadata": {
        "id": "Dx8lwbaxKoE5"
      },
      "source": [
        "***TUNE THE HYPERPARAMETERS OF THE MODEL***"
      ]
    },
    {
      "cell_type": "code",
      "execution_count": 247,
      "metadata": {
        "id": "ZDoY3EJ3KoE5",
        "colab": {
          "base_uri": "https://localhost:8080/",
          "height": 118
        },
        "outputId": "4c702230-78b9-47b7-c113-741cd4b49e6e"
      },
      "outputs": [
        {
          "output_type": "execute_result",
          "data": {
            "text/plain": [
              "GridSearchCV(cv=5, estimator=KNeighborsClassifier(),\n",
              "             param_grid={'algorithm': ['auto', 'ball_tree', 'kd_tree', 'brute'],\n",
              "                         'leaf_size': [10, 20, 40, 80],\n",
              "                         'n_neighbors': [1, 2, 3, 4, 5, 6, 7, 8, 9, 10, 11, 12,\n",
              "                                         13, 14, 15, 16, 17, 18, 19, 20, 21, 22,\n",
              "                                         23, 24, 25, 26, 27, 28, 29, 30, ...],\n",
              "                         'p': [1, 2]},\n",
              "             scoring='recall')"
            ],
            "text/html": [
              "<style>#sk-container-id-19 {color: black;background-color: white;}#sk-container-id-19 pre{padding: 0;}#sk-container-id-19 div.sk-toggleable {background-color: white;}#sk-container-id-19 label.sk-toggleable__label {cursor: pointer;display: block;width: 100%;margin-bottom: 0;padding: 0.3em;box-sizing: border-box;text-align: center;}#sk-container-id-19 label.sk-toggleable__label-arrow:before {content: \"▸\";float: left;margin-right: 0.25em;color: #696969;}#sk-container-id-19 label.sk-toggleable__label-arrow:hover:before {color: black;}#sk-container-id-19 div.sk-estimator:hover label.sk-toggleable__label-arrow:before {color: black;}#sk-container-id-19 div.sk-toggleable__content {max-height: 0;max-width: 0;overflow: hidden;text-align: left;background-color: #f0f8ff;}#sk-container-id-19 div.sk-toggleable__content pre {margin: 0.2em;color: black;border-radius: 0.25em;background-color: #f0f8ff;}#sk-container-id-19 input.sk-toggleable__control:checked~div.sk-toggleable__content {max-height: 200px;max-width: 100%;overflow: auto;}#sk-container-id-19 input.sk-toggleable__control:checked~label.sk-toggleable__label-arrow:before {content: \"▾\";}#sk-container-id-19 div.sk-estimator input.sk-toggleable__control:checked~label.sk-toggleable__label {background-color: #d4ebff;}#sk-container-id-19 div.sk-label input.sk-toggleable__control:checked~label.sk-toggleable__label {background-color: #d4ebff;}#sk-container-id-19 input.sk-hidden--visually {border: 0;clip: rect(1px 1px 1px 1px);clip: rect(1px, 1px, 1px, 1px);height: 1px;margin: -1px;overflow: hidden;padding: 0;position: absolute;width: 1px;}#sk-container-id-19 div.sk-estimator {font-family: monospace;background-color: #f0f8ff;border: 1px dotted black;border-radius: 0.25em;box-sizing: border-box;margin-bottom: 0.5em;}#sk-container-id-19 div.sk-estimator:hover {background-color: #d4ebff;}#sk-container-id-19 div.sk-parallel-item::after {content: \"\";width: 100%;border-bottom: 1px solid gray;flex-grow: 1;}#sk-container-id-19 div.sk-label:hover label.sk-toggleable__label {background-color: #d4ebff;}#sk-container-id-19 div.sk-serial::before {content: \"\";position: absolute;border-left: 1px solid gray;box-sizing: border-box;top: 0;bottom: 0;left: 50%;z-index: 0;}#sk-container-id-19 div.sk-serial {display: flex;flex-direction: column;align-items: center;background-color: white;padding-right: 0.2em;padding-left: 0.2em;position: relative;}#sk-container-id-19 div.sk-item {position: relative;z-index: 1;}#sk-container-id-19 div.sk-parallel {display: flex;align-items: stretch;justify-content: center;background-color: white;position: relative;}#sk-container-id-19 div.sk-item::before, #sk-container-id-19 div.sk-parallel-item::before {content: \"\";position: absolute;border-left: 1px solid gray;box-sizing: border-box;top: 0;bottom: 0;left: 50%;z-index: -1;}#sk-container-id-19 div.sk-parallel-item {display: flex;flex-direction: column;z-index: 1;position: relative;background-color: white;}#sk-container-id-19 div.sk-parallel-item:first-child::after {align-self: flex-end;width: 50%;}#sk-container-id-19 div.sk-parallel-item:last-child::after {align-self: flex-start;width: 50%;}#sk-container-id-19 div.sk-parallel-item:only-child::after {width: 0;}#sk-container-id-19 div.sk-dashed-wrapped {border: 1px dashed gray;margin: 0 0.4em 0.5em 0.4em;box-sizing: border-box;padding-bottom: 0.4em;background-color: white;}#sk-container-id-19 div.sk-label label {font-family: monospace;font-weight: bold;display: inline-block;line-height: 1.2em;}#sk-container-id-19 div.sk-label-container {text-align: center;}#sk-container-id-19 div.sk-container {/* jupyter's `normalize.less` sets `[hidden] { display: none; }` but bootstrap.min.css set `[hidden] { display: none !important; }` so we also need the `!important` here to be able to override the default hidden behavior on the sphinx rendered scikit-learn.org. See: https://github.com/scikit-learn/scikit-learn/issues/21755 */display: inline-block !important;position: relative;}#sk-container-id-19 div.sk-text-repr-fallback {display: none;}</style><div id=\"sk-container-id-19\" class=\"sk-top-container\"><div class=\"sk-text-repr-fallback\"><pre>GridSearchCV(cv=5, estimator=KNeighborsClassifier(),\n",
              "             param_grid={&#x27;algorithm&#x27;: [&#x27;auto&#x27;, &#x27;ball_tree&#x27;, &#x27;kd_tree&#x27;, &#x27;brute&#x27;],\n",
              "                         &#x27;leaf_size&#x27;: [10, 20, 40, 80],\n",
              "                         &#x27;n_neighbors&#x27;: [1, 2, 3, 4, 5, 6, 7, 8, 9, 10, 11, 12,\n",
              "                                         13, 14, 15, 16, 17, 18, 19, 20, 21, 22,\n",
              "                                         23, 24, 25, 26, 27, 28, 29, 30, ...],\n",
              "                         &#x27;p&#x27;: [1, 2]},\n",
              "             scoring=&#x27;recall&#x27;)</pre><b>In a Jupyter environment, please rerun this cell to show the HTML representation or trust the notebook. <br />On GitHub, the HTML representation is unable to render, please try loading this page with nbviewer.org.</b></div><div class=\"sk-container\" hidden><div class=\"sk-item sk-dashed-wrapped\"><div class=\"sk-label-container\"><div class=\"sk-label sk-toggleable\"><input class=\"sk-toggleable__control sk-hidden--visually\" id=\"sk-estimator-id-55\" type=\"checkbox\" ><label for=\"sk-estimator-id-55\" class=\"sk-toggleable__label sk-toggleable__label-arrow\">GridSearchCV</label><div class=\"sk-toggleable__content\"><pre>GridSearchCV(cv=5, estimator=KNeighborsClassifier(),\n",
              "             param_grid={&#x27;algorithm&#x27;: [&#x27;auto&#x27;, &#x27;ball_tree&#x27;, &#x27;kd_tree&#x27;, &#x27;brute&#x27;],\n",
              "                         &#x27;leaf_size&#x27;: [10, 20, 40, 80],\n",
              "                         &#x27;n_neighbors&#x27;: [1, 2, 3, 4, 5, 6, 7, 8, 9, 10, 11, 12,\n",
              "                                         13, 14, 15, 16, 17, 18, 19, 20, 21, 22,\n",
              "                                         23, 24, 25, 26, 27, 28, 29, 30, ...],\n",
              "                         &#x27;p&#x27;: [1, 2]},\n",
              "             scoring=&#x27;recall&#x27;)</pre></div></div></div><div class=\"sk-parallel\"><div class=\"sk-parallel-item\"><div class=\"sk-item\"><div class=\"sk-label-container\"><div class=\"sk-label sk-toggleable\"><input class=\"sk-toggleable__control sk-hidden--visually\" id=\"sk-estimator-id-56\" type=\"checkbox\" ><label for=\"sk-estimator-id-56\" class=\"sk-toggleable__label sk-toggleable__label-arrow\">estimator: KNeighborsClassifier</label><div class=\"sk-toggleable__content\"><pre>KNeighborsClassifier()</pre></div></div></div><div class=\"sk-serial\"><div class=\"sk-item\"><div class=\"sk-estimator sk-toggleable\"><input class=\"sk-toggleable__control sk-hidden--visually\" id=\"sk-estimator-id-57\" type=\"checkbox\" ><label for=\"sk-estimator-id-57\" class=\"sk-toggleable__label sk-toggleable__label-arrow\">KNeighborsClassifier</label><div class=\"sk-toggleable__content\"><pre>KNeighborsClassifier()</pre></div></div></div></div></div></div></div></div></div></div>"
            ]
          },
          "metadata": {},
          "execution_count": 247
        }
      ],
      "source": [
        "k_range = list(range(1, 51))\n",
        "knn_param = dict(n_neighbors = k_range,\n",
        "                 p = [1,2],\n",
        "                 leaf_size = [10,20,40,80],\n",
        "                 algorithm = ['auto', 'ball_tree', 'kd_tree', 'brute'])\n",
        "\n",
        "grid_knn = GridSearchCV(KNeighborsClassifier(), knn_param, cv=5,scoring = 'recall')\n",
        "grid_knn.fit(X_train, y_train)"
      ]
    },
    {
      "cell_type": "code",
      "execution_count": 248,
      "metadata": {
        "id": "P44BgwgTKoE6",
        "colab": {
          "base_uri": "https://localhost:8080/"
        },
        "outputId": "e862ff9b-8581-44a7-9ca9-1a73cfd94f9b"
      },
      "outputs": [
        {
          "output_type": "execute_result",
          "data": {
            "text/plain": [
              "{'algorithm': 'auto', 'leaf_size': 10, 'n_neighbors': 1, 'p': 1}"
            ]
          },
          "metadata": {},
          "execution_count": 248
        }
      ],
      "source": [
        "grid_knn.best_params_"
      ]
    },
    {
      "cell_type": "code",
      "execution_count": 249,
      "metadata": {
        "id": "PWSgRtmkKoE7",
        "colab": {
          "base_uri": "https://localhost:8080/",
          "height": 459
        },
        "outputId": "2d850095-2f03-4d80-a5ef-45fac14bed39"
      },
      "outputs": [
        {
          "output_type": "stream",
          "name": "stdout",
          "text": [
            "              precision    recall  f1-score   support\n",
            "\n",
            "           0       1.00      1.00      1.00       513\n",
            "           1       1.00      1.00      1.00        55\n",
            "\n",
            "    accuracy                           1.00       568\n",
            "   macro avg       1.00      1.00      1.00       568\n",
            "weighted avg       1.00      1.00      1.00       568\n",
            "\n",
            "KNN Accuracy Train: 100.0%\n",
            "              precision    recall  f1-score   support\n",
            "\n",
            "           0       0.96      0.95      0.96       132\n",
            "           1       0.45      0.50      0.48        10\n",
            "\n",
            "    accuracy                           0.92       142\n",
            "   macro avg       0.71      0.73      0.72       142\n",
            "weighted avg       0.93      0.92      0.92       142\n",
            "\n",
            "KNN Accuracy: 92.0%\n"
          ]
        },
        {
          "output_type": "execute_result",
          "data": {
            "text/plain": [
              "<pandas.io.formats.style.Styler at 0x7f1852ca5750>"
            ],
            "text/html": [
              "<style type=\"text/css\">\n",
              "#T_eff5d_row0_col0, #T_eff5d_row0_col1 {\n",
              "  background-color: #00441b;\n",
              "  color: #f1f1f1;\n",
              "}\n",
              "#T_eff5d_row1_col0, #T_eff5d_row1_col1 {\n",
              "  background-color: #f7fcf5;\n",
              "  color: #000000;\n",
              "}\n",
              "</style>\n",
              "<table id=\"T_eff5d\" class=\"dataframe\">\n",
              "  <thead>\n",
              "    <tr>\n",
              "      <th class=\"blank level0\" >&nbsp;</th>\n",
              "      <th id=\"T_eff5d_level0_col0\" class=\"col_heading level0 col0\" >Predict No Distress</th>\n",
              "      <th id=\"T_eff5d_level0_col1\" class=\"col_heading level0 col1\" >Predict Distress</th>\n",
              "    </tr>\n",
              "  </thead>\n",
              "  <tbody>\n",
              "    <tr>\n",
              "      <th id=\"T_eff5d_level0_row0\" class=\"row_heading level0 row0\" >Actual No Distress</th>\n",
              "      <td id=\"T_eff5d_row0_col0\" class=\"data row0 col0\" >126</td>\n",
              "      <td id=\"T_eff5d_row0_col1\" class=\"data row0 col1\" >6</td>\n",
              "    </tr>\n",
              "    <tr>\n",
              "      <th id=\"T_eff5d_level0_row1\" class=\"row_heading level0 row1\" >Actual Distress</th>\n",
              "      <td id=\"T_eff5d_row1_col0\" class=\"data row1 col0\" >5</td>\n",
              "      <td id=\"T_eff5d_row1_col1\" class=\"data row1 col1\" >5</td>\n",
              "    </tr>\n",
              "  </tbody>\n",
              "</table>\n"
            ]
          },
          "metadata": {},
          "execution_count": 249
        }
      ],
      "source": [
        "y_pred_grid_knn = grid_knn.predict(X_test)\n",
        "y_pred_grid_knn_train = grid_knn.predict(X_train)\n",
        "print(classification_report(y_train, y_pred_grid_knn_train))\n",
        "print(f'KNN Accuracy Train: {100*round(accuracy_score(y_train, y_pred_grid_knn_train),2)}%')\n",
        "confusion_matrix_df(y_train, y_pred_grid_knn_train)\n",
        "print(classification_report(y_test, y_pred_grid_knn))\n",
        "print(f'KNN Accuracy: {100*round(accuracy_score(y_test, y_pred_grid_knn),2)}%')\n",
        "confusion_matrix_df(y_test,y_pred_grid_knn)"
      ]
    },
    {
      "cell_type": "code",
      "execution_count": 250,
      "metadata": {
        "id": "Cl6sZWmwKoE7",
        "colab": {
          "base_uri": "https://localhost:8080/",
          "height": 459
        },
        "outputId": "9ec2a89e-0ab1-42a9-c5a2-d00788ecffe9"
      },
      "outputs": [
        {
          "output_type": "stream",
          "name": "stdout",
          "text": [
            "              precision    recall  f1-score   support\n",
            "\n",
            "           0       0.98      0.63      0.77       513\n",
            "           1       0.20      0.85      0.32        55\n",
            "\n",
            "    accuracy                           0.65       568\n",
            "   macro avg       0.59      0.74      0.55       568\n",
            "weighted avg       0.90      0.65      0.73       568\n",
            "\n",
            "SVM Accuracy Train: 65.0%\n",
            "              precision    recall  f1-score   support\n",
            "\n",
            "           0       0.95      0.59      0.73       132\n",
            "           1       0.10      0.60      0.17        10\n",
            "\n",
            "    accuracy                           0.59       142\n",
            "   macro avg       0.53      0.60      0.45       142\n",
            "weighted avg       0.89      0.59      0.69       142\n",
            "\n",
            "SVM Accuracy: 59.0%\n"
          ]
        },
        {
          "output_type": "execute_result",
          "data": {
            "text/plain": [
              "<pandas.io.formats.style.Styler at 0x7f18341afca0>"
            ],
            "text/html": [
              "<style type=\"text/css\">\n",
              "#T_3df2d_row0_col0, #T_3df2d_row0_col1 {\n",
              "  background-color: #00441b;\n",
              "  color: #f1f1f1;\n",
              "}\n",
              "#T_3df2d_row1_col0, #T_3df2d_row1_col1 {\n",
              "  background-color: #f7fcf5;\n",
              "  color: #000000;\n",
              "}\n",
              "</style>\n",
              "<table id=\"T_3df2d\" class=\"dataframe\">\n",
              "  <thead>\n",
              "    <tr>\n",
              "      <th class=\"blank level0\" >&nbsp;</th>\n",
              "      <th id=\"T_3df2d_level0_col0\" class=\"col_heading level0 col0\" >Predict No Distress</th>\n",
              "      <th id=\"T_3df2d_level0_col1\" class=\"col_heading level0 col1\" >Predict Distress</th>\n",
              "    </tr>\n",
              "  </thead>\n",
              "  <tbody>\n",
              "    <tr>\n",
              "      <th id=\"T_3df2d_level0_row0\" class=\"row_heading level0 row0\" >Actual No Distress</th>\n",
              "      <td id=\"T_3df2d_row0_col0\" class=\"data row0 col0\" >78</td>\n",
              "      <td id=\"T_3df2d_row0_col1\" class=\"data row0 col1\" >54</td>\n",
              "    </tr>\n",
              "    <tr>\n",
              "      <th id=\"T_3df2d_level0_row1\" class=\"row_heading level0 row1\" >Actual Distress</th>\n",
              "      <td id=\"T_3df2d_row1_col0\" class=\"data row1 col0\" >4</td>\n",
              "      <td id=\"T_3df2d_row1_col1\" class=\"data row1 col1\" >6</td>\n",
              "    </tr>\n",
              "  </tbody>\n",
              "</table>\n"
            ]
          },
          "metadata": {},
          "execution_count": 250
        }
      ],
      "source": [
        "from sklearn import svm\n",
        "svm = svm.SVC(random_state = 0,class_weight = {0:.092, 1:.908})\n",
        "model_svm = svm.fit(X_train, y_train)\n",
        "y_pred_svm = model_svm.predict(X_test)\n",
        "y_pred_svm_train = model_svm.predict(X_train)\n",
        "print(classification_report(y_train, y_pred_svm_train))\n",
        "print(f'SVM Accuracy Train: {100*round(accuracy_score(y_train, y_pred_svm_train),2)}%')\n",
        "confusion_matrix_df(y_train, y_pred_svm_train)\n",
        "print(classification_report(y_test, y_pred_svm))\n",
        "print(f'SVM Accuracy: {100*round(accuracy_score(y_test, y_pred_svm),2)}%')\n",
        "confusion_matrix_df(y_test,y_pred_svm)"
      ]
    },
    {
      "cell_type": "code",
      "execution_count": 251,
      "metadata": {
        "id": "6ihqVRZoKoE8",
        "colab": {
          "base_uri": "https://localhost:8080/",
          "height": 118
        },
        "outputId": "b0b1a982-a827-4032-db70-0175da4c9972"
      },
      "outputs": [
        {
          "output_type": "execute_result",
          "data": {
            "text/plain": [
              "GridSearchCV(estimator=SVC(class_weight={0: 0.092, 1: 0.908}, random_state=0),\n",
              "             param_grid={'C': [0.1, 1, 10, 100],\n",
              "                         'kernel': ['poly', 'rbf', 'sigmoid']},\n",
              "             scoring='recall')"
            ],
            "text/html": [
              "<style>#sk-container-id-20 {color: black;background-color: white;}#sk-container-id-20 pre{padding: 0;}#sk-container-id-20 div.sk-toggleable {background-color: white;}#sk-container-id-20 label.sk-toggleable__label {cursor: pointer;display: block;width: 100%;margin-bottom: 0;padding: 0.3em;box-sizing: border-box;text-align: center;}#sk-container-id-20 label.sk-toggleable__label-arrow:before {content: \"▸\";float: left;margin-right: 0.25em;color: #696969;}#sk-container-id-20 label.sk-toggleable__label-arrow:hover:before {color: black;}#sk-container-id-20 div.sk-estimator:hover label.sk-toggleable__label-arrow:before {color: black;}#sk-container-id-20 div.sk-toggleable__content {max-height: 0;max-width: 0;overflow: hidden;text-align: left;background-color: #f0f8ff;}#sk-container-id-20 div.sk-toggleable__content pre {margin: 0.2em;color: black;border-radius: 0.25em;background-color: #f0f8ff;}#sk-container-id-20 input.sk-toggleable__control:checked~div.sk-toggleable__content {max-height: 200px;max-width: 100%;overflow: auto;}#sk-container-id-20 input.sk-toggleable__control:checked~label.sk-toggleable__label-arrow:before {content: \"▾\";}#sk-container-id-20 div.sk-estimator input.sk-toggleable__control:checked~label.sk-toggleable__label {background-color: #d4ebff;}#sk-container-id-20 div.sk-label input.sk-toggleable__control:checked~label.sk-toggleable__label {background-color: #d4ebff;}#sk-container-id-20 input.sk-hidden--visually {border: 0;clip: rect(1px 1px 1px 1px);clip: rect(1px, 1px, 1px, 1px);height: 1px;margin: -1px;overflow: hidden;padding: 0;position: absolute;width: 1px;}#sk-container-id-20 div.sk-estimator {font-family: monospace;background-color: #f0f8ff;border: 1px dotted black;border-radius: 0.25em;box-sizing: border-box;margin-bottom: 0.5em;}#sk-container-id-20 div.sk-estimator:hover {background-color: #d4ebff;}#sk-container-id-20 div.sk-parallel-item::after {content: \"\";width: 100%;border-bottom: 1px solid gray;flex-grow: 1;}#sk-container-id-20 div.sk-label:hover label.sk-toggleable__label {background-color: #d4ebff;}#sk-container-id-20 div.sk-serial::before {content: \"\";position: absolute;border-left: 1px solid gray;box-sizing: border-box;top: 0;bottom: 0;left: 50%;z-index: 0;}#sk-container-id-20 div.sk-serial {display: flex;flex-direction: column;align-items: center;background-color: white;padding-right: 0.2em;padding-left: 0.2em;position: relative;}#sk-container-id-20 div.sk-item {position: relative;z-index: 1;}#sk-container-id-20 div.sk-parallel {display: flex;align-items: stretch;justify-content: center;background-color: white;position: relative;}#sk-container-id-20 div.sk-item::before, #sk-container-id-20 div.sk-parallel-item::before {content: \"\";position: absolute;border-left: 1px solid gray;box-sizing: border-box;top: 0;bottom: 0;left: 50%;z-index: -1;}#sk-container-id-20 div.sk-parallel-item {display: flex;flex-direction: column;z-index: 1;position: relative;background-color: white;}#sk-container-id-20 div.sk-parallel-item:first-child::after {align-self: flex-end;width: 50%;}#sk-container-id-20 div.sk-parallel-item:last-child::after {align-self: flex-start;width: 50%;}#sk-container-id-20 div.sk-parallel-item:only-child::after {width: 0;}#sk-container-id-20 div.sk-dashed-wrapped {border: 1px dashed gray;margin: 0 0.4em 0.5em 0.4em;box-sizing: border-box;padding-bottom: 0.4em;background-color: white;}#sk-container-id-20 div.sk-label label {font-family: monospace;font-weight: bold;display: inline-block;line-height: 1.2em;}#sk-container-id-20 div.sk-label-container {text-align: center;}#sk-container-id-20 div.sk-container {/* jupyter's `normalize.less` sets `[hidden] { display: none; }` but bootstrap.min.css set `[hidden] { display: none !important; }` so we also need the `!important` here to be able to override the default hidden behavior on the sphinx rendered scikit-learn.org. See: https://github.com/scikit-learn/scikit-learn/issues/21755 */display: inline-block !important;position: relative;}#sk-container-id-20 div.sk-text-repr-fallback {display: none;}</style><div id=\"sk-container-id-20\" class=\"sk-top-container\"><div class=\"sk-text-repr-fallback\"><pre>GridSearchCV(estimator=SVC(class_weight={0: 0.092, 1: 0.908}, random_state=0),\n",
              "             param_grid={&#x27;C&#x27;: [0.1, 1, 10, 100],\n",
              "                         &#x27;kernel&#x27;: [&#x27;poly&#x27;, &#x27;rbf&#x27;, &#x27;sigmoid&#x27;]},\n",
              "             scoring=&#x27;recall&#x27;)</pre><b>In a Jupyter environment, please rerun this cell to show the HTML representation or trust the notebook. <br />On GitHub, the HTML representation is unable to render, please try loading this page with nbviewer.org.</b></div><div class=\"sk-container\" hidden><div class=\"sk-item sk-dashed-wrapped\"><div class=\"sk-label-container\"><div class=\"sk-label sk-toggleable\"><input class=\"sk-toggleable__control sk-hidden--visually\" id=\"sk-estimator-id-58\" type=\"checkbox\" ><label for=\"sk-estimator-id-58\" class=\"sk-toggleable__label sk-toggleable__label-arrow\">GridSearchCV</label><div class=\"sk-toggleable__content\"><pre>GridSearchCV(estimator=SVC(class_weight={0: 0.092, 1: 0.908}, random_state=0),\n",
              "             param_grid={&#x27;C&#x27;: [0.1, 1, 10, 100],\n",
              "                         &#x27;kernel&#x27;: [&#x27;poly&#x27;, &#x27;rbf&#x27;, &#x27;sigmoid&#x27;]},\n",
              "             scoring=&#x27;recall&#x27;)</pre></div></div></div><div class=\"sk-parallel\"><div class=\"sk-parallel-item\"><div class=\"sk-item\"><div class=\"sk-label-container\"><div class=\"sk-label sk-toggleable\"><input class=\"sk-toggleable__control sk-hidden--visually\" id=\"sk-estimator-id-59\" type=\"checkbox\" ><label for=\"sk-estimator-id-59\" class=\"sk-toggleable__label sk-toggleable__label-arrow\">estimator: SVC</label><div class=\"sk-toggleable__content\"><pre>SVC(class_weight={0: 0.092, 1: 0.908}, random_state=0)</pre></div></div></div><div class=\"sk-serial\"><div class=\"sk-item\"><div class=\"sk-estimator sk-toggleable\"><input class=\"sk-toggleable__control sk-hidden--visually\" id=\"sk-estimator-id-60\" type=\"checkbox\" ><label for=\"sk-estimator-id-60\" class=\"sk-toggleable__label sk-toggleable__label-arrow\">SVC</label><div class=\"sk-toggleable__content\"><pre>SVC(class_weight={0: 0.092, 1: 0.908}, random_state=0)</pre></div></div></div></div></div></div></div></div></div></div>"
            ]
          },
          "metadata": {},
          "execution_count": 251
        }
      ],
      "source": [
        "from sklearn.svm import SVC\n",
        "from sklearn.model_selection import GridSearchCV\n",
        "\n",
        "# defining parameter range\n",
        "param_grid = {'C': [0.1, 1, 10, 100],\n",
        "              'kernel': ['poly','rbf', 'sigmoid']}\n",
        "\n",
        "grid = GridSearchCV(SVC(random_state = 0,class_weight = {0:.092, 1:.908}), param_grid,scoring = 'recall')\n",
        "\n",
        "# fitting the model for grid search\n",
        "grid.fit(X_train, y_train)"
      ]
    },
    {
      "cell_type": "code",
      "execution_count": 252,
      "metadata": {
        "id": "V0U1Sb1vKoE9",
        "colab": {
          "base_uri": "https://localhost:8080/"
        },
        "outputId": "57fc1c90-b987-4c7f-c0c7-0aa0c4945141"
      },
      "outputs": [
        {
          "output_type": "stream",
          "name": "stdout",
          "text": [
            "{'C': 0.1, 'kernel': 'rbf'}\n"
          ]
        }
      ],
      "source": [
        "# print best parameter after tuning\n",
        "print(grid.best_params_)"
      ]
    },
    {
      "cell_type": "code",
      "execution_count": 253,
      "metadata": {
        "id": "EaZe7uSMKoE-",
        "colab": {
          "base_uri": "https://localhost:8080/",
          "height": 459
        },
        "outputId": "de3641b0-09e6-43c7-d623-2d31e6314bb0"
      },
      "outputs": [
        {
          "output_type": "stream",
          "name": "stdout",
          "text": [
            "              precision    recall  f1-score   support\n",
            "\n",
            "           0       0.00      0.00      0.00       513\n",
            "           1       0.10      1.00      0.18        55\n",
            "\n",
            "    accuracy                           0.10       568\n",
            "   macro avg       0.05      0.50      0.09       568\n",
            "weighted avg       0.01      0.10      0.02       568\n",
            "\n",
            "SVM Accuracy: 10.0%\n",
            "              precision    recall  f1-score   support\n",
            "\n",
            "           0       0.00      0.00      0.00       132\n",
            "           1       0.07      1.00      0.13        10\n",
            "\n",
            "    accuracy                           0.07       142\n",
            "   macro avg       0.04      0.50      0.07       142\n",
            "weighted avg       0.00      0.07      0.01       142\n",
            "\n",
            "SVM Accuracy: 7.000000000000001%\n"
          ]
        },
        {
          "output_type": "execute_result",
          "data": {
            "text/plain": [
              "<pandas.io.formats.style.Styler at 0x7f18341af790>"
            ],
            "text/html": [
              "<style type=\"text/css\">\n",
              "#T_337c8_row0_col0, #T_337c8_row1_col0, #T_337c8_row1_col1 {\n",
              "  background-color: #f7fcf5;\n",
              "  color: #000000;\n",
              "}\n",
              "#T_337c8_row0_col1 {\n",
              "  background-color: #00441b;\n",
              "  color: #f1f1f1;\n",
              "}\n",
              "</style>\n",
              "<table id=\"T_337c8\" class=\"dataframe\">\n",
              "  <thead>\n",
              "    <tr>\n",
              "      <th class=\"blank level0\" >&nbsp;</th>\n",
              "      <th id=\"T_337c8_level0_col0\" class=\"col_heading level0 col0\" >Predict No Distress</th>\n",
              "      <th id=\"T_337c8_level0_col1\" class=\"col_heading level0 col1\" >Predict Distress</th>\n",
              "    </tr>\n",
              "  </thead>\n",
              "  <tbody>\n",
              "    <tr>\n",
              "      <th id=\"T_337c8_level0_row0\" class=\"row_heading level0 row0\" >Actual No Distress</th>\n",
              "      <td id=\"T_337c8_row0_col0\" class=\"data row0 col0\" >0</td>\n",
              "      <td id=\"T_337c8_row0_col1\" class=\"data row0 col1\" >132</td>\n",
              "    </tr>\n",
              "    <tr>\n",
              "      <th id=\"T_337c8_level0_row1\" class=\"row_heading level0 row1\" >Actual Distress</th>\n",
              "      <td id=\"T_337c8_row1_col0\" class=\"data row1 col0\" >0</td>\n",
              "      <td id=\"T_337c8_row1_col1\" class=\"data row1 col1\" >10</td>\n",
              "    </tr>\n",
              "  </tbody>\n",
              "</table>\n"
            ]
          },
          "metadata": {},
          "execution_count": 253
        }
      ],
      "source": [
        "\n",
        "grid_predictions = grid.predict(X_test)\n",
        "grid_predictions_train = grid.predict(X_train)\n",
        "print(classification_report(y_train, grid_predictions_train))\n",
        "print(f'SVM Accuracy: {100*round(accuracy_score(y_train, grid_predictions_train),2)}%')\n",
        "confusion_matrix_df(y_train, grid_predictions_train)\n",
        "print(classification_report(y_test, grid_predictions))\n",
        "print(f'SVM Accuracy: {100*round(accuracy_score(y_test, grid_predictions),2)}%')\n",
        "confusion_matrix_df(y_test,grid_predictions)\n"
      ]
    },
    {
      "cell_type": "markdown",
      "metadata": {
        "id": "Mrju43YbKoFG"
      },
      "source": [
        "***UPSAMPLE***"
      ]
    },
    {
      "cell_type": "code",
      "execution_count": 254,
      "metadata": {
        "id": "2ZB6Z5ZjKoFH"
      },
      "outputs": [],
      "source": [
        "n_state = 0\n",
        "X_train, X_test, y_train, y_test = train_test_split(X,y, train_size = 0.8, test_size = 0.2, random_state=n_state)"
      ]
    },
    {
      "cell_type": "code",
      "execution_count": 255,
      "metadata": {
        "id": "qhjRT8mtKoFM"
      },
      "outputs": [],
      "source": [
        "from imblearn.over_sampling import RandomOverSampler\n",
        "ros = RandomOverSampler(random_state=0, sampling_strategy=1)\n",
        "X_upsampled, y_upsampled = ros.fit_resample(X_train,y_train)"
      ]
    },
    {
      "cell_type": "code",
      "execution_count": 256,
      "metadata": {
        "colab": {
          "base_uri": "https://localhost:8080/",
          "height": 424
        },
        "id": "qLKmxf34KoFM",
        "outputId": "c7eeb019-7499-4d51-8901-0424add0e4dd"
      },
      "outputs": [
        {
          "output_type": "execute_result",
          "data": {
            "text/plain": [
              "      EBIT(t-1)  PB(t-1)  QR(t-1)  DA(t-1)  TATO(t-1)  ROS(t-1)  OCFTD(t-1)  \\\n",
              "0          94.0      0.6      1.3    41.49       0.57     13.24      -19.57   \n",
              "1         592.0      2.7      1.0    69.51       0.22     14.18       25.35   \n",
              "2       39583.0      2.3      0.7    49.07       0.84     23.06       30.55   \n",
              "3         618.0      2.2      0.7    78.70       0.14     23.29        8.82   \n",
              "4          59.0      0.8      1.1    44.95       1.70      5.09        5.62   \n",
              "...         ...      ...      ...      ...        ...       ...         ...   \n",
              "1021       14.0      1.1      0.2    41.68       0.09    -38.42       -3.66   \n",
              "1022       13.0      1.3      0.3    74.15       0.86      0.26       -3.89   \n",
              "1023       -7.0      1.1      0.3    40.66       0.08    -56.35       -5.21   \n",
              "1024        2.0      0.9      1.8    36.21       0.04      4.00      -13.70   \n",
              "1025    -1097.0      1.0      0.4    73.09       0.09    -75.01       -6.48   \n",
              "\n",
              "      EBIT(t-2)  PB(t-2)  QR(t-2)  DA(t-2)  TATO(t-2)  ROS(t-2)  OCFTD(t-2)  \n",
              "0            75      0.5      1.6    31.23       0.65     12.26       20.63  \n",
              "1           795      2.7      1.2    70.01       0.34     16.72      -12.12  \n",
              "2         17549      2.3      0.6    54.97       0.69     14.99       16.03  \n",
              "3           529      1.6      0.7    76.21       0.18     25.37        0.36  \n",
              "4            39      0.4      0.9    47.38       1.69      2.87       41.80  \n",
              "...         ...      ...      ...      ...        ...       ...         ...  \n",
              "1021         -7      1.1      0.3    40.66       0.08    -56.35       -5.21  \n",
              "1022       -246      1.0      0.4    71.33       0.34    -66.42        0.00  \n",
              "1023        156      0.9      0.8    44.68       0.06     18.23       -5.03  \n",
              "1024          0      0.6      2.0    35.37       0.04      0.00        4.75  \n",
              "1025       -742      0.5      0.3    65.00       0.06    -92.00      -11.63  \n",
              "\n",
              "[1026 rows x 14 columns]"
            ],
            "text/html": [
              "\n",
              "  <div id=\"df-66733d92-50bd-48ff-907f-a34b62075919\">\n",
              "    <div class=\"colab-df-container\">\n",
              "      <div>\n",
              "<style scoped>\n",
              "    .dataframe tbody tr th:only-of-type {\n",
              "        vertical-align: middle;\n",
              "    }\n",
              "\n",
              "    .dataframe tbody tr th {\n",
              "        vertical-align: top;\n",
              "    }\n",
              "\n",
              "    .dataframe thead th {\n",
              "        text-align: right;\n",
              "    }\n",
              "</style>\n",
              "<table border=\"1\" class=\"dataframe\">\n",
              "  <thead>\n",
              "    <tr style=\"text-align: right;\">\n",
              "      <th></th>\n",
              "      <th>EBIT(t-1)</th>\n",
              "      <th>PB(t-1)</th>\n",
              "      <th>QR(t-1)</th>\n",
              "      <th>DA(t-1)</th>\n",
              "      <th>TATO(t-1)</th>\n",
              "      <th>ROS(t-1)</th>\n",
              "      <th>OCFTD(t-1)</th>\n",
              "      <th>EBIT(t-2)</th>\n",
              "      <th>PB(t-2)</th>\n",
              "      <th>QR(t-2)</th>\n",
              "      <th>DA(t-2)</th>\n",
              "      <th>TATO(t-2)</th>\n",
              "      <th>ROS(t-2)</th>\n",
              "      <th>OCFTD(t-2)</th>\n",
              "    </tr>\n",
              "  </thead>\n",
              "  <tbody>\n",
              "    <tr>\n",
              "      <th>0</th>\n",
              "      <td>94.0</td>\n",
              "      <td>0.6</td>\n",
              "      <td>1.3</td>\n",
              "      <td>41.49</td>\n",
              "      <td>0.57</td>\n",
              "      <td>13.24</td>\n",
              "      <td>-19.57</td>\n",
              "      <td>75</td>\n",
              "      <td>0.5</td>\n",
              "      <td>1.6</td>\n",
              "      <td>31.23</td>\n",
              "      <td>0.65</td>\n",
              "      <td>12.26</td>\n",
              "      <td>20.63</td>\n",
              "    </tr>\n",
              "    <tr>\n",
              "      <th>1</th>\n",
              "      <td>592.0</td>\n",
              "      <td>2.7</td>\n",
              "      <td>1.0</td>\n",
              "      <td>69.51</td>\n",
              "      <td>0.22</td>\n",
              "      <td>14.18</td>\n",
              "      <td>25.35</td>\n",
              "      <td>795</td>\n",
              "      <td>2.7</td>\n",
              "      <td>1.2</td>\n",
              "      <td>70.01</td>\n",
              "      <td>0.34</td>\n",
              "      <td>16.72</td>\n",
              "      <td>-12.12</td>\n",
              "    </tr>\n",
              "    <tr>\n",
              "      <th>2</th>\n",
              "      <td>39583.0</td>\n",
              "      <td>2.3</td>\n",
              "      <td>0.7</td>\n",
              "      <td>49.07</td>\n",
              "      <td>0.84</td>\n",
              "      <td>23.06</td>\n",
              "      <td>30.55</td>\n",
              "      <td>17549</td>\n",
              "      <td>2.3</td>\n",
              "      <td>0.6</td>\n",
              "      <td>54.97</td>\n",
              "      <td>0.69</td>\n",
              "      <td>14.99</td>\n",
              "      <td>16.03</td>\n",
              "    </tr>\n",
              "    <tr>\n",
              "      <th>3</th>\n",
              "      <td>618.0</td>\n",
              "      <td>2.2</td>\n",
              "      <td>0.7</td>\n",
              "      <td>78.70</td>\n",
              "      <td>0.14</td>\n",
              "      <td>23.29</td>\n",
              "      <td>8.82</td>\n",
              "      <td>529</td>\n",
              "      <td>1.6</td>\n",
              "      <td>0.7</td>\n",
              "      <td>76.21</td>\n",
              "      <td>0.18</td>\n",
              "      <td>25.37</td>\n",
              "      <td>0.36</td>\n",
              "    </tr>\n",
              "    <tr>\n",
              "      <th>4</th>\n",
              "      <td>59.0</td>\n",
              "      <td>0.8</td>\n",
              "      <td>1.1</td>\n",
              "      <td>44.95</td>\n",
              "      <td>1.70</td>\n",
              "      <td>5.09</td>\n",
              "      <td>5.62</td>\n",
              "      <td>39</td>\n",
              "      <td>0.4</td>\n",
              "      <td>0.9</td>\n",
              "      <td>47.38</td>\n",
              "      <td>1.69</td>\n",
              "      <td>2.87</td>\n",
              "      <td>41.80</td>\n",
              "    </tr>\n",
              "    <tr>\n",
              "      <th>...</th>\n",
              "      <td>...</td>\n",
              "      <td>...</td>\n",
              "      <td>...</td>\n",
              "      <td>...</td>\n",
              "      <td>...</td>\n",
              "      <td>...</td>\n",
              "      <td>...</td>\n",
              "      <td>...</td>\n",
              "      <td>...</td>\n",
              "      <td>...</td>\n",
              "      <td>...</td>\n",
              "      <td>...</td>\n",
              "      <td>...</td>\n",
              "      <td>...</td>\n",
              "    </tr>\n",
              "    <tr>\n",
              "      <th>1021</th>\n",
              "      <td>14.0</td>\n",
              "      <td>1.1</td>\n",
              "      <td>0.2</td>\n",
              "      <td>41.68</td>\n",
              "      <td>0.09</td>\n",
              "      <td>-38.42</td>\n",
              "      <td>-3.66</td>\n",
              "      <td>-7</td>\n",
              "      <td>1.1</td>\n",
              "      <td>0.3</td>\n",
              "      <td>40.66</td>\n",
              "      <td>0.08</td>\n",
              "      <td>-56.35</td>\n",
              "      <td>-5.21</td>\n",
              "    </tr>\n",
              "    <tr>\n",
              "      <th>1022</th>\n",
              "      <td>13.0</td>\n",
              "      <td>1.3</td>\n",
              "      <td>0.3</td>\n",
              "      <td>74.15</td>\n",
              "      <td>0.86</td>\n",
              "      <td>0.26</td>\n",
              "      <td>-3.89</td>\n",
              "      <td>-246</td>\n",
              "      <td>1.0</td>\n",
              "      <td>0.4</td>\n",
              "      <td>71.33</td>\n",
              "      <td>0.34</td>\n",
              "      <td>-66.42</td>\n",
              "      <td>0.00</td>\n",
              "    </tr>\n",
              "    <tr>\n",
              "      <th>1023</th>\n",
              "      <td>-7.0</td>\n",
              "      <td>1.1</td>\n",
              "      <td>0.3</td>\n",
              "      <td>40.66</td>\n",
              "      <td>0.08</td>\n",
              "      <td>-56.35</td>\n",
              "      <td>-5.21</td>\n",
              "      <td>156</td>\n",
              "      <td>0.9</td>\n",
              "      <td>0.8</td>\n",
              "      <td>44.68</td>\n",
              "      <td>0.06</td>\n",
              "      <td>18.23</td>\n",
              "      <td>-5.03</td>\n",
              "    </tr>\n",
              "    <tr>\n",
              "      <th>1024</th>\n",
              "      <td>2.0</td>\n",
              "      <td>0.9</td>\n",
              "      <td>1.8</td>\n",
              "      <td>36.21</td>\n",
              "      <td>0.04</td>\n",
              "      <td>4.00</td>\n",
              "      <td>-13.70</td>\n",
              "      <td>0</td>\n",
              "      <td>0.6</td>\n",
              "      <td>2.0</td>\n",
              "      <td>35.37</td>\n",
              "      <td>0.04</td>\n",
              "      <td>0.00</td>\n",
              "      <td>4.75</td>\n",
              "    </tr>\n",
              "    <tr>\n",
              "      <th>1025</th>\n",
              "      <td>-1097.0</td>\n",
              "      <td>1.0</td>\n",
              "      <td>0.4</td>\n",
              "      <td>73.09</td>\n",
              "      <td>0.09</td>\n",
              "      <td>-75.01</td>\n",
              "      <td>-6.48</td>\n",
              "      <td>-742</td>\n",
              "      <td>0.5</td>\n",
              "      <td>0.3</td>\n",
              "      <td>65.00</td>\n",
              "      <td>0.06</td>\n",
              "      <td>-92.00</td>\n",
              "      <td>-11.63</td>\n",
              "    </tr>\n",
              "  </tbody>\n",
              "</table>\n",
              "<p>1026 rows × 14 columns</p>\n",
              "</div>\n",
              "      <button class=\"colab-df-convert\" onclick=\"convertToInteractive('df-66733d92-50bd-48ff-907f-a34b62075919')\"\n",
              "              title=\"Convert this dataframe to an interactive table.\"\n",
              "              style=\"display:none;\">\n",
              "        \n",
              "  <svg xmlns=\"http://www.w3.org/2000/svg\" height=\"24px\"viewBox=\"0 0 24 24\"\n",
              "       width=\"24px\">\n",
              "    <path d=\"M0 0h24v24H0V0z\" fill=\"none\"/>\n",
              "    <path d=\"M18.56 5.44l.94 2.06.94-2.06 2.06-.94-2.06-.94-.94-2.06-.94 2.06-2.06.94zm-11 1L8.5 8.5l.94-2.06 2.06-.94-2.06-.94L8.5 2.5l-.94 2.06-2.06.94zm10 10l.94 2.06.94-2.06 2.06-.94-2.06-.94-.94-2.06-.94 2.06-2.06.94z\"/><path d=\"M17.41 7.96l-1.37-1.37c-.4-.4-.92-.59-1.43-.59-.52 0-1.04.2-1.43.59L10.3 9.45l-7.72 7.72c-.78.78-.78 2.05 0 2.83L4 21.41c.39.39.9.59 1.41.59.51 0 1.02-.2 1.41-.59l7.78-7.78 2.81-2.81c.8-.78.8-2.07 0-2.86zM5.41 20L4 18.59l7.72-7.72 1.47 1.35L5.41 20z\"/>\n",
              "  </svg>\n",
              "      </button>\n",
              "      \n",
              "  <style>\n",
              "    .colab-df-container {\n",
              "      display:flex;\n",
              "      flex-wrap:wrap;\n",
              "      gap: 12px;\n",
              "    }\n",
              "\n",
              "    .colab-df-convert {\n",
              "      background-color: #E8F0FE;\n",
              "      border: none;\n",
              "      border-radius: 50%;\n",
              "      cursor: pointer;\n",
              "      display: none;\n",
              "      fill: #1967D2;\n",
              "      height: 32px;\n",
              "      padding: 0 0 0 0;\n",
              "      width: 32px;\n",
              "    }\n",
              "\n",
              "    .colab-df-convert:hover {\n",
              "      background-color: #E2EBFA;\n",
              "      box-shadow: 0px 1px 2px rgba(60, 64, 67, 0.3), 0px 1px 3px 1px rgba(60, 64, 67, 0.15);\n",
              "      fill: #174EA6;\n",
              "    }\n",
              "\n",
              "    [theme=dark] .colab-df-convert {\n",
              "      background-color: #3B4455;\n",
              "      fill: #D2E3FC;\n",
              "    }\n",
              "\n",
              "    [theme=dark] .colab-df-convert:hover {\n",
              "      background-color: #434B5C;\n",
              "      box-shadow: 0px 1px 3px 1px rgba(0, 0, 0, 0.15);\n",
              "      filter: drop-shadow(0px 1px 2px rgba(0, 0, 0, 0.3));\n",
              "      fill: #FFFFFF;\n",
              "    }\n",
              "  </style>\n",
              "\n",
              "      <script>\n",
              "        const buttonEl =\n",
              "          document.querySelector('#df-66733d92-50bd-48ff-907f-a34b62075919 button.colab-df-convert');\n",
              "        buttonEl.style.display =\n",
              "          google.colab.kernel.accessAllowed ? 'block' : 'none';\n",
              "\n",
              "        async function convertToInteractive(key) {\n",
              "          const element = document.querySelector('#df-66733d92-50bd-48ff-907f-a34b62075919');\n",
              "          const dataTable =\n",
              "            await google.colab.kernel.invokeFunction('convertToInteractive',\n",
              "                                                     [key], {});\n",
              "          if (!dataTable) return;\n",
              "\n",
              "          const docLinkHtml = 'Like what you see? Visit the ' +\n",
              "            '<a target=\"_blank\" href=https://colab.research.google.com/notebooks/data_table.ipynb>data table notebook</a>'\n",
              "            + ' to learn more about interactive tables.';\n",
              "          element.innerHTML = '';\n",
              "          dataTable['output_type'] = 'display_data';\n",
              "          await google.colab.output.renderOutput(dataTable, element);\n",
              "          const docLink = document.createElement('div');\n",
              "          docLink.innerHTML = docLinkHtml;\n",
              "          element.appendChild(docLink);\n",
              "        }\n",
              "      </script>\n",
              "    </div>\n",
              "  </div>\n",
              "  "
            ]
          },
          "metadata": {},
          "execution_count": 256
        }
      ],
      "source": [
        "X_upsampled"
      ]
    },
    {
      "cell_type": "code",
      "execution_count": 257,
      "metadata": {
        "colab": {
          "base_uri": "https://localhost:8080/",
          "height": 459
        },
        "id": "fAEtDioRKoFR",
        "outputId": "3f7a72dc-4688-40ec-ff33-7891aee67823"
      },
      "outputs": [
        {
          "output_type": "stream",
          "name": "stdout",
          "text": [
            "              precision    recall  f1-score   support\n",
            "\n",
            "           0       1.00      1.00      1.00       513\n",
            "           1       1.00      1.00      1.00       513\n",
            "\n",
            "    accuracy                           1.00      1026\n",
            "   macro avg       1.00      1.00      1.00      1026\n",
            "weighted avg       1.00      1.00      1.00      1026\n",
            "\n",
            "Decision Tree Accuracy Train: 100.0%\n",
            "              precision    recall  f1-score   support\n",
            "\n",
            "           0       0.95      0.91      0.93       132\n",
            "           1       0.25      0.40      0.31        10\n",
            "\n",
            "    accuracy                           0.87       142\n",
            "   macro avg       0.60      0.65      0.62       142\n",
            "weighted avg       0.90      0.87      0.89       142\n",
            "\n",
            "Decision Tree Accuracy: 87.0%\n"
          ]
        },
        {
          "output_type": "execute_result",
          "data": {
            "text/plain": [
              "<pandas.io.formats.style.Styler at 0x7f18341ad8a0>"
            ],
            "text/html": [
              "<style type=\"text/css\">\n",
              "#T_d55de_row0_col0, #T_d55de_row0_col1 {\n",
              "  background-color: #00441b;\n",
              "  color: #f1f1f1;\n",
              "}\n",
              "#T_d55de_row1_col0, #T_d55de_row1_col1 {\n",
              "  background-color: #f7fcf5;\n",
              "  color: #000000;\n",
              "}\n",
              "</style>\n",
              "<table id=\"T_d55de\" class=\"dataframe\">\n",
              "  <thead>\n",
              "    <tr>\n",
              "      <th class=\"blank level0\" >&nbsp;</th>\n",
              "      <th id=\"T_d55de_level0_col0\" class=\"col_heading level0 col0\" >Predict No Distress</th>\n",
              "      <th id=\"T_d55de_level0_col1\" class=\"col_heading level0 col1\" >Predict Distress</th>\n",
              "    </tr>\n",
              "  </thead>\n",
              "  <tbody>\n",
              "    <tr>\n",
              "      <th id=\"T_d55de_level0_row0\" class=\"row_heading level0 row0\" >Actual No Distress</th>\n",
              "      <td id=\"T_d55de_row0_col0\" class=\"data row0 col0\" >120</td>\n",
              "      <td id=\"T_d55de_row0_col1\" class=\"data row0 col1\" >12</td>\n",
              "    </tr>\n",
              "    <tr>\n",
              "      <th id=\"T_d55de_level0_row1\" class=\"row_heading level0 row1\" >Actual Distress</th>\n",
              "      <td id=\"T_d55de_row1_col0\" class=\"data row1 col0\" >6</td>\n",
              "      <td id=\"T_d55de_row1_col1\" class=\"data row1 col1\" >4</td>\n",
              "    </tr>\n",
              "  </tbody>\n",
              "</table>\n"
            ]
          },
          "metadata": {},
          "execution_count": 257
        }
      ],
      "source": [
        "my_tree_up = DecisionTreeClassifier(\n",
        "                                    random_state = 0,\n",
        "                                    class_weight = 'balanced',\n",
        "                                 )\n",
        "model_dectree_up = my_tree_up.fit(X_upsampled, y_upsampled)\n",
        "y_pred_dectree_up = model_dectree_up.predict(X_test)\n",
        "y_pred_train_dectree_up = model_dectree_up.predict(X_upsampled)\n",
        "print(classification_report(y_upsampled, y_pred_train_dectree_up))\n",
        "print(f'Decision Tree Accuracy Train: {100*round(accuracy_score(y_upsampled, y_pred_train_dectree_up),2)}%')\n",
        "confusion_matrix_df(y_upsampled, y_pred_train_dectree_up)\n",
        "print(classification_report(y_test, y_pred_dectree_up))\n",
        "print(f'Decision Tree Accuracy: {100*round(accuracy_score(y_test, y_pred_dectree_up),2)}%')\n",
        "confusion_matrix_df(y_test,y_pred_dectree_up)"
      ]
    },
    {
      "cell_type": "code",
      "execution_count": 257,
      "metadata": {
        "id": "VCRhSpXgHuil"
      },
      "outputs": [],
      "source": []
    },
    {
      "cell_type": "code",
      "execution_count": 258,
      "metadata": {
        "id": "Pi9uYQ4pKoFR",
        "colab": {
          "base_uri": "https://localhost:8080/",
          "height": 118
        },
        "outputId": "dcec3cf5-0844-4532-aa8e-7390d5530d4e"
      },
      "outputs": [
        {
          "output_type": "execute_result",
          "data": {
            "text/plain": [
              "GridSearchCV(cv=5,\n",
              "             estimator=DecisionTreeClassifier(class_weight='balanced',\n",
              "                                              criterion='entropy',\n",
              "                                              random_state=0),\n",
              "             param_grid={'max_depth': [4, 5, 6, 7, 8],\n",
              "                         'max_features': ['auto', 'sqrt'],\n",
              "                         'min_samples_split': [2, 4, 6]},\n",
              "             scoring='recall')"
            ],
            "text/html": [
              "<style>#sk-container-id-21 {color: black;background-color: white;}#sk-container-id-21 pre{padding: 0;}#sk-container-id-21 div.sk-toggleable {background-color: white;}#sk-container-id-21 label.sk-toggleable__label {cursor: pointer;display: block;width: 100%;margin-bottom: 0;padding: 0.3em;box-sizing: border-box;text-align: center;}#sk-container-id-21 label.sk-toggleable__label-arrow:before {content: \"▸\";float: left;margin-right: 0.25em;color: #696969;}#sk-container-id-21 label.sk-toggleable__label-arrow:hover:before {color: black;}#sk-container-id-21 div.sk-estimator:hover label.sk-toggleable__label-arrow:before {color: black;}#sk-container-id-21 div.sk-toggleable__content {max-height: 0;max-width: 0;overflow: hidden;text-align: left;background-color: #f0f8ff;}#sk-container-id-21 div.sk-toggleable__content pre {margin: 0.2em;color: black;border-radius: 0.25em;background-color: #f0f8ff;}#sk-container-id-21 input.sk-toggleable__control:checked~div.sk-toggleable__content {max-height: 200px;max-width: 100%;overflow: auto;}#sk-container-id-21 input.sk-toggleable__control:checked~label.sk-toggleable__label-arrow:before {content: \"▾\";}#sk-container-id-21 div.sk-estimator input.sk-toggleable__control:checked~label.sk-toggleable__label {background-color: #d4ebff;}#sk-container-id-21 div.sk-label input.sk-toggleable__control:checked~label.sk-toggleable__label {background-color: #d4ebff;}#sk-container-id-21 input.sk-hidden--visually {border: 0;clip: rect(1px 1px 1px 1px);clip: rect(1px, 1px, 1px, 1px);height: 1px;margin: -1px;overflow: hidden;padding: 0;position: absolute;width: 1px;}#sk-container-id-21 div.sk-estimator {font-family: monospace;background-color: #f0f8ff;border: 1px dotted black;border-radius: 0.25em;box-sizing: border-box;margin-bottom: 0.5em;}#sk-container-id-21 div.sk-estimator:hover {background-color: #d4ebff;}#sk-container-id-21 div.sk-parallel-item::after {content: \"\";width: 100%;border-bottom: 1px solid gray;flex-grow: 1;}#sk-container-id-21 div.sk-label:hover label.sk-toggleable__label {background-color: #d4ebff;}#sk-container-id-21 div.sk-serial::before {content: \"\";position: absolute;border-left: 1px solid gray;box-sizing: border-box;top: 0;bottom: 0;left: 50%;z-index: 0;}#sk-container-id-21 div.sk-serial {display: flex;flex-direction: column;align-items: center;background-color: white;padding-right: 0.2em;padding-left: 0.2em;position: relative;}#sk-container-id-21 div.sk-item {position: relative;z-index: 1;}#sk-container-id-21 div.sk-parallel {display: flex;align-items: stretch;justify-content: center;background-color: white;position: relative;}#sk-container-id-21 div.sk-item::before, #sk-container-id-21 div.sk-parallel-item::before {content: \"\";position: absolute;border-left: 1px solid gray;box-sizing: border-box;top: 0;bottom: 0;left: 50%;z-index: -1;}#sk-container-id-21 div.sk-parallel-item {display: flex;flex-direction: column;z-index: 1;position: relative;background-color: white;}#sk-container-id-21 div.sk-parallel-item:first-child::after {align-self: flex-end;width: 50%;}#sk-container-id-21 div.sk-parallel-item:last-child::after {align-self: flex-start;width: 50%;}#sk-container-id-21 div.sk-parallel-item:only-child::after {width: 0;}#sk-container-id-21 div.sk-dashed-wrapped {border: 1px dashed gray;margin: 0 0.4em 0.5em 0.4em;box-sizing: border-box;padding-bottom: 0.4em;background-color: white;}#sk-container-id-21 div.sk-label label {font-family: monospace;font-weight: bold;display: inline-block;line-height: 1.2em;}#sk-container-id-21 div.sk-label-container {text-align: center;}#sk-container-id-21 div.sk-container {/* jupyter's `normalize.less` sets `[hidden] { display: none; }` but bootstrap.min.css set `[hidden] { display: none !important; }` so we also need the `!important` here to be able to override the default hidden behavior on the sphinx rendered scikit-learn.org. See: https://github.com/scikit-learn/scikit-learn/issues/21755 */display: inline-block !important;position: relative;}#sk-container-id-21 div.sk-text-repr-fallback {display: none;}</style><div id=\"sk-container-id-21\" class=\"sk-top-container\"><div class=\"sk-text-repr-fallback\"><pre>GridSearchCV(cv=5,\n",
              "             estimator=DecisionTreeClassifier(class_weight=&#x27;balanced&#x27;,\n",
              "                                              criterion=&#x27;entropy&#x27;,\n",
              "                                              random_state=0),\n",
              "             param_grid={&#x27;max_depth&#x27;: [4, 5, 6, 7, 8],\n",
              "                         &#x27;max_features&#x27;: [&#x27;auto&#x27;, &#x27;sqrt&#x27;],\n",
              "                         &#x27;min_samples_split&#x27;: [2, 4, 6]},\n",
              "             scoring=&#x27;recall&#x27;)</pre><b>In a Jupyter environment, please rerun this cell to show the HTML representation or trust the notebook. <br />On GitHub, the HTML representation is unable to render, please try loading this page with nbviewer.org.</b></div><div class=\"sk-container\" hidden><div class=\"sk-item sk-dashed-wrapped\"><div class=\"sk-label-container\"><div class=\"sk-label sk-toggleable\"><input class=\"sk-toggleable__control sk-hidden--visually\" id=\"sk-estimator-id-61\" type=\"checkbox\" ><label for=\"sk-estimator-id-61\" class=\"sk-toggleable__label sk-toggleable__label-arrow\">GridSearchCV</label><div class=\"sk-toggleable__content\"><pre>GridSearchCV(cv=5,\n",
              "             estimator=DecisionTreeClassifier(class_weight=&#x27;balanced&#x27;,\n",
              "                                              criterion=&#x27;entropy&#x27;,\n",
              "                                              random_state=0),\n",
              "             param_grid={&#x27;max_depth&#x27;: [4, 5, 6, 7, 8],\n",
              "                         &#x27;max_features&#x27;: [&#x27;auto&#x27;, &#x27;sqrt&#x27;],\n",
              "                         &#x27;min_samples_split&#x27;: [2, 4, 6]},\n",
              "             scoring=&#x27;recall&#x27;)</pre></div></div></div><div class=\"sk-parallel\"><div class=\"sk-parallel-item\"><div class=\"sk-item\"><div class=\"sk-label-container\"><div class=\"sk-label sk-toggleable\"><input class=\"sk-toggleable__control sk-hidden--visually\" id=\"sk-estimator-id-62\" type=\"checkbox\" ><label for=\"sk-estimator-id-62\" class=\"sk-toggleable__label sk-toggleable__label-arrow\">estimator: DecisionTreeClassifier</label><div class=\"sk-toggleable__content\"><pre>DecisionTreeClassifier(class_weight=&#x27;balanced&#x27;, criterion=&#x27;entropy&#x27;,\n",
              "                       random_state=0)</pre></div></div></div><div class=\"sk-serial\"><div class=\"sk-item\"><div class=\"sk-estimator sk-toggleable\"><input class=\"sk-toggleable__control sk-hidden--visually\" id=\"sk-estimator-id-63\" type=\"checkbox\" ><label for=\"sk-estimator-id-63\" class=\"sk-toggleable__label sk-toggleable__label-arrow\">DecisionTreeClassifier</label><div class=\"sk-toggleable__content\"><pre>DecisionTreeClassifier(class_weight=&#x27;balanced&#x27;, criterion=&#x27;entropy&#x27;,\n",
              "                       random_state=0)</pre></div></div></div></div></div></div></div></div></div></div>"
            ]
          },
          "metadata": {},
          "execution_count": 258
        }
      ],
      "source": [
        "from sklearn.model_selection import GridSearchCV\n",
        "\n",
        "tree_param_up = {'max_depth':[4,5,6,7,8],\n",
        "              'max_features':['auto','sqrt'],\n",
        "              'min_samples_split':[2,4,6]}\n",
        "grid_dectree_up = GridSearchCV(DecisionTreeClassifier(random_state = 0,class_weight = 'balanced',criterion='entropy'), tree_param_up, cv=5,scoring = 'recall')\n",
        "grid_dectree_up.fit(X_upsampled,y_upsampled)"
      ]
    },
    {
      "cell_type": "code",
      "source": [
        "grid_dectree_up.best_params_"
      ],
      "metadata": {
        "colab": {
          "base_uri": "https://localhost:8080/"
        },
        "id": "hmiksS3BgY55",
        "outputId": "53f8b56f-5842-434a-a098-7b678a043642"
      },
      "execution_count": 259,
      "outputs": [
        {
          "output_type": "execute_result",
          "data": {
            "text/plain": [
              "{'max_depth': 7, 'max_features': 'auto', 'min_samples_split': 6}"
            ]
          },
          "metadata": {},
          "execution_count": 259
        }
      ]
    },
    {
      "cell_type": "code",
      "execution_count": 260,
      "metadata": {
        "id": "fYkMHiBiKoFS",
        "colab": {
          "base_uri": "https://localhost:8080/",
          "height": 459
        },
        "outputId": "c3400922-5f83-41f6-fb36-fdb76835ec43"
      },
      "outputs": [
        {
          "output_type": "stream",
          "name": "stdout",
          "text": [
            "              precision    recall  f1-score   support\n",
            "\n",
            "           0       1.00      0.93      0.96       513\n",
            "           1       0.93      1.00      0.97       513\n",
            "\n",
            "    accuracy                           0.96      1026\n",
            "   macro avg       0.97      0.96      0.96      1026\n",
            "weighted avg       0.97      0.96      0.96      1026\n",
            "\n",
            "Decision Tree Accuracy Train: 96.0%\n",
            "              precision    recall  f1-score   support\n",
            "\n",
            "           0       0.97      0.89      0.93       132\n",
            "           1       0.30      0.60      0.40        10\n",
            "\n",
            "    accuracy                           0.87       142\n",
            "   macro avg       0.63      0.75      0.66       142\n",
            "weighted avg       0.92      0.87      0.89       142\n",
            "\n",
            "Decision Tree Accuracy: 87.0%\n"
          ]
        },
        {
          "output_type": "execute_result",
          "data": {
            "text/plain": [
              "<pandas.io.formats.style.Styler at 0x7f184d867a00>"
            ],
            "text/html": [
              "<style type=\"text/css\">\n",
              "#T_c11f5_row0_col0, #T_c11f5_row0_col1 {\n",
              "  background-color: #00441b;\n",
              "  color: #f1f1f1;\n",
              "}\n",
              "#T_c11f5_row1_col0, #T_c11f5_row1_col1 {\n",
              "  background-color: #f7fcf5;\n",
              "  color: #000000;\n",
              "}\n",
              "</style>\n",
              "<table id=\"T_c11f5\" class=\"dataframe\">\n",
              "  <thead>\n",
              "    <tr>\n",
              "      <th class=\"blank level0\" >&nbsp;</th>\n",
              "      <th id=\"T_c11f5_level0_col0\" class=\"col_heading level0 col0\" >Predict No Distress</th>\n",
              "      <th id=\"T_c11f5_level0_col1\" class=\"col_heading level0 col1\" >Predict Distress</th>\n",
              "    </tr>\n",
              "  </thead>\n",
              "  <tbody>\n",
              "    <tr>\n",
              "      <th id=\"T_c11f5_level0_row0\" class=\"row_heading level0 row0\" >Actual No Distress</th>\n",
              "      <td id=\"T_c11f5_row0_col0\" class=\"data row0 col0\" >118</td>\n",
              "      <td id=\"T_c11f5_row0_col1\" class=\"data row0 col1\" >14</td>\n",
              "    </tr>\n",
              "    <tr>\n",
              "      <th id=\"T_c11f5_level0_row1\" class=\"row_heading level0 row1\" >Actual Distress</th>\n",
              "      <td id=\"T_c11f5_row1_col0\" class=\"data row1 col0\" >4</td>\n",
              "      <td id=\"T_c11f5_row1_col1\" class=\"data row1 col1\" >6</td>\n",
              "    </tr>\n",
              "  </tbody>\n",
              "</table>\n"
            ]
          },
          "metadata": {},
          "execution_count": 260
        }
      ],
      "source": [
        "y_pred_grid_dectree_up=grid_dectree_up.predict(X_test)\n",
        "y_pred_grid_train_dectree_up=grid_dectree_up.predict(X_upsampled)\n",
        "print(classification_report(y_upsampled, y_pred_grid_train_dectree_up))\n",
        "print(f'Decision Tree Accuracy Train: {100*round(accuracy_score(y_upsampled, y_pred_grid_train_dectree_up),2)}%')\n",
        "confusion_matrix_df(y_upsampled, y_pred_grid_train_dectree_up)\n",
        "print(classification_report(y_test, y_pred_grid_dectree_up))\n",
        "print(f'Decision Tree Accuracy: {100*round(accuracy_score(y_test, y_pred_grid_dectree_up),2)}%')\n",
        "confusion_matrix_df(y_test,y_pred_grid_dectree_up)"
      ]
    },
    {
      "cell_type": "code",
      "execution_count": 261,
      "metadata": {
        "id": "0remVJ37KoFS",
        "colab": {
          "base_uri": "https://localhost:8080/",
          "height": 459
        },
        "outputId": "ecb6830c-d52b-44bf-de4f-fe34cc354785"
      },
      "outputs": [
        {
          "output_type": "stream",
          "name": "stdout",
          "text": [
            "              precision    recall  f1-score   support\n",
            "\n",
            "           0       1.00      1.00      1.00       513\n",
            "           1       1.00      1.00      1.00       513\n",
            "\n",
            "    accuracy                           1.00      1026\n",
            "   macro avg       1.00      1.00      1.00      1026\n",
            "weighted avg       1.00      1.00      1.00      1026\n",
            "\n",
            "Random Forest Accuracy Train: 100.0%\n",
            "              precision    recall  f1-score   support\n",
            "\n",
            "           0       0.97      0.97      0.97       132\n",
            "           1       0.60      0.60      0.60        10\n",
            "\n",
            "    accuracy                           0.94       142\n",
            "   macro avg       0.78      0.78      0.78       142\n",
            "weighted avg       0.94      0.94      0.94       142\n",
            "\n",
            "Random Forest Accuracy: 94.0%\n"
          ]
        },
        {
          "output_type": "execute_result",
          "data": {
            "text/plain": [
              "<pandas.io.formats.style.Styler at 0x7f1834149180>"
            ],
            "text/html": [
              "<style type=\"text/css\">\n",
              "#T_6fc1e_row0_col0, #T_6fc1e_row1_col1 {\n",
              "  background-color: #00441b;\n",
              "  color: #f1f1f1;\n",
              "}\n",
              "#T_6fc1e_row0_col1, #T_6fc1e_row1_col0 {\n",
              "  background-color: #f7fcf5;\n",
              "  color: #000000;\n",
              "}\n",
              "</style>\n",
              "<table id=\"T_6fc1e\" class=\"dataframe\">\n",
              "  <thead>\n",
              "    <tr>\n",
              "      <th class=\"blank level0\" >&nbsp;</th>\n",
              "      <th id=\"T_6fc1e_level0_col0\" class=\"col_heading level0 col0\" >Predict No Distress</th>\n",
              "      <th id=\"T_6fc1e_level0_col1\" class=\"col_heading level0 col1\" >Predict Distress</th>\n",
              "    </tr>\n",
              "  </thead>\n",
              "  <tbody>\n",
              "    <tr>\n",
              "      <th id=\"T_6fc1e_level0_row0\" class=\"row_heading level0 row0\" >Actual No Distress</th>\n",
              "      <td id=\"T_6fc1e_row0_col0\" class=\"data row0 col0\" >128</td>\n",
              "      <td id=\"T_6fc1e_row0_col1\" class=\"data row0 col1\" >4</td>\n",
              "    </tr>\n",
              "    <tr>\n",
              "      <th id=\"T_6fc1e_level0_row1\" class=\"row_heading level0 row1\" >Actual Distress</th>\n",
              "      <td id=\"T_6fc1e_row1_col0\" class=\"data row1 col0\" >4</td>\n",
              "      <td id=\"T_6fc1e_row1_col1\" class=\"data row1 col1\" >6</td>\n",
              "    </tr>\n",
              "  </tbody>\n",
              "</table>\n"
            ]
          },
          "metadata": {},
          "execution_count": 261
        }
      ],
      "source": [
        "my_forest_up = RandomForestClassifier(random_state = 0,\n",
        "                                      class_weight = 'balanced',\n",
        "                                      )\n",
        "model_forest_up = my_forest_up.fit(X_upsampled, y_upsampled)\n",
        "y_pred_forest_up = model_forest_up.predict(X_test)\n",
        "y_pred_forest_up_train = model_forest_up.predict(X_upsampled)\n",
        "print(classification_report(y_upsampled, y_pred_forest_up_train))\n",
        "print(f'Random Forest Accuracy Train: {100*round(accuracy_score(y_upsampled, y_pred_forest_up_train),2)}%')\n",
        "confusion_matrix_df(y_upsampled, y_pred_forest_up_train)\n",
        "print(classification_report(y_test, y_pred_forest_up))\n",
        "print(f'Random Forest Accuracy: {100*round(accuracy_score(y_test, y_pred_forest_up),2)}%')\n",
        "confusion_matrix_df(y_test,y_pred_forest_up)"
      ]
    },
    {
      "cell_type": "code",
      "execution_count": 262,
      "metadata": {
        "colab": {
          "base_uri": "https://localhost:8080/",
          "height": 118
        },
        "id": "Tcui0guiKoFT",
        "outputId": "02882bba-b080-46c8-fcc3-7be682c2a63b"
      },
      "outputs": [
        {
          "output_type": "execute_result",
          "data": {
            "text/plain": [
              "GridSearchCV(cv=5,\n",
              "             estimator=RandomForestClassifier(class_weight='balanced',\n",
              "                                              random_state=0),\n",
              "             param_grid={'max_depth': [4, 5, 6, 7, 8],\n",
              "                         'max_features': ['auto', 'sqrt'],\n",
              "                         'min_samples_split': [2, 4, 6],\n",
              "                         'n_estimators': [60, 70, 80]},\n",
              "             scoring='recall')"
            ],
            "text/html": [
              "<style>#sk-container-id-22 {color: black;background-color: white;}#sk-container-id-22 pre{padding: 0;}#sk-container-id-22 div.sk-toggleable {background-color: white;}#sk-container-id-22 label.sk-toggleable__label {cursor: pointer;display: block;width: 100%;margin-bottom: 0;padding: 0.3em;box-sizing: border-box;text-align: center;}#sk-container-id-22 label.sk-toggleable__label-arrow:before {content: \"▸\";float: left;margin-right: 0.25em;color: #696969;}#sk-container-id-22 label.sk-toggleable__label-arrow:hover:before {color: black;}#sk-container-id-22 div.sk-estimator:hover label.sk-toggleable__label-arrow:before {color: black;}#sk-container-id-22 div.sk-toggleable__content {max-height: 0;max-width: 0;overflow: hidden;text-align: left;background-color: #f0f8ff;}#sk-container-id-22 div.sk-toggleable__content pre {margin: 0.2em;color: black;border-radius: 0.25em;background-color: #f0f8ff;}#sk-container-id-22 input.sk-toggleable__control:checked~div.sk-toggleable__content {max-height: 200px;max-width: 100%;overflow: auto;}#sk-container-id-22 input.sk-toggleable__control:checked~label.sk-toggleable__label-arrow:before {content: \"▾\";}#sk-container-id-22 div.sk-estimator input.sk-toggleable__control:checked~label.sk-toggleable__label {background-color: #d4ebff;}#sk-container-id-22 div.sk-label input.sk-toggleable__control:checked~label.sk-toggleable__label {background-color: #d4ebff;}#sk-container-id-22 input.sk-hidden--visually {border: 0;clip: rect(1px 1px 1px 1px);clip: rect(1px, 1px, 1px, 1px);height: 1px;margin: -1px;overflow: hidden;padding: 0;position: absolute;width: 1px;}#sk-container-id-22 div.sk-estimator {font-family: monospace;background-color: #f0f8ff;border: 1px dotted black;border-radius: 0.25em;box-sizing: border-box;margin-bottom: 0.5em;}#sk-container-id-22 div.sk-estimator:hover {background-color: #d4ebff;}#sk-container-id-22 div.sk-parallel-item::after {content: \"\";width: 100%;border-bottom: 1px solid gray;flex-grow: 1;}#sk-container-id-22 div.sk-label:hover label.sk-toggleable__label {background-color: #d4ebff;}#sk-container-id-22 div.sk-serial::before {content: \"\";position: absolute;border-left: 1px solid gray;box-sizing: border-box;top: 0;bottom: 0;left: 50%;z-index: 0;}#sk-container-id-22 div.sk-serial {display: flex;flex-direction: column;align-items: center;background-color: white;padding-right: 0.2em;padding-left: 0.2em;position: relative;}#sk-container-id-22 div.sk-item {position: relative;z-index: 1;}#sk-container-id-22 div.sk-parallel {display: flex;align-items: stretch;justify-content: center;background-color: white;position: relative;}#sk-container-id-22 div.sk-item::before, #sk-container-id-22 div.sk-parallel-item::before {content: \"\";position: absolute;border-left: 1px solid gray;box-sizing: border-box;top: 0;bottom: 0;left: 50%;z-index: -1;}#sk-container-id-22 div.sk-parallel-item {display: flex;flex-direction: column;z-index: 1;position: relative;background-color: white;}#sk-container-id-22 div.sk-parallel-item:first-child::after {align-self: flex-end;width: 50%;}#sk-container-id-22 div.sk-parallel-item:last-child::after {align-self: flex-start;width: 50%;}#sk-container-id-22 div.sk-parallel-item:only-child::after {width: 0;}#sk-container-id-22 div.sk-dashed-wrapped {border: 1px dashed gray;margin: 0 0.4em 0.5em 0.4em;box-sizing: border-box;padding-bottom: 0.4em;background-color: white;}#sk-container-id-22 div.sk-label label {font-family: monospace;font-weight: bold;display: inline-block;line-height: 1.2em;}#sk-container-id-22 div.sk-label-container {text-align: center;}#sk-container-id-22 div.sk-container {/* jupyter's `normalize.less` sets `[hidden] { display: none; }` but bootstrap.min.css set `[hidden] { display: none !important; }` so we also need the `!important` here to be able to override the default hidden behavior on the sphinx rendered scikit-learn.org. See: https://github.com/scikit-learn/scikit-learn/issues/21755 */display: inline-block !important;position: relative;}#sk-container-id-22 div.sk-text-repr-fallback {display: none;}</style><div id=\"sk-container-id-22\" class=\"sk-top-container\"><div class=\"sk-text-repr-fallback\"><pre>GridSearchCV(cv=5,\n",
              "             estimator=RandomForestClassifier(class_weight=&#x27;balanced&#x27;,\n",
              "                                              random_state=0),\n",
              "             param_grid={&#x27;max_depth&#x27;: [4, 5, 6, 7, 8],\n",
              "                         &#x27;max_features&#x27;: [&#x27;auto&#x27;, &#x27;sqrt&#x27;],\n",
              "                         &#x27;min_samples_split&#x27;: [2, 4, 6],\n",
              "                         &#x27;n_estimators&#x27;: [60, 70, 80]},\n",
              "             scoring=&#x27;recall&#x27;)</pre><b>In a Jupyter environment, please rerun this cell to show the HTML representation or trust the notebook. <br />On GitHub, the HTML representation is unable to render, please try loading this page with nbviewer.org.</b></div><div class=\"sk-container\" hidden><div class=\"sk-item sk-dashed-wrapped\"><div class=\"sk-label-container\"><div class=\"sk-label sk-toggleable\"><input class=\"sk-toggleable__control sk-hidden--visually\" id=\"sk-estimator-id-64\" type=\"checkbox\" ><label for=\"sk-estimator-id-64\" class=\"sk-toggleable__label sk-toggleable__label-arrow\">GridSearchCV</label><div class=\"sk-toggleable__content\"><pre>GridSearchCV(cv=5,\n",
              "             estimator=RandomForestClassifier(class_weight=&#x27;balanced&#x27;,\n",
              "                                              random_state=0),\n",
              "             param_grid={&#x27;max_depth&#x27;: [4, 5, 6, 7, 8],\n",
              "                         &#x27;max_features&#x27;: [&#x27;auto&#x27;, &#x27;sqrt&#x27;],\n",
              "                         &#x27;min_samples_split&#x27;: [2, 4, 6],\n",
              "                         &#x27;n_estimators&#x27;: [60, 70, 80]},\n",
              "             scoring=&#x27;recall&#x27;)</pre></div></div></div><div class=\"sk-parallel\"><div class=\"sk-parallel-item\"><div class=\"sk-item\"><div class=\"sk-label-container\"><div class=\"sk-label sk-toggleable\"><input class=\"sk-toggleable__control sk-hidden--visually\" id=\"sk-estimator-id-65\" type=\"checkbox\" ><label for=\"sk-estimator-id-65\" class=\"sk-toggleable__label sk-toggleable__label-arrow\">estimator: RandomForestClassifier</label><div class=\"sk-toggleable__content\"><pre>RandomForestClassifier(class_weight=&#x27;balanced&#x27;, random_state=0)</pre></div></div></div><div class=\"sk-serial\"><div class=\"sk-item\"><div class=\"sk-estimator sk-toggleable\"><input class=\"sk-toggleable__control sk-hidden--visually\" id=\"sk-estimator-id-66\" type=\"checkbox\" ><label for=\"sk-estimator-id-66\" class=\"sk-toggleable__label sk-toggleable__label-arrow\">RandomForestClassifier</label><div class=\"sk-toggleable__content\"><pre>RandomForestClassifier(class_weight=&#x27;balanced&#x27;, random_state=0)</pre></div></div></div></div></div></div></div></div></div></div>"
            ]
          },
          "metadata": {},
          "execution_count": 262
        }
      ],
      "source": [
        "forest_param_up = {'n_estimators': [60,70,80],\n",
        "                'max_depth' : [4,5,6,7,8],\n",
        "                'max_features':['auto','sqrt'],\n",
        "                'min_samples_split':[2,4,6]}\n",
        "grid_forest_up = GridSearchCV(estimator = RandomForestClassifier(random_state = 0,class_weight = 'balanced',criterion = 'gini'),\n",
        "                           param_grid=forest_param_up, cv= 5,scoring = 'recall')\n",
        "grid_forest_up.fit(X_upsampled, y_upsampled)"
      ]
    },
    {
      "cell_type": "code",
      "execution_count": 263,
      "metadata": {
        "colab": {
          "base_uri": "https://localhost:8080/"
        },
        "id": "va9hsxbGIUhR",
        "outputId": "f4caa26d-177c-4829-adbf-5ff981fcd815"
      },
      "outputs": [
        {
          "output_type": "execute_result",
          "data": {
            "text/plain": [
              "{'max_depth': 7,\n",
              " 'max_features': 'auto',\n",
              " 'min_samples_split': 2,\n",
              " 'n_estimators': 60}"
            ]
          },
          "metadata": {},
          "execution_count": 263
        }
      ],
      "source": [
        "grid_forest_up.best_params_"
      ]
    },
    {
      "cell_type": "code",
      "execution_count": 264,
      "metadata": {
        "colab": {
          "base_uri": "https://localhost:8080/",
          "height": 459
        },
        "id": "3Cq8fK2tKoFU",
        "outputId": "2510842f-3b2b-4d1b-866a-41cc11c3c05d"
      },
      "outputs": [
        {
          "output_type": "stream",
          "name": "stdout",
          "text": [
            "              precision    recall  f1-score   support\n",
            "\n",
            "           0       1.00      0.97      0.99       513\n",
            "           1       0.98      1.00      0.99       513\n",
            "\n",
            "    accuracy                           0.99      1026\n",
            "   macro avg       0.99      0.99      0.99      1026\n",
            "weighted avg       0.99      0.99      0.99      1026\n",
            "\n",
            "Random Forest Accuracy Train: 99.0%\n",
            "              precision    recall  f1-score   support\n",
            "\n",
            "           0       0.98      0.92      0.95       132\n",
            "           1       0.44      0.80      0.57        10\n",
            "\n",
            "    accuracy                           0.92       142\n",
            "   macro avg       0.71      0.86      0.76       142\n",
            "weighted avg       0.95      0.92      0.93       142\n",
            "\n",
            "Random Forest Accuracy: 92.0%\n"
          ]
        },
        {
          "output_type": "execute_result",
          "data": {
            "text/plain": [
              "<pandas.io.formats.style.Styler at 0x7f183412ece0>"
            ],
            "text/html": [
              "<style type=\"text/css\">\n",
              "#T_ebcb8_row0_col0, #T_ebcb8_row0_col1 {\n",
              "  background-color: #00441b;\n",
              "  color: #f1f1f1;\n",
              "}\n",
              "#T_ebcb8_row1_col0, #T_ebcb8_row1_col1 {\n",
              "  background-color: #f7fcf5;\n",
              "  color: #000000;\n",
              "}\n",
              "</style>\n",
              "<table id=\"T_ebcb8\" class=\"dataframe\">\n",
              "  <thead>\n",
              "    <tr>\n",
              "      <th class=\"blank level0\" >&nbsp;</th>\n",
              "      <th id=\"T_ebcb8_level0_col0\" class=\"col_heading level0 col0\" >Predict No Distress</th>\n",
              "      <th id=\"T_ebcb8_level0_col1\" class=\"col_heading level0 col1\" >Predict Distress</th>\n",
              "    </tr>\n",
              "  </thead>\n",
              "  <tbody>\n",
              "    <tr>\n",
              "      <th id=\"T_ebcb8_level0_row0\" class=\"row_heading level0 row0\" >Actual No Distress</th>\n",
              "      <td id=\"T_ebcb8_row0_col0\" class=\"data row0 col0\" >122</td>\n",
              "      <td id=\"T_ebcb8_row0_col1\" class=\"data row0 col1\" >10</td>\n",
              "    </tr>\n",
              "    <tr>\n",
              "      <th id=\"T_ebcb8_level0_row1\" class=\"row_heading level0 row1\" >Actual Distress</th>\n",
              "      <td id=\"T_ebcb8_row1_col0\" class=\"data row1 col0\" >2</td>\n",
              "      <td id=\"T_ebcb8_row1_col1\" class=\"data row1 col1\" >8</td>\n",
              "    </tr>\n",
              "  </tbody>\n",
              "</table>\n"
            ]
          },
          "metadata": {},
          "execution_count": 264
        }
      ],
      "source": [
        "y_pred_grid_forest_up = grid_forest_up.predict(X_test)\n",
        "y_pred_grid_forest_up_train = grid_forest_up.predict(X_upsampled)\n",
        "print(classification_report(y_upsampled, y_pred_grid_forest_up_train))\n",
        "print(f'Random Forest Accuracy Train: {100*round(accuracy_score(y_upsampled, y_pred_grid_forest_up_train),2)}%')\n",
        "confusion_matrix_df(y_upsampled, y_pred_grid_forest_up_train)\n",
        "print(classification_report(y_test, y_pred_grid_forest_up))\n",
        "print(f'Random Forest Accuracy: {100*round(accuracy_score(y_test, y_pred_grid_forest_up),2)}%')\n",
        "confusion_matrix_df(y_test,y_pred_grid_forest_up)"
      ]
    },
    {
      "cell_type": "code",
      "execution_count": 264,
      "metadata": {
        "id": "BFN6FMRCH2yQ"
      },
      "outputs": [],
      "source": []
    },
    {
      "cell_type": "code",
      "execution_count": 265,
      "metadata": {
        "id": "8AkKG9svKoFU"
      },
      "outputs": [],
      "source": [
        "from sklearn.preprocessing import StandardScaler\n",
        "sc = StandardScaler()\n",
        "X_upsampled = sc.fit_transform(X_upsampled)\n",
        "X_test = sc.transform(X_test)"
      ]
    },
    {
      "cell_type": "code",
      "execution_count": 266,
      "metadata": {
        "id": "WMayDSpEKoFV",
        "colab": {
          "base_uri": "https://localhost:8080/",
          "height": 459
        },
        "outputId": "c78f7b77-ce2c-4251-8cca-5da35f956647"
      },
      "outputs": [
        {
          "output_type": "stream",
          "name": "stdout",
          "text": [
            "              precision    recall  f1-score   support\n",
            "\n",
            "           0       0.74      0.73      0.73       513\n",
            "           1       0.73      0.75      0.74       513\n",
            "\n",
            "    accuracy                           0.74      1026\n",
            "   macro avg       0.74      0.74      0.74      1026\n",
            "weighted avg       0.74      0.74      0.74      1026\n",
            "\n",
            "Logistic Regression Accuracy Train: 73.78%\n",
            "              precision    recall  f1-score   support\n",
            "\n",
            "           0       0.98      0.73      0.84       132\n",
            "           1       0.19      0.80      0.30        10\n",
            "\n",
            "    accuracy                           0.74       142\n",
            "   macro avg       0.58      0.77      0.57       142\n",
            "weighted avg       0.92      0.74      0.80       142\n",
            "\n",
            "Logistic Regression Accuracy: 73.94%\n"
          ]
        },
        {
          "output_type": "execute_result",
          "data": {
            "text/plain": [
              "<pandas.io.formats.style.Styler at 0x7f183412c9d0>"
            ],
            "text/html": [
              "<style type=\"text/css\">\n",
              "#T_1feff_row0_col0, #T_1feff_row0_col1 {\n",
              "  background-color: #00441b;\n",
              "  color: #f1f1f1;\n",
              "}\n",
              "#T_1feff_row1_col0, #T_1feff_row1_col1 {\n",
              "  background-color: #f7fcf5;\n",
              "  color: #000000;\n",
              "}\n",
              "</style>\n",
              "<table id=\"T_1feff\" class=\"dataframe\">\n",
              "  <thead>\n",
              "    <tr>\n",
              "      <th class=\"blank level0\" >&nbsp;</th>\n",
              "      <th id=\"T_1feff_level0_col0\" class=\"col_heading level0 col0\" >Predict No Distress</th>\n",
              "      <th id=\"T_1feff_level0_col1\" class=\"col_heading level0 col1\" >Predict Distress</th>\n",
              "    </tr>\n",
              "  </thead>\n",
              "  <tbody>\n",
              "    <tr>\n",
              "      <th id=\"T_1feff_level0_row0\" class=\"row_heading level0 row0\" >Actual No Distress</th>\n",
              "      <td id=\"T_1feff_row0_col0\" class=\"data row0 col0\" >97</td>\n",
              "      <td id=\"T_1feff_row0_col1\" class=\"data row0 col1\" >35</td>\n",
              "    </tr>\n",
              "    <tr>\n",
              "      <th id=\"T_1feff_level0_row1\" class=\"row_heading level0 row1\" >Actual Distress</th>\n",
              "      <td id=\"T_1feff_row1_col0\" class=\"data row1 col0\" >2</td>\n",
              "      <td id=\"T_1feff_row1_col1\" class=\"data row1 col1\" >8</td>\n",
              "    </tr>\n",
              "  </tbody>\n",
              "</table>\n"
            ]
          },
          "metadata": {},
          "execution_count": 266
        }
      ],
      "source": [
        "from scipy.stats import pearsonr,spearmanr\n",
        "from sklearn.metrics import accuracy_score,confusion_matrix,precision_score,f1_score,recall_score,classification_report\n",
        "from sklearn.linear_model import LogisticRegression\n",
        "from sklearn.metrics import confusion_matrix\n",
        "lr=LogisticRegression(random_state = 0,class_weight = 'balanced')\n",
        "model_lr = lr.fit(X_upsampled, y_upsampled)\n",
        "y_pred_lr = model_lr.predict(X_test)\n",
        "y_pred_lr_train = model_lr.predict(X_upsampled)\n",
        "print(classification_report(y_upsampled,y_pred_lr_train))\n",
        "print(f'Logistic Regression Accuracy Train: {round(100*accuracy_score(y_upsampled,y_pred_lr_train),2)}%')\n",
        "confusion_matrix_df(y_upsampled,y_pred_lr_train)\n",
        "print(classification_report(y_test,y_pred_lr))\n",
        "print(f'Logistic Regression Accuracy: {round(100*accuracy_score(y_test,y_pred_lr),2)}%')\n",
        "confusion_matrix_df(y_test,y_pred_lr)"
      ]
    },
    {
      "cell_type": "code",
      "execution_count": 267,
      "metadata": {
        "id": "PoAamQxiKoFV",
        "colab": {
          "base_uri": "https://localhost:8080/"
        },
        "outputId": "9647ab5b-3698-4b82-e796-974a52d65ba9"
      },
      "outputs": [
        {
          "output_type": "stream",
          "name": "stdout",
          "text": [
            "THRESHOLD = 0.6\n",
            "Accuracy Train: 73.2%\n",
            "              precision    recall  f1-score   support\n",
            "\n",
            "           0       0.83      0.58      0.68       513\n",
            "           1       0.68      0.88      0.77       513\n",
            "\n",
            "    accuracy                           0.73      1026\n",
            "   macro avg       0.76      0.73      0.73      1026\n",
            "weighted avg       0.76      0.73      0.73      1026\n",
            "\n",
            "Accuracy: 59.86%\n",
            "              precision    recall  f1-score   support\n",
            "\n",
            "           0       1.00      0.57      0.72       132\n",
            "           1       0.15      1.00      0.26        10\n",
            "\n",
            "    accuracy                           0.60       142\n",
            "   macro avg       0.57      0.78      0.49       142\n",
            "weighted avg       0.94      0.60      0.69       142\n",
            "\n",
            "THRESHOLD = 0.65\n",
            "Accuracy Train: 68.91%\n",
            "              precision    recall  f1-score   support\n",
            "\n",
            "           0       0.82      0.48      0.61       513\n",
            "           1       0.63      0.90      0.74       513\n",
            "\n",
            "    accuracy                           0.69      1026\n",
            "   macro avg       0.73      0.69      0.68      1026\n",
            "weighted avg       0.73      0.69      0.68      1026\n",
            "\n",
            "Accuracy: 46.48%\n",
            "              precision    recall  f1-score   support\n",
            "\n",
            "           0       1.00      0.42      0.60       132\n",
            "           1       0.12      1.00      0.21        10\n",
            "\n",
            "    accuracy                           0.46       142\n",
            "   macro avg       0.56      0.71      0.40       142\n",
            "weighted avg       0.94      0.46      0.57       142\n",
            "\n",
            "THRESHOLD = 0.7\n",
            "Accuracy Train: 66.47%\n",
            "              precision    recall  f1-score   support\n",
            "\n",
            "           0       0.85      0.40      0.54       513\n",
            "           1       0.61      0.93      0.73       513\n",
            "\n",
            "    accuracy                           0.66      1026\n",
            "   macro avg       0.73      0.66      0.64      1026\n",
            "weighted avg       0.73      0.66      0.64      1026\n",
            "\n",
            "Accuracy: 38.03%\n",
            "              precision    recall  f1-score   support\n",
            "\n",
            "           0       1.00      0.33      0.50       132\n",
            "           1       0.10      1.00      0.19        10\n",
            "\n",
            "    accuracy                           0.38       142\n",
            "   macro avg       0.55      0.67      0.34       142\n",
            "weighted avg       0.94      0.38      0.48       142\n",
            "\n",
            "THRESHOLD = 0.75\n",
            "Accuracy Train: 64.81%\n",
            "              precision    recall  f1-score   support\n",
            "\n",
            "           0       0.95      0.31      0.47       513\n",
            "           1       0.59      0.98      0.74       513\n",
            "\n",
            "    accuracy                           0.65      1026\n",
            "   macro avg       0.77      0.65      0.60      1026\n",
            "weighted avg       0.77      0.65      0.60      1026\n",
            "\n",
            "Accuracy: 33.8%\n",
            "              precision    recall  f1-score   support\n",
            "\n",
            "           0       1.00      0.29      0.45       132\n",
            "           1       0.10      1.00      0.18        10\n",
            "\n",
            "    accuracy                           0.34       142\n",
            "   macro avg       0.55      0.64      0.31       142\n",
            "weighted avg       0.94      0.34      0.43       142\n",
            "\n",
            "THRESHOLD = 0.8\n",
            "Accuracy Train: 62.67%\n",
            "              precision    recall  f1-score   support\n",
            "\n",
            "           0       1.00      0.25      0.40       513\n",
            "           1       0.57      1.00      0.73       513\n",
            "\n",
            "    accuracy                           0.63      1026\n",
            "   macro avg       0.79      0.63      0.57      1026\n",
            "weighted avg       0.79      0.63      0.57      1026\n",
            "\n",
            "Accuracy: 28.17%\n",
            "              precision    recall  f1-score   support\n",
            "\n",
            "           0       1.00      0.23      0.37       132\n",
            "           1       0.09      1.00      0.16        10\n",
            "\n",
            "    accuracy                           0.28       142\n",
            "   macro avg       0.54      0.61      0.27       142\n",
            "weighted avg       0.94      0.28      0.36       142\n",
            "\n",
            "THRESHOLD = 0.85\n",
            "Accuracy Train: 59.06%\n",
            "              precision    recall  f1-score   support\n",
            "\n",
            "           0       1.00      0.18      0.31       513\n",
            "           1       0.55      1.00      0.71       513\n",
            "\n",
            "    accuracy                           0.59      1026\n",
            "   macro avg       0.77      0.59      0.51      1026\n",
            "weighted avg       0.77      0.59      0.51      1026\n",
            "\n",
            "Accuracy: 23.24%\n",
            "              precision    recall  f1-score   support\n",
            "\n",
            "           0       1.00      0.17      0.30       132\n",
            "           1       0.08      1.00      0.16        10\n",
            "\n",
            "    accuracy                           0.23       142\n",
            "   macro avg       0.54      0.59      0.23       142\n",
            "weighted avg       0.94      0.23      0.29       142\n",
            "\n",
            "THRESHOLD = 0.9\n",
            "Accuracy Train: 56.92%\n",
            "              precision    recall  f1-score   support\n",
            "\n",
            "           0       1.00      0.14      0.24       513\n",
            "           1       0.54      1.00      0.70       513\n",
            "\n",
            "    accuracy                           0.57      1026\n",
            "   macro avg       0.77      0.57      0.47      1026\n",
            "weighted avg       0.77      0.57      0.47      1026\n",
            "\n",
            "Accuracy: 19.01%\n",
            "              precision    recall  f1-score   support\n",
            "\n",
            "           0       1.00      0.13      0.23       132\n",
            "           1       0.08      1.00      0.15        10\n",
            "\n",
            "    accuracy                           0.19       142\n",
            "   macro avg       0.54      0.56      0.19       142\n",
            "weighted avg       0.94      0.19      0.22       142\n",
            "\n",
            "THRESHOLD = 0.95\n",
            "Accuracy Train: 54.48%\n",
            "              precision    recall  f1-score   support\n",
            "\n",
            "           0       1.00      0.09      0.16       513\n",
            "           1       0.52      1.00      0.69       513\n",
            "\n",
            "    accuracy                           0.54      1026\n",
            "   macro avg       0.76      0.54      0.43      1026\n",
            "weighted avg       0.76      0.54      0.43      1026\n",
            "\n",
            "Accuracy: 13.38%\n",
            "              precision    recall  f1-score   support\n",
            "\n",
            "           0       1.00      0.07      0.13       132\n",
            "           1       0.08      1.00      0.14        10\n",
            "\n",
            "    accuracy                           0.13       142\n",
            "   macro avg       0.54      0.53      0.13       142\n",
            "weighted avg       0.93      0.13      0.13       142\n",
            "\n"
          ]
        }
      ],
      "source": [
        "lr_tune = LogisticRegression(random_state = 0,class_weight = 'balanced')\n",
        "lr_tune.fit(X_upsampled, y_upsampled)\n",
        "for i in range(60,100,5):\n",
        "    print(f'THRESHOLD = {i/100}')\n",
        "    y_pred = np.where(lr_tune.predict_proba(X_test)[:,0] > i/100,0,1)\n",
        "    y_pred_train = np.where(lr_tune.predict_proba(X_upsampled)[:,0] > i/100,0,1)\n",
        "    print(f'Accuracy Train: {round(100*accuracy_score(y_upsampled,y_pred_train),2)}%')\n",
        "    print(classification_report(y_upsampled,y_pred_train))\n",
        "    print(f'Accuracy: {round(100*accuracy_score(y_test,y_pred),2)}%')\n",
        "    print(classification_report(y_test,y_pred))"
      ]
    },
    {
      "cell_type": "code",
      "execution_count": 268,
      "metadata": {
        "id": "zRbIuxzAKoFW",
        "colab": {
          "base_uri": "https://localhost:8080/",
          "height": 459
        },
        "outputId": "7e5f7209-eadf-4950-b5c5-d018334c96a9"
      },
      "outputs": [
        {
          "output_type": "stream",
          "name": "stdout",
          "text": [
            "              precision    recall  f1-score   support\n",
            "\n",
            "           0       1.00      0.88      0.94       513\n",
            "           1       0.90      1.00      0.95       513\n",
            "\n",
            "    accuracy                           0.94      1026\n",
            "   macro avg       0.95      0.94      0.94      1026\n",
            "weighted avg       0.95      0.94      0.94      1026\n",
            "\n",
            "KNN Accuracy Train: 94.0%\n",
            "              precision    recall  f1-score   support\n",
            "\n",
            "           0       0.96      0.80      0.87       132\n",
            "           1       0.18      0.60      0.28        10\n",
            "\n",
            "    accuracy                           0.78       142\n",
            "   macro avg       0.57      0.70      0.58       142\n",
            "weighted avg       0.91      0.78      0.83       142\n",
            "\n",
            "KNN Accuracy: 78.0%\n"
          ]
        },
        {
          "output_type": "execute_result",
          "data": {
            "text/plain": [
              "<pandas.io.formats.style.Styler at 0x7f183412d6f0>"
            ],
            "text/html": [
              "<style type=\"text/css\">\n",
              "#T_014be_row0_col0, #T_014be_row0_col1 {\n",
              "  background-color: #00441b;\n",
              "  color: #f1f1f1;\n",
              "}\n",
              "#T_014be_row1_col0, #T_014be_row1_col1 {\n",
              "  background-color: #f7fcf5;\n",
              "  color: #000000;\n",
              "}\n",
              "</style>\n",
              "<table id=\"T_014be\" class=\"dataframe\">\n",
              "  <thead>\n",
              "    <tr>\n",
              "      <th class=\"blank level0\" >&nbsp;</th>\n",
              "      <th id=\"T_014be_level0_col0\" class=\"col_heading level0 col0\" >Predict No Distress</th>\n",
              "      <th id=\"T_014be_level0_col1\" class=\"col_heading level0 col1\" >Predict Distress</th>\n",
              "    </tr>\n",
              "  </thead>\n",
              "  <tbody>\n",
              "    <tr>\n",
              "      <th id=\"T_014be_level0_row0\" class=\"row_heading level0 row0\" >Actual No Distress</th>\n",
              "      <td id=\"T_014be_row0_col0\" class=\"data row0 col0\" >105</td>\n",
              "      <td id=\"T_014be_row0_col1\" class=\"data row0 col1\" >27</td>\n",
              "    </tr>\n",
              "    <tr>\n",
              "      <th id=\"T_014be_level0_row1\" class=\"row_heading level0 row1\" >Actual Distress</th>\n",
              "      <td id=\"T_014be_row1_col0\" class=\"data row1 col0\" >4</td>\n",
              "      <td id=\"T_014be_row1_col1\" class=\"data row1 col1\" >6</td>\n",
              "    </tr>\n",
              "  </tbody>\n",
              "</table>\n"
            ]
          },
          "metadata": {},
          "execution_count": 268
        }
      ],
      "source": [
        "from sklearn.neighbors import KNeighborsClassifier\n",
        "model_knn = KNeighborsClassifier()\n",
        "model_knn.fit(X_upsampled, y_upsampled)\n",
        "y_pred_knn = model_knn.predict(X_test)\n",
        "y_pred_knn_train = model_knn.predict(X_upsampled)\n",
        "print(classification_report(y_upsampled,y_pred_knn_train))\n",
        "print(f'KNN Accuracy Train: {100*round(accuracy_score(y_upsampled,y_pred_knn_train),2)}%')\n",
        "confusion_matrix_df(y_upsampled,y_pred_knn_train)\n",
        "print(classification_report(y_test,y_pred_knn))\n",
        "print(f'KNN Accuracy: {100*round(accuracy_score(y_test, y_pred_knn),2)}%')\n",
        "confusion_matrix_df(y_test,y_pred_knn)"
      ]
    },
    {
      "cell_type": "code",
      "execution_count": 269,
      "metadata": {
        "id": "iKIWxHnyKoFX",
        "colab": {
          "base_uri": "https://localhost:8080/",
          "height": 118
        },
        "outputId": "541c60a6-cf6d-4b1a-bf52-1b8557fd4699"
      },
      "outputs": [
        {
          "output_type": "execute_result",
          "data": {
            "text/plain": [
              "GridSearchCV(cv=5, estimator=KNeighborsClassifier(),\n",
              "             param_grid={'algorithm': ['auto', 'ball_tree', 'kd_tree', 'brute'],\n",
              "                         'leaf_size': [5, 10, 20, 40],\n",
              "                         'n_neighbors': [1, 2, 3, 4, 5, 6, 7, 8, 9, 10, 11, 12,\n",
              "                                         13, 14, 15, 16, 17, 18, 19, 20, 21, 22,\n",
              "                                         23, 24, 25, 26, 27, 28, 29, 30, ...],\n",
              "                         'p': [1, 2]},\n",
              "             scoring='recall')"
            ],
            "text/html": [
              "<style>#sk-container-id-23 {color: black;background-color: white;}#sk-container-id-23 pre{padding: 0;}#sk-container-id-23 div.sk-toggleable {background-color: white;}#sk-container-id-23 label.sk-toggleable__label {cursor: pointer;display: block;width: 100%;margin-bottom: 0;padding: 0.3em;box-sizing: border-box;text-align: center;}#sk-container-id-23 label.sk-toggleable__label-arrow:before {content: \"▸\";float: left;margin-right: 0.25em;color: #696969;}#sk-container-id-23 label.sk-toggleable__label-arrow:hover:before {color: black;}#sk-container-id-23 div.sk-estimator:hover label.sk-toggleable__label-arrow:before {color: black;}#sk-container-id-23 div.sk-toggleable__content {max-height: 0;max-width: 0;overflow: hidden;text-align: left;background-color: #f0f8ff;}#sk-container-id-23 div.sk-toggleable__content pre {margin: 0.2em;color: black;border-radius: 0.25em;background-color: #f0f8ff;}#sk-container-id-23 input.sk-toggleable__control:checked~div.sk-toggleable__content {max-height: 200px;max-width: 100%;overflow: auto;}#sk-container-id-23 input.sk-toggleable__control:checked~label.sk-toggleable__label-arrow:before {content: \"▾\";}#sk-container-id-23 div.sk-estimator input.sk-toggleable__control:checked~label.sk-toggleable__label {background-color: #d4ebff;}#sk-container-id-23 div.sk-label input.sk-toggleable__control:checked~label.sk-toggleable__label {background-color: #d4ebff;}#sk-container-id-23 input.sk-hidden--visually {border: 0;clip: rect(1px 1px 1px 1px);clip: rect(1px, 1px, 1px, 1px);height: 1px;margin: -1px;overflow: hidden;padding: 0;position: absolute;width: 1px;}#sk-container-id-23 div.sk-estimator {font-family: monospace;background-color: #f0f8ff;border: 1px dotted black;border-radius: 0.25em;box-sizing: border-box;margin-bottom: 0.5em;}#sk-container-id-23 div.sk-estimator:hover {background-color: #d4ebff;}#sk-container-id-23 div.sk-parallel-item::after {content: \"\";width: 100%;border-bottom: 1px solid gray;flex-grow: 1;}#sk-container-id-23 div.sk-label:hover label.sk-toggleable__label {background-color: #d4ebff;}#sk-container-id-23 div.sk-serial::before {content: \"\";position: absolute;border-left: 1px solid gray;box-sizing: border-box;top: 0;bottom: 0;left: 50%;z-index: 0;}#sk-container-id-23 div.sk-serial {display: flex;flex-direction: column;align-items: center;background-color: white;padding-right: 0.2em;padding-left: 0.2em;position: relative;}#sk-container-id-23 div.sk-item {position: relative;z-index: 1;}#sk-container-id-23 div.sk-parallel {display: flex;align-items: stretch;justify-content: center;background-color: white;position: relative;}#sk-container-id-23 div.sk-item::before, #sk-container-id-23 div.sk-parallel-item::before {content: \"\";position: absolute;border-left: 1px solid gray;box-sizing: border-box;top: 0;bottom: 0;left: 50%;z-index: -1;}#sk-container-id-23 div.sk-parallel-item {display: flex;flex-direction: column;z-index: 1;position: relative;background-color: white;}#sk-container-id-23 div.sk-parallel-item:first-child::after {align-self: flex-end;width: 50%;}#sk-container-id-23 div.sk-parallel-item:last-child::after {align-self: flex-start;width: 50%;}#sk-container-id-23 div.sk-parallel-item:only-child::after {width: 0;}#sk-container-id-23 div.sk-dashed-wrapped {border: 1px dashed gray;margin: 0 0.4em 0.5em 0.4em;box-sizing: border-box;padding-bottom: 0.4em;background-color: white;}#sk-container-id-23 div.sk-label label {font-family: monospace;font-weight: bold;display: inline-block;line-height: 1.2em;}#sk-container-id-23 div.sk-label-container {text-align: center;}#sk-container-id-23 div.sk-container {/* jupyter's `normalize.less` sets `[hidden] { display: none; }` but bootstrap.min.css set `[hidden] { display: none !important; }` so we also need the `!important` here to be able to override the default hidden behavior on the sphinx rendered scikit-learn.org. See: https://github.com/scikit-learn/scikit-learn/issues/21755 */display: inline-block !important;position: relative;}#sk-container-id-23 div.sk-text-repr-fallback {display: none;}</style><div id=\"sk-container-id-23\" class=\"sk-top-container\"><div class=\"sk-text-repr-fallback\"><pre>GridSearchCV(cv=5, estimator=KNeighborsClassifier(),\n",
              "             param_grid={&#x27;algorithm&#x27;: [&#x27;auto&#x27;, &#x27;ball_tree&#x27;, &#x27;kd_tree&#x27;, &#x27;brute&#x27;],\n",
              "                         &#x27;leaf_size&#x27;: [5, 10, 20, 40],\n",
              "                         &#x27;n_neighbors&#x27;: [1, 2, 3, 4, 5, 6, 7, 8, 9, 10, 11, 12,\n",
              "                                         13, 14, 15, 16, 17, 18, 19, 20, 21, 22,\n",
              "                                         23, 24, 25, 26, 27, 28, 29, 30, ...],\n",
              "                         &#x27;p&#x27;: [1, 2]},\n",
              "             scoring=&#x27;recall&#x27;)</pre><b>In a Jupyter environment, please rerun this cell to show the HTML representation or trust the notebook. <br />On GitHub, the HTML representation is unable to render, please try loading this page with nbviewer.org.</b></div><div class=\"sk-container\" hidden><div class=\"sk-item sk-dashed-wrapped\"><div class=\"sk-label-container\"><div class=\"sk-label sk-toggleable\"><input class=\"sk-toggleable__control sk-hidden--visually\" id=\"sk-estimator-id-67\" type=\"checkbox\" ><label for=\"sk-estimator-id-67\" class=\"sk-toggleable__label sk-toggleable__label-arrow\">GridSearchCV</label><div class=\"sk-toggleable__content\"><pre>GridSearchCV(cv=5, estimator=KNeighborsClassifier(),\n",
              "             param_grid={&#x27;algorithm&#x27;: [&#x27;auto&#x27;, &#x27;ball_tree&#x27;, &#x27;kd_tree&#x27;, &#x27;brute&#x27;],\n",
              "                         &#x27;leaf_size&#x27;: [5, 10, 20, 40],\n",
              "                         &#x27;n_neighbors&#x27;: [1, 2, 3, 4, 5, 6, 7, 8, 9, 10, 11, 12,\n",
              "                                         13, 14, 15, 16, 17, 18, 19, 20, 21, 22,\n",
              "                                         23, 24, 25, 26, 27, 28, 29, 30, ...],\n",
              "                         &#x27;p&#x27;: [1, 2]},\n",
              "             scoring=&#x27;recall&#x27;)</pre></div></div></div><div class=\"sk-parallel\"><div class=\"sk-parallel-item\"><div class=\"sk-item\"><div class=\"sk-label-container\"><div class=\"sk-label sk-toggleable\"><input class=\"sk-toggleable__control sk-hidden--visually\" id=\"sk-estimator-id-68\" type=\"checkbox\" ><label for=\"sk-estimator-id-68\" class=\"sk-toggleable__label sk-toggleable__label-arrow\">estimator: KNeighborsClassifier</label><div class=\"sk-toggleable__content\"><pre>KNeighborsClassifier()</pre></div></div></div><div class=\"sk-serial\"><div class=\"sk-item\"><div class=\"sk-estimator sk-toggleable\"><input class=\"sk-toggleable__control sk-hidden--visually\" id=\"sk-estimator-id-69\" type=\"checkbox\" ><label for=\"sk-estimator-id-69\" class=\"sk-toggleable__label sk-toggleable__label-arrow\">KNeighborsClassifier</label><div class=\"sk-toggleable__content\"><pre>KNeighborsClassifier()</pre></div></div></div></div></div></div></div></div></div></div>"
            ]
          },
          "metadata": {},
          "execution_count": 269
        }
      ],
      "source": [
        "k_range = list(range(1, 51))\n",
        "knn_param = dict(n_neighbors = k_range,\n",
        "                 p = [1,2],\n",
        "                 leaf_size = [5,10,20,40],\n",
        "                 algorithm = ['auto', 'ball_tree', 'kd_tree', 'brute'])\n",
        "\n",
        "grid_knn = GridSearchCV(KNeighborsClassifier(), knn_param, cv=5,scoring = 'recall')\n",
        "grid_knn.fit(X_upsampled, y_upsampled)"
      ]
    },
    {
      "cell_type": "code",
      "execution_count": 270,
      "metadata": {
        "id": "dXIE-m5ZKoFX",
        "colab": {
          "base_uri": "https://localhost:8080/"
        },
        "outputId": "fde18f38-ba95-4283-a1d1-4127dbe5cb86"
      },
      "outputs": [
        {
          "output_type": "execute_result",
          "data": {
            "text/plain": [
              "{'algorithm': 'auto', 'leaf_size': 5, 'n_neighbors': 1, 'p': 1}"
            ]
          },
          "metadata": {},
          "execution_count": 270
        }
      ],
      "source": [
        "grid_knn.best_params_"
      ]
    },
    {
      "cell_type": "code",
      "execution_count": 271,
      "metadata": {
        "id": "WHORznKmKoFY",
        "colab": {
          "base_uri": "https://localhost:8080/",
          "height": 459
        },
        "outputId": "07022696-e50b-43ba-e557-669da5f9b312"
      },
      "outputs": [
        {
          "output_type": "stream",
          "name": "stdout",
          "text": [
            "              precision    recall  f1-score   support\n",
            "\n",
            "           0       1.00      1.00      1.00       513\n",
            "           1       1.00      1.00      1.00       513\n",
            "\n",
            "    accuracy                           1.00      1026\n",
            "   macro avg       1.00      1.00      1.00      1026\n",
            "weighted avg       1.00      1.00      1.00      1026\n",
            "\n",
            "Random Forest Accuracy Train: 100.0%\n",
            "              precision    recall  f1-score   support\n",
            "\n",
            "           0       0.95      0.95      0.95       132\n",
            "           1       0.36      0.40      0.38        10\n",
            "\n",
            "    accuracy                           0.91       142\n",
            "   macro avg       0.66      0.67      0.67       142\n",
            "weighted avg       0.91      0.91      0.91       142\n",
            "\n",
            "Random Forest Accuracy: 91.0%\n"
          ]
        },
        {
          "output_type": "execute_result",
          "data": {
            "text/plain": [
              "<pandas.io.formats.style.Styler at 0x7f18341bb790>"
            ],
            "text/html": [
              "<style type=\"text/css\">\n",
              "#T_ec70c_row0_col0, #T_ec70c_row0_col1 {\n",
              "  background-color: #00441b;\n",
              "  color: #f1f1f1;\n",
              "}\n",
              "#T_ec70c_row1_col0, #T_ec70c_row1_col1 {\n",
              "  background-color: #f7fcf5;\n",
              "  color: #000000;\n",
              "}\n",
              "</style>\n",
              "<table id=\"T_ec70c\" class=\"dataframe\">\n",
              "  <thead>\n",
              "    <tr>\n",
              "      <th class=\"blank level0\" >&nbsp;</th>\n",
              "      <th id=\"T_ec70c_level0_col0\" class=\"col_heading level0 col0\" >Predict No Distress</th>\n",
              "      <th id=\"T_ec70c_level0_col1\" class=\"col_heading level0 col1\" >Predict Distress</th>\n",
              "    </tr>\n",
              "  </thead>\n",
              "  <tbody>\n",
              "    <tr>\n",
              "      <th id=\"T_ec70c_level0_row0\" class=\"row_heading level0 row0\" >Actual No Distress</th>\n",
              "      <td id=\"T_ec70c_row0_col0\" class=\"data row0 col0\" >125</td>\n",
              "      <td id=\"T_ec70c_row0_col1\" class=\"data row0 col1\" >7</td>\n",
              "    </tr>\n",
              "    <tr>\n",
              "      <th id=\"T_ec70c_level0_row1\" class=\"row_heading level0 row1\" >Actual Distress</th>\n",
              "      <td id=\"T_ec70c_row1_col0\" class=\"data row1 col0\" >6</td>\n",
              "      <td id=\"T_ec70c_row1_col1\" class=\"data row1 col1\" >4</td>\n",
              "    </tr>\n",
              "  </tbody>\n",
              "</table>\n"
            ]
          },
          "metadata": {},
          "execution_count": 271
        }
      ],
      "source": [
        "y_pred_grid_knn = grid_knn.predict(X_test)\n",
        "y_pred_grid_knn_train = grid_knn.predict(X_upsampled)\n",
        "print(classification_report(y_upsampled, y_pred_grid_knn_train))\n",
        "print(f'Random Forest Accuracy Train: {100*round(accuracy_score(y_upsampled, y_pred_grid_knn_train),2)}%')\n",
        "confusion_matrix_df(y_upsampled, y_pred_grid_knn_train)\n",
        "print(classification_report(y_test, y_pred_grid_knn))\n",
        "print(f'Random Forest Accuracy: {100*round(accuracy_score(y_test, y_pred_grid_knn),2)}%')\n",
        "confusion_matrix_df(y_test,y_pred_grid_knn)"
      ]
    },
    {
      "cell_type": "code",
      "execution_count": 272,
      "metadata": {
        "id": "4r9s997yKoFZ",
        "colab": {
          "base_uri": "https://localhost:8080/",
          "height": 459
        },
        "outputId": "16031a1d-0e87-43bf-844d-ccff1cd58317"
      },
      "outputs": [
        {
          "output_type": "stream",
          "name": "stdout",
          "text": [
            "              precision    recall  f1-score   support\n",
            "\n",
            "           0       0.88      0.70      0.78       513\n",
            "           1       0.75      0.91      0.82       513\n",
            "\n",
            "    accuracy                           0.80      1026\n",
            "   macro avg       0.82      0.80      0.80      1026\n",
            "weighted avg       0.82      0.80      0.80      1026\n",
            "\n",
            "SVM Accuracy: 80.0%\n",
            "              precision    recall  f1-score   support\n",
            "\n",
            "           0       0.95      0.68      0.79       132\n",
            "           1       0.11      0.50      0.18        10\n",
            "\n",
            "    accuracy                           0.67       142\n",
            "   macro avg       0.53      0.59      0.48       142\n",
            "weighted avg       0.89      0.67      0.75       142\n",
            "\n",
            "SVM Accuracy: 67.0%\n"
          ]
        },
        {
          "output_type": "execute_result",
          "data": {
            "text/plain": [
              "<pandas.io.formats.style.Styler at 0x7f18341b90f0>"
            ],
            "text/html": [
              "<style type=\"text/css\">\n",
              "#T_14adf_row0_col0, #T_14adf_row0_col1 {\n",
              "  background-color: #00441b;\n",
              "  color: #f1f1f1;\n",
              "}\n",
              "#T_14adf_row1_col0, #T_14adf_row1_col1 {\n",
              "  background-color: #f7fcf5;\n",
              "  color: #000000;\n",
              "}\n",
              "</style>\n",
              "<table id=\"T_14adf\" class=\"dataframe\">\n",
              "  <thead>\n",
              "    <tr>\n",
              "      <th class=\"blank level0\" >&nbsp;</th>\n",
              "      <th id=\"T_14adf_level0_col0\" class=\"col_heading level0 col0\" >Predict No Distress</th>\n",
              "      <th id=\"T_14adf_level0_col1\" class=\"col_heading level0 col1\" >Predict Distress</th>\n",
              "    </tr>\n",
              "  </thead>\n",
              "  <tbody>\n",
              "    <tr>\n",
              "      <th id=\"T_14adf_level0_row0\" class=\"row_heading level0 row0\" >Actual No Distress</th>\n",
              "      <td id=\"T_14adf_row0_col0\" class=\"data row0 col0\" >90</td>\n",
              "      <td id=\"T_14adf_row0_col1\" class=\"data row0 col1\" >42</td>\n",
              "    </tr>\n",
              "    <tr>\n",
              "      <th id=\"T_14adf_level0_row1\" class=\"row_heading level0 row1\" >Actual Distress</th>\n",
              "      <td id=\"T_14adf_row1_col0\" class=\"data row1 col0\" >5</td>\n",
              "      <td id=\"T_14adf_row1_col1\" class=\"data row1 col1\" >5</td>\n",
              "    </tr>\n",
              "  </tbody>\n",
              "</table>\n"
            ]
          },
          "metadata": {},
          "execution_count": 272
        }
      ],
      "source": [
        "from sklearn import svm\n",
        "svm = svm.SVC(random_state = 0,class_weight = 'balanced')\n",
        "model_svm = svm.fit(X_upsampled, y_upsampled)\n",
        "y_pred_svm = model_svm.predict(X_test)\n",
        "y_pred_svm_train = model_svm.predict(X_upsampled)\n",
        "print(classification_report(y_upsampled, y_pred_svm_train))\n",
        "print(f'SVM Accuracy: {100*round(accuracy_score(y_upsampled, y_pred_svm_train),2)}%')\n",
        "confusion_matrix_df(y_upsampled, y_pred_svm_train)\n",
        "print(classification_report(y_test, y_pred_svm))\n",
        "print(f'SVM Accuracy: {100*round(accuracy_score(y_test, y_pred_svm),2)}%')\n",
        "confusion_matrix_df(y_test,y_pred_svm)"
      ]
    },
    {
      "cell_type": "code",
      "execution_count": 273,
      "metadata": {
        "id": "HF8t3K02KoFZ"
      },
      "outputs": [],
      "source": [
        "# from sklearn.svm import SVC\n",
        "# from sklearn.model_selection import RandomizedSearchCV\n",
        "\n",
        "# # defining parameter range\n",
        "# param_grid = {'C': [0.1, 1, 10],\n",
        "#               'gamma': [1, 0.1, 0.01],\n",
        "#               'kernel': ['poly','rbf', 'sigmoid']}\n",
        "\n",
        "# grid = RandomizedSearchCV(SVC(random_state = 0,class_weight = 'balanced'), param_distributions = param_grid, refit = True, verbose = 3,scoring = 'recall')\n",
        "\n",
        "# # fitting the model for grid search\n",
        "# grid.fit(X_upsampled, y_upsampled)"
      ]
    },
    {
      "cell_type": "code",
      "execution_count": 274,
      "metadata": {
        "id": "k8zn557EKoFa"
      },
      "outputs": [],
      "source": [
        "# print(grid.best_params_)"
      ]
    },
    {
      "cell_type": "code",
      "execution_count": 275,
      "metadata": {
        "id": "HuOV0T6nKoFa"
      },
      "outputs": [],
      "source": [
        "\n",
        "# grid_predictions = grid.predict(X_test)\n",
        "\n",
        "# print(classification_report(y_test, grid_predictions))\n",
        "# print(f'SVM Accuracy: {100*round(accuracy_score(y_test, grid_predictions),2)}%')\n",
        "# confusion_matrix_df(y_test,grid_predictions)\n"
      ]
    },
    {
      "cell_type": "code",
      "source": [
        "my_forest_up = XGBClassifier(objective='binary:logistic', random_state=0,\n",
        "                                         max_depth = 4,\n",
        "                                         n_estimators = 50,\n",
        "                                        subsample = 0.8,\n",
        "                                        colsample_bytree = 0.8\n",
        "                            )\n",
        "model_forest_up = my_forest_up.fit(X_upsampled, y_upsampled)\n",
        "y_pred_forest_up = model_forest_up.predict(X_test)\n",
        "y_pred_forest_up_train = model_forest_up.predict(X_upsampled)\n",
        "print(classification_report(y_upsampled, y_pred_forest_up_train))\n",
        "print(f'Random Forest Accuracy Train: {100*round(accuracy_score(y_upsampled, y_pred_forest_up_train),2)}%')\n",
        "confusion_matrix_df(y_upsampled, y_pred_forest_up_train)\n",
        "print(classification_report(y_test, y_pred_forest_up))\n",
        "print(f'Random Forest Accuracy: {100*round(accuracy_score(y_test, y_pred_forest_up),2)}%')\n",
        "confusion_matrix_df(y_test,y_pred_forest_up)"
      ],
      "metadata": {
        "colab": {
          "base_uri": "https://localhost:8080/",
          "height": 459
        },
        "id": "2qfi68DjJGy7",
        "outputId": "8a604962-8eec-4287-cb10-5abeb413056d"
      },
      "execution_count": 277,
      "outputs": [
        {
          "output_type": "stream",
          "name": "stdout",
          "text": [
            "              precision    recall  f1-score   support\n",
            "\n",
            "           0       1.00      1.00      1.00       513\n",
            "           1       1.00      1.00      1.00       513\n",
            "\n",
            "    accuracy                           1.00      1026\n",
            "   macro avg       1.00      1.00      1.00      1026\n",
            "weighted avg       1.00      1.00      1.00      1026\n",
            "\n",
            "Random Forest Accuracy Train: 100.0%\n",
            "              precision    recall  f1-score   support\n",
            "\n",
            "           0       0.98      0.95      0.96       132\n",
            "           1       0.50      0.70      0.58        10\n",
            "\n",
            "    accuracy                           0.93       142\n",
            "   macro avg       0.74      0.82      0.77       142\n",
            "weighted avg       0.94      0.93      0.93       142\n",
            "\n",
            "Random Forest Accuracy: 93.0%\n"
          ]
        },
        {
          "output_type": "execute_result",
          "data": {
            "text/plain": [
              "<pandas.io.formats.style.Styler at 0x7f1836cafbb0>"
            ],
            "text/html": [
              "<style type=\"text/css\">\n",
              "#T_e71cd_row0_col0 {\n",
              "  background-color: #00441b;\n",
              "  color: #f1f1f1;\n",
              "}\n",
              "#T_e71cd_row0_col1, #T_e71cd_row1_col0, #T_e71cd_row1_col1 {\n",
              "  background-color: #f7fcf5;\n",
              "  color: #000000;\n",
              "}\n",
              "</style>\n",
              "<table id=\"T_e71cd\" class=\"dataframe\">\n",
              "  <thead>\n",
              "    <tr>\n",
              "      <th class=\"blank level0\" >&nbsp;</th>\n",
              "      <th id=\"T_e71cd_level0_col0\" class=\"col_heading level0 col0\" >Predict No Distress</th>\n",
              "      <th id=\"T_e71cd_level0_col1\" class=\"col_heading level0 col1\" >Predict Distress</th>\n",
              "    </tr>\n",
              "  </thead>\n",
              "  <tbody>\n",
              "    <tr>\n",
              "      <th id=\"T_e71cd_level0_row0\" class=\"row_heading level0 row0\" >Actual No Distress</th>\n",
              "      <td id=\"T_e71cd_row0_col0\" class=\"data row0 col0\" >125</td>\n",
              "      <td id=\"T_e71cd_row0_col1\" class=\"data row0 col1\" >7</td>\n",
              "    </tr>\n",
              "    <tr>\n",
              "      <th id=\"T_e71cd_level0_row1\" class=\"row_heading level0 row1\" >Actual Distress</th>\n",
              "      <td id=\"T_e71cd_row1_col0\" class=\"data row1 col0\" >3</td>\n",
              "      <td id=\"T_e71cd_row1_col1\" class=\"data row1 col1\" >7</td>\n",
              "    </tr>\n",
              "  </tbody>\n",
              "</table>\n"
            ]
          },
          "metadata": {},
          "execution_count": 277
        }
      ]
    },
    {
      "cell_type": "code",
      "source": [
        "forest_param_up = {'n_estimators': [50,60,70,80],\n",
        "                    'max_depth' : [4,5,6,7,8],\n",
        "                    'learning_rate': [0.025,0.050,0.075,0.1,0.2]}\n",
        "grid_forest_up = GridSearchCV(estimator = XGBClassifier(random_state = 0,objective='binary:logistic',subsample = 0.8,\n",
        "                             colsample_bytree = 0.8),\n",
        "                           param_grid=forest_param_up, cv= 5,scoring = 'recall')\n",
        "grid_forest_up.fit(X_upsampled, y_upsampled)"
      ],
      "metadata": {
        "colab": {
          "base_uri": "https://localhost:8080/",
          "height": 118
        },
        "id": "R9I1RJRBJG6C",
        "outputId": "cab19ea1-b254-4123-ea0d-475a145b7ae4"
      },
      "execution_count": 278,
      "outputs": [
        {
          "output_type": "execute_result",
          "data": {
            "text/plain": [
              "GridSearchCV(cv=5,\n",
              "             estimator=XGBClassifier(base_score=None, booster=None,\n",
              "                                     callbacks=None, colsample_bylevel=None,\n",
              "                                     colsample_bynode=None,\n",
              "                                     colsample_bytree=0.8,\n",
              "                                     early_stopping_rounds=None,\n",
              "                                     enable_categorical=False, eval_metric=None,\n",
              "                                     feature_types=None, gamma=None,\n",
              "                                     gpu_id=None, grow_policy=None,\n",
              "                                     importance_type=None,\n",
              "                                     interaction_constraints=None,\n",
              "                                     learning_rate=None, m...\n",
              "                                     max_cat_threshold=None,\n",
              "                                     max_cat_to_onehot=None,\n",
              "                                     max_delta_step=None, max_depth=None,\n",
              "                                     max_leaves=None, min_child_weight=None,\n",
              "                                     missing=nan, monotone_constraints=None,\n",
              "                                     n_estimators=100, n_jobs=None,\n",
              "                                     num_parallel_tree=None, predictor=None,\n",
              "                                     random_state=0, ...),\n",
              "             param_grid={'learning_rate': [0.025, 0.05, 0.075, 0.1, 0.2],\n",
              "                         'max_depth': [4, 5, 6, 7, 8],\n",
              "                         'n_estimators': [50, 60, 70, 80]},\n",
              "             scoring='recall')"
            ],
            "text/html": [
              "<style>#sk-container-id-24 {color: black;background-color: white;}#sk-container-id-24 pre{padding: 0;}#sk-container-id-24 div.sk-toggleable {background-color: white;}#sk-container-id-24 label.sk-toggleable__label {cursor: pointer;display: block;width: 100%;margin-bottom: 0;padding: 0.3em;box-sizing: border-box;text-align: center;}#sk-container-id-24 label.sk-toggleable__label-arrow:before {content: \"▸\";float: left;margin-right: 0.25em;color: #696969;}#sk-container-id-24 label.sk-toggleable__label-arrow:hover:before {color: black;}#sk-container-id-24 div.sk-estimator:hover label.sk-toggleable__label-arrow:before {color: black;}#sk-container-id-24 div.sk-toggleable__content {max-height: 0;max-width: 0;overflow: hidden;text-align: left;background-color: #f0f8ff;}#sk-container-id-24 div.sk-toggleable__content pre {margin: 0.2em;color: black;border-radius: 0.25em;background-color: #f0f8ff;}#sk-container-id-24 input.sk-toggleable__control:checked~div.sk-toggleable__content {max-height: 200px;max-width: 100%;overflow: auto;}#sk-container-id-24 input.sk-toggleable__control:checked~label.sk-toggleable__label-arrow:before {content: \"▾\";}#sk-container-id-24 div.sk-estimator input.sk-toggleable__control:checked~label.sk-toggleable__label {background-color: #d4ebff;}#sk-container-id-24 div.sk-label input.sk-toggleable__control:checked~label.sk-toggleable__label {background-color: #d4ebff;}#sk-container-id-24 input.sk-hidden--visually {border: 0;clip: rect(1px 1px 1px 1px);clip: rect(1px, 1px, 1px, 1px);height: 1px;margin: -1px;overflow: hidden;padding: 0;position: absolute;width: 1px;}#sk-container-id-24 div.sk-estimator {font-family: monospace;background-color: #f0f8ff;border: 1px dotted black;border-radius: 0.25em;box-sizing: border-box;margin-bottom: 0.5em;}#sk-container-id-24 div.sk-estimator:hover {background-color: #d4ebff;}#sk-container-id-24 div.sk-parallel-item::after {content: \"\";width: 100%;border-bottom: 1px solid gray;flex-grow: 1;}#sk-container-id-24 div.sk-label:hover label.sk-toggleable__label {background-color: #d4ebff;}#sk-container-id-24 div.sk-serial::before {content: \"\";position: absolute;border-left: 1px solid gray;box-sizing: border-box;top: 0;bottom: 0;left: 50%;z-index: 0;}#sk-container-id-24 div.sk-serial {display: flex;flex-direction: column;align-items: center;background-color: white;padding-right: 0.2em;padding-left: 0.2em;position: relative;}#sk-container-id-24 div.sk-item {position: relative;z-index: 1;}#sk-container-id-24 div.sk-parallel {display: flex;align-items: stretch;justify-content: center;background-color: white;position: relative;}#sk-container-id-24 div.sk-item::before, #sk-container-id-24 div.sk-parallel-item::before {content: \"\";position: absolute;border-left: 1px solid gray;box-sizing: border-box;top: 0;bottom: 0;left: 50%;z-index: -1;}#sk-container-id-24 div.sk-parallel-item {display: flex;flex-direction: column;z-index: 1;position: relative;background-color: white;}#sk-container-id-24 div.sk-parallel-item:first-child::after {align-self: flex-end;width: 50%;}#sk-container-id-24 div.sk-parallel-item:last-child::after {align-self: flex-start;width: 50%;}#sk-container-id-24 div.sk-parallel-item:only-child::after {width: 0;}#sk-container-id-24 div.sk-dashed-wrapped {border: 1px dashed gray;margin: 0 0.4em 0.5em 0.4em;box-sizing: border-box;padding-bottom: 0.4em;background-color: white;}#sk-container-id-24 div.sk-label label {font-family: monospace;font-weight: bold;display: inline-block;line-height: 1.2em;}#sk-container-id-24 div.sk-label-container {text-align: center;}#sk-container-id-24 div.sk-container {/* jupyter's `normalize.less` sets `[hidden] { display: none; }` but bootstrap.min.css set `[hidden] { display: none !important; }` so we also need the `!important` here to be able to override the default hidden behavior on the sphinx rendered scikit-learn.org. See: https://github.com/scikit-learn/scikit-learn/issues/21755 */display: inline-block !important;position: relative;}#sk-container-id-24 div.sk-text-repr-fallback {display: none;}</style><div id=\"sk-container-id-24\" class=\"sk-top-container\"><div class=\"sk-text-repr-fallback\"><pre>GridSearchCV(cv=5,\n",
              "             estimator=XGBClassifier(base_score=None, booster=None,\n",
              "                                     callbacks=None, colsample_bylevel=None,\n",
              "                                     colsample_bynode=None,\n",
              "                                     colsample_bytree=0.8,\n",
              "                                     early_stopping_rounds=None,\n",
              "                                     enable_categorical=False, eval_metric=None,\n",
              "                                     feature_types=None, gamma=None,\n",
              "                                     gpu_id=None, grow_policy=None,\n",
              "                                     importance_type=None,\n",
              "                                     interaction_constraints=None,\n",
              "                                     learning_rate=None, m...\n",
              "                                     max_cat_threshold=None,\n",
              "                                     max_cat_to_onehot=None,\n",
              "                                     max_delta_step=None, max_depth=None,\n",
              "                                     max_leaves=None, min_child_weight=None,\n",
              "                                     missing=nan, monotone_constraints=None,\n",
              "                                     n_estimators=100, n_jobs=None,\n",
              "                                     num_parallel_tree=None, predictor=None,\n",
              "                                     random_state=0, ...),\n",
              "             param_grid={&#x27;learning_rate&#x27;: [0.025, 0.05, 0.075, 0.1, 0.2],\n",
              "                         &#x27;max_depth&#x27;: [4, 5, 6, 7, 8],\n",
              "                         &#x27;n_estimators&#x27;: [50, 60, 70, 80]},\n",
              "             scoring=&#x27;recall&#x27;)</pre><b>In a Jupyter environment, please rerun this cell to show the HTML representation or trust the notebook. <br />On GitHub, the HTML representation is unable to render, please try loading this page with nbviewer.org.</b></div><div class=\"sk-container\" hidden><div class=\"sk-item sk-dashed-wrapped\"><div class=\"sk-label-container\"><div class=\"sk-label sk-toggleable\"><input class=\"sk-toggleable__control sk-hidden--visually\" id=\"sk-estimator-id-70\" type=\"checkbox\" ><label for=\"sk-estimator-id-70\" class=\"sk-toggleable__label sk-toggleable__label-arrow\">GridSearchCV</label><div class=\"sk-toggleable__content\"><pre>GridSearchCV(cv=5,\n",
              "             estimator=XGBClassifier(base_score=None, booster=None,\n",
              "                                     callbacks=None, colsample_bylevel=None,\n",
              "                                     colsample_bynode=None,\n",
              "                                     colsample_bytree=0.8,\n",
              "                                     early_stopping_rounds=None,\n",
              "                                     enable_categorical=False, eval_metric=None,\n",
              "                                     feature_types=None, gamma=None,\n",
              "                                     gpu_id=None, grow_policy=None,\n",
              "                                     importance_type=None,\n",
              "                                     interaction_constraints=None,\n",
              "                                     learning_rate=None, m...\n",
              "                                     max_cat_threshold=None,\n",
              "                                     max_cat_to_onehot=None,\n",
              "                                     max_delta_step=None, max_depth=None,\n",
              "                                     max_leaves=None, min_child_weight=None,\n",
              "                                     missing=nan, monotone_constraints=None,\n",
              "                                     n_estimators=100, n_jobs=None,\n",
              "                                     num_parallel_tree=None, predictor=None,\n",
              "                                     random_state=0, ...),\n",
              "             param_grid={&#x27;learning_rate&#x27;: [0.025, 0.05, 0.075, 0.1, 0.2],\n",
              "                         &#x27;max_depth&#x27;: [4, 5, 6, 7, 8],\n",
              "                         &#x27;n_estimators&#x27;: [50, 60, 70, 80]},\n",
              "             scoring=&#x27;recall&#x27;)</pre></div></div></div><div class=\"sk-parallel\"><div class=\"sk-parallel-item\"><div class=\"sk-item\"><div class=\"sk-label-container\"><div class=\"sk-label sk-toggleable\"><input class=\"sk-toggleable__control sk-hidden--visually\" id=\"sk-estimator-id-71\" type=\"checkbox\" ><label for=\"sk-estimator-id-71\" class=\"sk-toggleable__label sk-toggleable__label-arrow\">estimator: XGBClassifier</label><div class=\"sk-toggleable__content\"><pre>XGBClassifier(base_score=None, booster=None, callbacks=None,\n",
              "              colsample_bylevel=None, colsample_bynode=None,\n",
              "              colsample_bytree=0.8, early_stopping_rounds=None,\n",
              "              enable_categorical=False, eval_metric=None, feature_types=None,\n",
              "              gamma=None, gpu_id=None, grow_policy=None, importance_type=None,\n",
              "              interaction_constraints=None, learning_rate=None, max_bin=None,\n",
              "              max_cat_threshold=None, max_cat_to_onehot=None,\n",
              "              max_delta_step=None, max_depth=None, max_leaves=None,\n",
              "              min_child_weight=None, missing=nan, monotone_constraints=None,\n",
              "              n_estimators=100, n_jobs=None, num_parallel_tree=None,\n",
              "              predictor=None, random_state=0, ...)</pre></div></div></div><div class=\"sk-serial\"><div class=\"sk-item\"><div class=\"sk-estimator sk-toggleable\"><input class=\"sk-toggleable__control sk-hidden--visually\" id=\"sk-estimator-id-72\" type=\"checkbox\" ><label for=\"sk-estimator-id-72\" class=\"sk-toggleable__label sk-toggleable__label-arrow\">XGBClassifier</label><div class=\"sk-toggleable__content\"><pre>XGBClassifier(base_score=None, booster=None, callbacks=None,\n",
              "              colsample_bylevel=None, colsample_bynode=None,\n",
              "              colsample_bytree=0.8, early_stopping_rounds=None,\n",
              "              enable_categorical=False, eval_metric=None, feature_types=None,\n",
              "              gamma=None, gpu_id=None, grow_policy=None, importance_type=None,\n",
              "              interaction_constraints=None, learning_rate=None, max_bin=None,\n",
              "              max_cat_threshold=None, max_cat_to_onehot=None,\n",
              "              max_delta_step=None, max_depth=None, max_leaves=None,\n",
              "              min_child_weight=None, missing=nan, monotone_constraints=None,\n",
              "              n_estimators=100, n_jobs=None, num_parallel_tree=None,\n",
              "              predictor=None, random_state=0, ...)</pre></div></div></div></div></div></div></div></div></div></div>"
            ]
          },
          "metadata": {},
          "execution_count": 278
        }
      ]
    },
    {
      "cell_type": "code",
      "source": [
        "y_pred_grid_forest_up = grid_forest_up.predict(X_test)\n",
        "y_pred_grid_forest_up_train = grid_forest_up.predict(X_upsampled)\n",
        "print(classification_report(y_upsampled, y_pred_grid_forest_up_train))\n",
        "print(f'Random Forest Accuracy Train: {100*round(accuracy_score(y_upsampled, y_pred_grid_forest_up_train),2)}%')\n",
        "confusion_matrix_df(y_upsampled, y_pred_grid_forest_up_train)\n",
        "print(classification_report(y_test, y_pred_grid_forest_up))\n",
        "print(f'Random Forest Accuracy: {100*round(accuracy_score(y_test, y_pred_grid_forest_up),2)}%')\n",
        "confusion_matrix_df(y_test,y_pred_grid_forest_up)"
      ],
      "metadata": {
        "colab": {
          "base_uri": "https://localhost:8080/",
          "height": 459
        },
        "id": "YLNm0sUOJHJO",
        "outputId": "98682705-ea75-4bc7-b172-cb8c715362b7"
      },
      "execution_count": 279,
      "outputs": [
        {
          "output_type": "stream",
          "name": "stdout",
          "text": [
            "              precision    recall  f1-score   support\n",
            "\n",
            "           0       1.00      0.97      0.98       513\n",
            "           1       0.97      1.00      0.98       513\n",
            "\n",
            "    accuracy                           0.98      1026\n",
            "   macro avg       0.98      0.98      0.98      1026\n",
            "weighted avg       0.98      0.98      0.98      1026\n",
            "\n",
            "Random Forest Accuracy Train: 98.0%\n",
            "              precision    recall  f1-score   support\n",
            "\n",
            "           0       0.98      0.93      0.95       132\n",
            "           1       0.44      0.70      0.54        10\n",
            "\n",
            "    accuracy                           0.92       142\n",
            "   macro avg       0.71      0.82      0.75       142\n",
            "weighted avg       0.94      0.92      0.92       142\n",
            "\n",
            "Random Forest Accuracy: 92.0%\n"
          ]
        },
        {
          "output_type": "execute_result",
          "data": {
            "text/plain": [
              "<pandas.io.formats.style.Styler at 0x7f184d8bf3a0>"
            ],
            "text/html": [
              "<style type=\"text/css\">\n",
              "#T_cccd9_row0_col0, #T_cccd9_row0_col1 {\n",
              "  background-color: #00441b;\n",
              "  color: #f1f1f1;\n",
              "}\n",
              "#T_cccd9_row1_col0, #T_cccd9_row1_col1 {\n",
              "  background-color: #f7fcf5;\n",
              "  color: #000000;\n",
              "}\n",
              "</style>\n",
              "<table id=\"T_cccd9\" class=\"dataframe\">\n",
              "  <thead>\n",
              "    <tr>\n",
              "      <th class=\"blank level0\" >&nbsp;</th>\n",
              "      <th id=\"T_cccd9_level0_col0\" class=\"col_heading level0 col0\" >Predict No Distress</th>\n",
              "      <th id=\"T_cccd9_level0_col1\" class=\"col_heading level0 col1\" >Predict Distress</th>\n",
              "    </tr>\n",
              "  </thead>\n",
              "  <tbody>\n",
              "    <tr>\n",
              "      <th id=\"T_cccd9_level0_row0\" class=\"row_heading level0 row0\" >Actual No Distress</th>\n",
              "      <td id=\"T_cccd9_row0_col0\" class=\"data row0 col0\" >123</td>\n",
              "      <td id=\"T_cccd9_row0_col1\" class=\"data row0 col1\" >9</td>\n",
              "    </tr>\n",
              "    <tr>\n",
              "      <th id=\"T_cccd9_level0_row1\" class=\"row_heading level0 row1\" >Actual Distress</th>\n",
              "      <td id=\"T_cccd9_row1_col0\" class=\"data row1 col0\" >3</td>\n",
              "      <td id=\"T_cccd9_row1_col1\" class=\"data row1 col1\" >7</td>\n",
              "    </tr>\n",
              "  </tbody>\n",
              "</table>\n"
            ]
          },
          "metadata": {},
          "execution_count": 279
        }
      ]
    },
    {
      "cell_type": "code",
      "execution_count": 280,
      "metadata": {
        "colab": {
          "base_uri": "https://localhost:8080/",
          "height": 459
        },
        "id": "Eud7H78M-zSC",
        "outputId": "dd40bb28-7858-4a14-8dbb-99aea508c974"
      },
      "outputs": [
        {
          "output_type": "stream",
          "name": "stdout",
          "text": [
            "              precision    recall  f1-score   support\n",
            "\n",
            "           0       0.98      0.88      0.93       513\n",
            "           1       0.44      0.85      0.58        55\n",
            "\n",
            "    accuracy                           0.88       568\n",
            "   macro avg       0.71      0.87      0.76       568\n",
            "weighted avg       0.93      0.88      0.90       568\n",
            "\n",
            "Accuracy: 88.0%\n",
            "              precision    recall  f1-score   support\n",
            "\n",
            "           0       0.92      0.72      0.81       132\n",
            "           1       0.05      0.20      0.08        10\n",
            "\n",
            "    accuracy                           0.68       142\n",
            "   macro avg       0.49      0.46      0.45       142\n",
            "weighted avg       0.86      0.68      0.76       142\n",
            "\n",
            "Accuracy: 68.0%\n"
          ]
        },
        {
          "output_type": "execute_result",
          "data": {
            "text/plain": [
              "<pandas.io.formats.style.Styler at 0x7f1852ca7f70>"
            ],
            "text/html": [
              "<style type=\"text/css\">\n",
              "#T_f0ea2_row0_col0, #T_f0ea2_row0_col1 {\n",
              "  background-color: #00441b;\n",
              "  color: #f1f1f1;\n",
              "}\n",
              "#T_f0ea2_row1_col0, #T_f0ea2_row1_col1 {\n",
              "  background-color: #f7fcf5;\n",
              "  color: #000000;\n",
              "}\n",
              "</style>\n",
              "<table id=\"T_f0ea2\" class=\"dataframe\">\n",
              "  <thead>\n",
              "    <tr>\n",
              "      <th class=\"blank level0\" >&nbsp;</th>\n",
              "      <th id=\"T_f0ea2_level0_col0\" class=\"col_heading level0 col0\" >Predict No Distress</th>\n",
              "      <th id=\"T_f0ea2_level0_col1\" class=\"col_heading level0 col1\" >Predict Distress</th>\n",
              "    </tr>\n",
              "  </thead>\n",
              "  <tbody>\n",
              "    <tr>\n",
              "      <th id=\"T_f0ea2_level0_row0\" class=\"row_heading level0 row0\" >Actual No Distress</th>\n",
              "      <td id=\"T_f0ea2_row0_col0\" class=\"data row0 col0\" >95</td>\n",
              "      <td id=\"T_f0ea2_row0_col1\" class=\"data row0 col1\" >37</td>\n",
              "    </tr>\n",
              "    <tr>\n",
              "      <th id=\"T_f0ea2_level0_row1\" class=\"row_heading level0 row1\" >Actual Distress</th>\n",
              "      <td id=\"T_f0ea2_row1_col0\" class=\"data row1 col0\" >8</td>\n",
              "      <td id=\"T_f0ea2_row1_col1\" class=\"data row1 col1\" >2</td>\n",
              "    </tr>\n",
              "  </tbody>\n",
              "</table>\n"
            ]
          },
          "metadata": {},
          "execution_count": 280
        }
      ],
      "source": [
        "from sklearn.ensemble import StackingClassifier\n",
        "# define the base models\n",
        "level0 = list()\n",
        "level0.append(('dec',DecisionTreeClassifier(max_depth = 4,\n",
        "                          max_features = 'auto',\n",
        "                          min_samples_split = 2,\n",
        "                          random_state = 0,\n",
        "                          class_weight = {0:.092, 1:.908},\n",
        "                          )))\n",
        "level0.append(('xgb', XGBClassifier(objective='binary:logistic', random_state=0,\n",
        "                                         max_depth = 4,\n",
        "                                         n_estimators = 50,\n",
        "                                        scale_pos_weight = 9,\n",
        "                                        subsample = 0.8,\n",
        "                                        colsample_bytree = 0.8)))\n",
        "level0.append(('rf', RandomForestClassifier(random_state = 0,\n",
        "                                         class_weight = {0:.092, 1:.908},\n",
        "                                         criterion = 'gini',\n",
        "                                         max_depth = 4,\n",
        "                                         max_features = 'auto',\n",
        "                                         min_samples_split = 4,\n",
        "                                         n_estimators = 50)))\n",
        "# define meta learner model\n",
        "level1 = DecisionTreeClassifier(max_depth = 4,\n",
        "                                                max_features = 'auto',\n",
        "                                                min_samples_split = 2,\n",
        "                                                random_state = 0,\n",
        "                                                class_weight = {0:.092, 1:.908},\n",
        "                                                )\n",
        "# define the stacking ensemble\n",
        "stack_model = StackingClassifier(estimators=level0, final_estimator=level1, cv=5)\n",
        "stack_model.fit(X_train, y_train)\n",
        "pred = stack_model.predict(X_test)\n",
        "pred_train = stack_model.predict(X_train)\n",
        "print(classification_report(y_train, pred_train))\n",
        "print(f'Accuracy: {100*round(accuracy_score(y_train, pred_train),2)}%')\n",
        "confusion_matrix_df(y_train,pred_train)\n",
        "print(classification_report(y_test, pred))\n",
        "print(f'Accuracy: {100*round(accuracy_score(y_test, pred),2)}%')\n",
        "confusion_matrix_df(y_test,pred)"
      ]
    },
    {
      "cell_type": "code",
      "execution_count": 280,
      "metadata": {
        "id": "nXf1qHPW__tj"
      },
      "outputs": [],
      "source": []
    },
    {
      "cell_type": "code",
      "execution_count": 281,
      "metadata": {
        "colab": {
          "base_uri": "https://localhost:8080/"
        },
        "id": "73vYcDdYKoFe",
        "outputId": "fe117ed4-1887-4b1f-efd2-5193aeee9e8d"
      },
      "outputs": [
        {
          "output_type": "stream",
          "name": "stdout",
          "text": [
            "              precision    recall  f1-score   support\n",
            "\n",
            "           0       0.98      0.94      0.96       513\n",
            "           1       0.58      0.84      0.69        55\n",
            "\n",
            "    accuracy                           0.93       568\n",
            "   macro avg       0.78      0.89      0.82       568\n",
            "weighted avg       0.94      0.93      0.93       568\n",
            "\n",
            "Accuracy: 93.0%\n",
            "              precision    recall  f1-score   support\n",
            "\n",
            "           0       0.93      0.98      0.96       132\n",
            "           1       0.00      0.00      0.00        10\n",
            "\n",
            "    accuracy                           0.92       142\n",
            "   macro avg       0.46      0.49      0.48       142\n",
            "weighted avg       0.86      0.92      0.89       142\n",
            "\n",
            "Accuracy: 92.0%\n",
            "              precision    recall  f1-score   support\n",
            "\n",
            "           0       0.98      0.93      0.96       513\n",
            "           1       0.57      0.84      0.68        55\n",
            "\n",
            "    accuracy                           0.92       568\n",
            "   macro avg       0.78      0.89      0.82       568\n",
            "weighted avg       0.94      0.92      0.93       568\n",
            "\n",
            "Accuracy: 92.0%\n",
            "              precision    recall  f1-score   support\n",
            "\n",
            "           0       1.00      0.10      0.18       132\n",
            "           1       0.08      1.00      0.14        10\n",
            "\n",
            "    accuracy                           0.16       142\n",
            "   macro avg       0.54      0.55      0.16       142\n",
            "weighted avg       0.94      0.16      0.18       142\n",
            "\n",
            "Accuracy: 16.0%\n",
            "              precision    recall  f1-score   support\n",
            "\n",
            "           0       0.98      0.96      0.97       513\n",
            "           1       0.67      0.84      0.74        55\n",
            "\n",
            "    accuracy                           0.94       568\n",
            "   macro avg       0.82      0.90      0.86       568\n",
            "weighted avg       0.95      0.94      0.95       568\n",
            "\n",
            "Accuracy: 94.0%\n",
            "              precision    recall  f1-score   support\n",
            "\n",
            "           0       1.00      0.02      0.03       132\n",
            "           1       0.07      1.00      0.13        10\n",
            "\n",
            "    accuracy                           0.08       142\n",
            "   macro avg       0.54      0.51      0.08       142\n",
            "weighted avg       0.93      0.08      0.04       142\n",
            "\n",
            "Accuracy: 8.0%\n",
            "              precision    recall  f1-score   support\n",
            "\n",
            "           0       0.99      0.95      0.97       513\n",
            "           1       0.65      0.87      0.74        55\n",
            "\n",
            "    accuracy                           0.94       568\n",
            "   macro avg       0.82      0.91      0.86       568\n",
            "weighted avg       0.95      0.94      0.95       568\n",
            "\n",
            "Accuracy: 94.0%\n",
            "              precision    recall  f1-score   support\n",
            "\n",
            "           0       0.94      0.64      0.77       132\n",
            "           1       0.10      0.50      0.16        10\n",
            "\n",
            "    accuracy                           0.63       142\n",
            "   macro avg       0.52      0.57      0.46       142\n",
            "weighted avg       0.88      0.63      0.72       142\n",
            "\n",
            "Accuracy: 63.0%\n",
            "              precision    recall  f1-score   support\n",
            "\n",
            "           0       0.98      0.95      0.97       513\n",
            "           1       0.66      0.84      0.74        55\n",
            "\n",
            "    accuracy                           0.94       568\n",
            "   macro avg       0.82      0.89      0.85       568\n",
            "weighted avg       0.95      0.94      0.94       568\n",
            "\n",
            "Accuracy: 94.0%\n",
            "              precision    recall  f1-score   support\n",
            "\n",
            "           0       0.94      0.85      0.89       132\n",
            "           1       0.13      0.30      0.18        10\n",
            "\n",
            "    accuracy                           0.81       142\n",
            "   macro avg       0.54      0.57      0.54       142\n",
            "weighted avg       0.88      0.81      0.84       142\n",
            "\n",
            "Accuracy: 81.0%\n",
            "              precision    recall  f1-score   support\n",
            "\n",
            "           0       0.99      0.94      0.96       513\n",
            "           1       0.60      0.87      0.71        55\n",
            "\n",
            "    accuracy                           0.93       568\n",
            "   macro avg       0.79      0.91      0.84       568\n",
            "weighted avg       0.95      0.93      0.94       568\n",
            "\n",
            "Accuracy: 93.0%\n",
            "              precision    recall  f1-score   support\n",
            "\n",
            "           0       1.00      0.08      0.15       132\n",
            "           1       0.08      1.00      0.14        10\n",
            "\n",
            "    accuracy                           0.15       142\n",
            "   macro avg       0.54      0.54      0.15       142\n",
            "weighted avg       0.93      0.15      0.15       142\n",
            "\n",
            "Accuracy: 15.0%\n",
            "              precision    recall  f1-score   support\n",
            "\n",
            "           0       0.98      0.94      0.96       513\n",
            "           1       0.61      0.84      0.71        55\n",
            "\n",
            "    accuracy                           0.93       568\n",
            "   macro avg       0.80      0.89      0.83       568\n",
            "weighted avg       0.95      0.93      0.94       568\n",
            "\n",
            "Accuracy: 93.0%\n",
            "              precision    recall  f1-score   support\n",
            "\n",
            "           0       1.00      0.05      0.09       132\n",
            "           1       0.07      1.00      0.14        10\n",
            "\n",
            "    accuracy                           0.11       142\n",
            "   macro avg       0.54      0.52      0.11       142\n",
            "weighted avg       0.93      0.11      0.09       142\n",
            "\n",
            "Accuracy: 11.0%\n",
            "              precision    recall  f1-score   support\n",
            "\n",
            "           0       0.98      0.96      0.97       513\n",
            "           1       0.67      0.84      0.74        55\n",
            "\n",
            "    accuracy                           0.94       568\n",
            "   macro avg       0.82      0.90      0.86       568\n",
            "weighted avg       0.95      0.94      0.95       568\n",
            "\n",
            "Accuracy: 94.0%\n",
            "              precision    recall  f1-score   support\n",
            "\n",
            "           0       1.00      0.16      0.27       132\n",
            "           1       0.08      1.00      0.15        10\n",
            "\n",
            "    accuracy                           0.22       142\n",
            "   macro avg       0.54      0.58      0.21       142\n",
            "weighted avg       0.94      0.22      0.27       142\n",
            "\n",
            "Accuracy: 22.0%\n",
            "              precision    recall  f1-score   support\n",
            "\n",
            "           0       0.98      0.95      0.96       513\n",
            "           1       0.62      0.82      0.71        55\n",
            "\n",
            "    accuracy                           0.93       568\n",
            "   macro avg       0.80      0.88      0.84       568\n",
            "weighted avg       0.95      0.93      0.94       568\n",
            "\n",
            "Accuracy: 93.0%\n",
            "              precision    recall  f1-score   support\n",
            "\n",
            "           0       0.93      0.61      0.73       132\n",
            "           1       0.07      0.40      0.12        10\n",
            "\n",
            "    accuracy                           0.59       142\n",
            "   macro avg       0.50      0.50      0.43       142\n",
            "weighted avg       0.87      0.59      0.69       142\n",
            "\n",
            "Accuracy: 59.0%\n",
            "              precision    recall  f1-score   support\n",
            "\n",
            "           0       0.98      0.95      0.97       513\n",
            "           1       0.64      0.84      0.72        55\n",
            "\n",
            "    accuracy                           0.94       568\n",
            "   macro avg       0.81      0.89      0.84       568\n",
            "weighted avg       0.95      0.94      0.94       568\n",
            "\n",
            "Accuracy: 94.0%\n",
            "              precision    recall  f1-score   support\n",
            "\n",
            "           0       0.95      0.75      0.84       132\n",
            "           1       0.13      0.50      0.21        10\n",
            "\n",
            "    accuracy                           0.73       142\n",
            "   macro avg       0.54      0.62      0.52       142\n",
            "weighted avg       0.89      0.73      0.79       142\n",
            "\n",
            "Accuracy: 73.0%\n",
            "              precision    recall  f1-score   support\n",
            "\n",
            "           0       0.98      0.95      0.96       513\n",
            "           1       0.63      0.85      0.72        55\n",
            "\n",
            "    accuracy                           0.94       568\n",
            "   macro avg       0.81      0.90      0.84       568\n",
            "weighted avg       0.95      0.94      0.94       568\n",
            "\n",
            "Accuracy: 94.0%\n",
            "              precision    recall  f1-score   support\n",
            "\n",
            "           0       0.92      0.71      0.80       132\n",
            "           1       0.05      0.20      0.08        10\n",
            "\n",
            "    accuracy                           0.68       142\n",
            "   macro avg       0.49      0.46      0.44       142\n",
            "weighted avg       0.86      0.68      0.75       142\n",
            "\n",
            "Accuracy: 68.0%\n",
            "              precision    recall  f1-score   support\n",
            "\n",
            "           0       0.98      0.95      0.96       513\n",
            "           1       0.63      0.84      0.72        55\n",
            "\n",
            "    accuracy                           0.94       568\n",
            "   macro avg       0.81      0.89      0.84       568\n",
            "weighted avg       0.95      0.94      0.94       568\n",
            "\n",
            "Accuracy: 94.0%\n",
            "              precision    recall  f1-score   support\n",
            "\n",
            "           0       1.00      0.08      0.15       132\n",
            "           1       0.08      1.00      0.14        10\n",
            "\n",
            "    accuracy                           0.15       142\n",
            "   macro avg       0.54      0.54      0.15       142\n",
            "weighted avg       0.93      0.15      0.15       142\n",
            "\n",
            "Accuracy: 15.0%\n",
            "              precision    recall  f1-score   support\n",
            "\n",
            "           0       0.98      0.95      0.97       513\n",
            "           1       0.64      0.84      0.72        55\n",
            "\n",
            "    accuracy                           0.94       568\n",
            "   macro avg       0.81      0.89      0.84       568\n",
            "weighted avg       0.95      0.94      0.94       568\n",
            "\n",
            "Accuracy: 94.0%\n",
            "              precision    recall  f1-score   support\n",
            "\n",
            "           0       1.00      0.08      0.14       132\n",
            "           1       0.08      1.00      0.14        10\n",
            "\n",
            "    accuracy                           0.14       142\n",
            "   macro avg       0.54      0.54      0.14       142\n",
            "weighted avg       0.93      0.14      0.14       142\n",
            "\n",
            "Accuracy: 14.000000000000002%\n",
            "              precision    recall  f1-score   support\n",
            "\n",
            "           0       0.98      0.95      0.97       513\n",
            "           1       0.65      0.85      0.74        55\n",
            "\n",
            "    accuracy                           0.94       568\n",
            "   macro avg       0.82      0.90      0.85       568\n",
            "weighted avg       0.95      0.94      0.95       568\n",
            "\n",
            "Accuracy: 94.0%\n",
            "              precision    recall  f1-score   support\n",
            "\n",
            "           0       0.96      0.52      0.67       132\n",
            "           1       0.10      0.70      0.17        10\n",
            "\n",
            "    accuracy                           0.53       142\n",
            "   macro avg       0.53      0.61      0.42       142\n",
            "weighted avg       0.90      0.53      0.63       142\n",
            "\n",
            "Accuracy: 53.0%\n",
            "              precision    recall  f1-score   support\n",
            "\n",
            "           0       0.98      0.95      0.97       513\n",
            "           1       0.64      0.85      0.73        55\n",
            "\n",
            "    accuracy                           0.94       568\n",
            "   macro avg       0.81      0.90      0.85       568\n",
            "weighted avg       0.95      0.94      0.94       568\n",
            "\n",
            "Accuracy: 94.0%\n",
            "              precision    recall  f1-score   support\n",
            "\n",
            "           0       1.00      0.08      0.14       132\n",
            "           1       0.08      1.00      0.14        10\n",
            "\n",
            "    accuracy                           0.14       142\n",
            "   macro avg       0.54      0.54      0.14       142\n",
            "weighted avg       0.93      0.14      0.14       142\n",
            "\n",
            "Accuracy: 14.000000000000002%\n",
            "              precision    recall  f1-score   support\n",
            "\n",
            "           0       0.98      0.94      0.96       513\n",
            "           1       0.61      0.84      0.71        55\n",
            "\n",
            "    accuracy                           0.93       568\n",
            "   macro avg       0.80      0.89      0.83       568\n",
            "weighted avg       0.95      0.93      0.94       568\n",
            "\n",
            "Accuracy: 93.0%\n",
            "              precision    recall  f1-score   support\n",
            "\n",
            "           0       1.00      0.06      0.11       132\n",
            "           1       0.07      1.00      0.14        10\n",
            "\n",
            "    accuracy                           0.13       142\n",
            "   macro avg       0.54      0.53      0.13       142\n",
            "weighted avg       0.93      0.13      0.12       142\n",
            "\n",
            "Accuracy: 13.0%\n",
            "              precision    recall  f1-score   support\n",
            "\n",
            "           0       0.98      0.94      0.96       513\n",
            "           1       0.60      0.85      0.71        55\n",
            "\n",
            "    accuracy                           0.93       568\n",
            "   macro avg       0.79      0.90      0.83       568\n",
            "weighted avg       0.95      0.93      0.94       568\n",
            "\n",
            "Accuracy: 93.0%\n",
            "              precision    recall  f1-score   support\n",
            "\n",
            "           0       1.00      0.08      0.14       132\n",
            "           1       0.08      1.00      0.14        10\n",
            "\n",
            "    accuracy                           0.14       142\n",
            "   macro avg       0.54      0.54      0.14       142\n",
            "weighted avg       0.93      0.14      0.14       142\n",
            "\n",
            "Accuracy: 14.000000000000002%\n",
            "              precision    recall  f1-score   support\n",
            "\n",
            "           0       0.98      0.95      0.97       513\n",
            "           1       0.64      0.85      0.73        55\n",
            "\n",
            "    accuracy                           0.94       568\n",
            "   macro avg       0.81      0.90      0.85       568\n",
            "weighted avg       0.95      0.94      0.94       568\n",
            "\n",
            "Accuracy: 94.0%\n",
            "              precision    recall  f1-score   support\n",
            "\n",
            "           0       1.00      0.08      0.15       132\n",
            "           1       0.08      1.00      0.14        10\n",
            "\n",
            "    accuracy                           0.15       142\n",
            "   macro avg       0.54      0.54      0.15       142\n",
            "weighted avg       0.93      0.15      0.15       142\n",
            "\n",
            "Accuracy: 15.0%\n",
            "              precision    recall  f1-score   support\n",
            "\n",
            "           0       0.98      0.95      0.97       513\n",
            "           1       0.65      0.85      0.74        55\n",
            "\n",
            "    accuracy                           0.94       568\n",
            "   macro avg       0.82      0.90      0.85       568\n",
            "weighted avg       0.95      0.94      0.95       568\n",
            "\n",
            "Accuracy: 94.0%\n",
            "              precision    recall  f1-score   support\n",
            "\n",
            "           0       0.95      0.42      0.58       132\n",
            "           1       0.08      0.70      0.15        10\n",
            "\n",
            "    accuracy                           0.44       142\n",
            "   macro avg       0.52      0.56      0.36       142\n",
            "weighted avg       0.89      0.44      0.55       142\n",
            "\n",
            "Accuracy: 44.0%\n",
            "              precision    recall  f1-score   support\n",
            "\n",
            "           0       0.98      0.95      0.96       513\n",
            "           1       0.63      0.85      0.72        55\n",
            "\n",
            "    accuracy                           0.94       568\n",
            "   macro avg       0.81      0.90      0.84       568\n",
            "weighted avg       0.95      0.94      0.94       568\n",
            "\n",
            "Accuracy: 94.0%\n",
            "              precision    recall  f1-score   support\n",
            "\n",
            "           0       0.93      0.74      0.83       132\n",
            "           1       0.08      0.30      0.13        10\n",
            "\n",
            "    accuracy                           0.71       142\n",
            "   macro avg       0.51      0.52      0.48       142\n",
            "weighted avg       0.87      0.71      0.78       142\n",
            "\n",
            "Accuracy: 71.0%\n",
            "              precision    recall  f1-score   support\n",
            "\n",
            "           0       0.98      0.95      0.97       513\n",
            "           1       0.64      0.85      0.73        55\n",
            "\n",
            "    accuracy                           0.94       568\n",
            "   macro avg       0.81      0.90      0.85       568\n",
            "weighted avg       0.95      0.94      0.94       568\n",
            "\n",
            "Accuracy: 94.0%\n",
            "              precision    recall  f1-score   support\n",
            "\n",
            "           0       1.00      0.08      0.15       132\n",
            "           1       0.08      1.00      0.14        10\n",
            "\n",
            "    accuracy                           0.15       142\n",
            "   macro avg       0.54      0.54      0.15       142\n",
            "weighted avg       0.93      0.15      0.15       142\n",
            "\n",
            "Accuracy: 15.0%\n",
            "              precision    recall  f1-score   support\n",
            "\n",
            "           0       0.98      0.95      0.97       513\n",
            "           1       0.65      0.85      0.74        55\n",
            "\n",
            "    accuracy                           0.94       568\n",
            "   macro avg       0.82      0.90      0.85       568\n",
            "weighted avg       0.95      0.94      0.95       568\n",
            "\n",
            "Accuracy: 94.0%\n",
            "              precision    recall  f1-score   support\n",
            "\n",
            "           0       1.00      0.17      0.29       132\n",
            "           1       0.08      1.00      0.15        10\n",
            "\n",
            "    accuracy                           0.23       142\n",
            "   macro avg       0.54      0.58      0.22       142\n",
            "weighted avg       0.94      0.23      0.28       142\n",
            "\n",
            "Accuracy: 23.0%\n",
            "              precision    recall  f1-score   support\n",
            "\n",
            "           0       0.98      0.95      0.96       513\n",
            "           1       0.63      0.85      0.72        55\n",
            "\n",
            "    accuracy                           0.94       568\n",
            "   macro avg       0.81      0.90      0.84       568\n",
            "weighted avg       0.95      0.94      0.94       568\n",
            "\n",
            "Accuracy: 94.0%\n",
            "              precision    recall  f1-score   support\n",
            "\n",
            "           0       1.00      0.08      0.15       132\n",
            "           1       0.08      1.00      0.14        10\n",
            "\n",
            "    accuracy                           0.15       142\n",
            "   macro avg       0.54      0.54      0.15       142\n",
            "weighted avg       0.93      0.15      0.15       142\n",
            "\n",
            "Accuracy: 15.0%\n",
            "              precision    recall  f1-score   support\n",
            "\n",
            "           0       0.98      0.94      0.96       513\n",
            "           1       0.62      0.85      0.72        55\n",
            "\n",
            "    accuracy                           0.93       568\n",
            "   macro avg       0.80      0.90      0.84       568\n",
            "weighted avg       0.95      0.93      0.94       568\n",
            "\n",
            "Accuracy: 93.0%\n",
            "              precision    recall  f1-score   support\n",
            "\n",
            "           0       0.94      0.36      0.52       132\n",
            "           1       0.08      0.70      0.14        10\n",
            "\n",
            "    accuracy                           0.39       142\n",
            "   macro avg       0.51      0.53      0.33       142\n",
            "weighted avg       0.88      0.39      0.50       142\n",
            "\n",
            "Accuracy: 39.0%\n",
            "              precision    recall  f1-score   support\n",
            "\n",
            "           0       0.98      0.95      0.96       513\n",
            "           1       0.63      0.84      0.72        55\n",
            "\n",
            "    accuracy                           0.94       568\n",
            "   macro avg       0.81      0.89      0.84       568\n",
            "weighted avg       0.95      0.94      0.94       568\n",
            "\n",
            "Accuracy: 94.0%\n",
            "              precision    recall  f1-score   support\n",
            "\n",
            "           0       1.00      0.08      0.14       132\n",
            "           1       0.08      1.00      0.14        10\n",
            "\n",
            "    accuracy                           0.14       142\n",
            "   macro avg       0.54      0.54      0.14       142\n",
            "weighted avg       0.93      0.14      0.14       142\n",
            "\n",
            "Accuracy: 14.000000000000002%\n",
            "              precision    recall  f1-score   support\n",
            "\n",
            "           0       0.98      0.95      0.97       513\n",
            "           1       0.64      0.85      0.73        55\n",
            "\n",
            "    accuracy                           0.94       568\n",
            "   macro avg       0.81      0.90      0.85       568\n",
            "weighted avg       0.95      0.94      0.94       568\n",
            "\n",
            "Accuracy: 94.0%\n",
            "              precision    recall  f1-score   support\n",
            "\n",
            "           0       0.96      0.33      0.49       132\n",
            "           1       0.08      0.80      0.15        10\n",
            "\n",
            "    accuracy                           0.36       142\n",
            "   macro avg       0.52      0.56      0.32       142\n",
            "weighted avg       0.89      0.36      0.46       142\n",
            "\n",
            "Accuracy: 36.0%\n",
            "              precision    recall  f1-score   support\n",
            "\n",
            "           0       0.98      0.95      0.97       513\n",
            "           1       0.65      0.84      0.73        55\n",
            "\n",
            "    accuracy                           0.94       568\n",
            "   macro avg       0.81      0.89      0.85       568\n",
            "weighted avg       0.95      0.94      0.94       568\n",
            "\n",
            "Accuracy: 94.0%\n",
            "              precision    recall  f1-score   support\n",
            "\n",
            "           0       0.94      0.38      0.54       132\n",
            "           1       0.08      0.70      0.14        10\n",
            "\n",
            "    accuracy                           0.40       142\n",
            "   macro avg       0.51      0.54      0.34       142\n",
            "weighted avg       0.88      0.40      0.51       142\n",
            "\n",
            "Accuracy: 40.0%\n",
            "              precision    recall  f1-score   support\n",
            "\n",
            "           0       0.98      0.95      0.97       513\n",
            "           1       0.65      0.85      0.74        55\n",
            "\n",
            "    accuracy                           0.94       568\n",
            "   macro avg       0.82      0.90      0.85       568\n",
            "weighted avg       0.95      0.94      0.95       568\n",
            "\n",
            "Accuracy: 94.0%\n",
            "              precision    recall  f1-score   support\n",
            "\n",
            "           0       1.00      0.20      0.33       132\n",
            "           1       0.09      1.00      0.16        10\n",
            "\n",
            "    accuracy                           0.25       142\n",
            "   macro avg       0.54      0.60      0.24       142\n",
            "weighted avg       0.94      0.25      0.32       142\n",
            "\n",
            "Accuracy: 25.0%\n",
            "              precision    recall  f1-score   support\n",
            "\n",
            "           0       0.98      0.95      0.97       513\n",
            "           1       0.64      0.85      0.73        55\n",
            "\n",
            "    accuracy                           0.94       568\n",
            "   macro avg       0.81      0.90      0.85       568\n",
            "weighted avg       0.95      0.94      0.94       568\n",
            "\n",
            "Accuracy: 94.0%\n",
            "              precision    recall  f1-score   support\n",
            "\n",
            "           0       1.00      0.16      0.27       132\n",
            "           1       0.08      1.00      0.15        10\n",
            "\n",
            "    accuracy                           0.22       142\n",
            "   macro avg       0.54      0.58      0.21       142\n",
            "weighted avg       0.94      0.22      0.27       142\n",
            "\n",
            "Accuracy: 22.0%\n"
          ]
        }
      ],
      "source": [
        "from sklearn.ensemble import BaggingClassifier\n",
        "for i in range(20,310,10):\n",
        "  bag_clf = BaggingClassifier(\n",
        "    DecisionTreeClassifier(max_depth = 4,\n",
        "                          max_features = 'auto',\n",
        "                          min_samples_split = 2,\n",
        "                          random_state = 0,\n",
        "                          class_weight = {0:.092, 1:.908}\n",
        "                          ),\n",
        "    n_estimators=i,\n",
        "    bootstrap=True,\n",
        "    oob_score=True,\n",
        "    n_jobs=-1\n",
        "  )\n",
        "\n",
        "  bag_clf.fit(X_train, y_train)\n",
        "  y_pred = bag_clf.predict(X_test)\n",
        "  y_pred_train = bag_clf.predict(X_train)\n",
        "  print(classification_report(y_train, y_pred_train))\n",
        "  print(f'Accuracy: {100*round(accuracy_score(y_train, y_pred_train),2)}%')\n",
        "  confusion_matrix_df(y_train,y_pred_train)\n",
        "  print(classification_report(y_test, y_pred))\n",
        "  print(f'Accuracy: {100*round(accuracy_score(y_test, y_pred),2)}%')\n",
        "  confusion_matrix_df(y_test,y_pred)"
      ]
    },
    {
      "cell_type": "code",
      "execution_count": 282,
      "metadata": {
        "id": "gJr-1XpEKoFf",
        "colab": {
          "base_uri": "https://localhost:8080/",
          "height": 455
        },
        "outputId": "0dd08b50-d5b5-4a12-b437-0599bb10a218"
      },
      "outputs": [
        {
          "output_type": "execute_result",
          "data": {
            "text/plain": [
              "      EBIT(t-1)  PB(t-1)  QR(t-1)  DA(t-1)  TATO(t-1)  ROS(t-1)  OCFTD(t-1)  \\\n",
              "NAME                                                                          \n",
              "AAA      356.04     0.42     1.20    42.79       1.47      0.74        1.76   \n",
              "AAM       17.88     0.57     9.96     4.14       1.01      7.97      -43.91   \n",
              "AAT      131.64     0.43     3.18    30.00       0.95      9.39      -74.00   \n",
              "ABR       38.55     0.61     2.37    23.38       0.30     28.21       55.57   \n",
              "ABS       39.07     0.61     1.40    34.06       0.86      1.70       -2.99   \n",
              "...         ...      ...      ...      ...        ...       ...         ...   \n",
              "VSI       50.76     1.21     1.41    62.90       0.63      7.17       18.32   \n",
              "VTB       27.44     0.86     3.41    20.07       0.99      9.02       -4.29   \n",
              "VTO      120.67     0.51     2.57    31.98       0.68      6.21       32.14   \n",
              "YBM       26.20     0.46     0.67    57.49       0.99      2.18       10.13   \n",
              "YEG       44.90     0.31     1.91    27.05       0.24      9.87      -73.63   \n",
              "\n",
              "      EBIT(t-2)  PB(t-2)  QR(t-2)  DA(t-2)  TATO(t-2)  ROS(t-2)  OCFTD(t-2)  \n",
              "NAME                                                                         \n",
              "AAA      549.53     1.21     1.33    45.51       1.41      2.47        9.74  \n",
              "AAM        0.33     0.68    14.11     3.36       0.65      0.17      670.20  \n",
              "AAT       46.87     1.72     2.81    31.52       0.61      6.09       15.64  \n",
              "ABR       23.47     1.95     4.48    18.16       0.31     21.20       23.36  \n",
              "ABS      115.35     2.37     1.89    41.84       0.87      5.45      -84.44  \n",
              "...         ...      ...      ...      ...        ...       ...         ...  \n",
              "VSI       77.97     1.40     1.91    59.41       0.43     19.48        6.37  \n",
              "VTB        9.20     0.69     1.67    26.54       1.14      2.33      109.59  \n",
              "VTO      188.21     0.89     1.84    34.65       0.53     13.67       38.72  \n",
              "YBM       30.47     0.75     0.89    58.88       1.15      2.99       13.52  \n",
              "YEG      120.12     0.91     2.74    36.04       0.78      2.78      -17.87  \n",
              "\n",
              "[366 rows x 14 columns]"
            ],
            "text/html": [
              "\n",
              "  <div id=\"df-918fcadc-dc5a-4d4f-a58d-52132fa77789\">\n",
              "    <div class=\"colab-df-container\">\n",
              "      <div>\n",
              "<style scoped>\n",
              "    .dataframe tbody tr th:only-of-type {\n",
              "        vertical-align: middle;\n",
              "    }\n",
              "\n",
              "    .dataframe tbody tr th {\n",
              "        vertical-align: top;\n",
              "    }\n",
              "\n",
              "    .dataframe thead th {\n",
              "        text-align: right;\n",
              "    }\n",
              "</style>\n",
              "<table border=\"1\" class=\"dataframe\">\n",
              "  <thead>\n",
              "    <tr style=\"text-align: right;\">\n",
              "      <th></th>\n",
              "      <th>EBIT(t-1)</th>\n",
              "      <th>PB(t-1)</th>\n",
              "      <th>QR(t-1)</th>\n",
              "      <th>DA(t-1)</th>\n",
              "      <th>TATO(t-1)</th>\n",
              "      <th>ROS(t-1)</th>\n",
              "      <th>OCFTD(t-1)</th>\n",
              "      <th>EBIT(t-2)</th>\n",
              "      <th>PB(t-2)</th>\n",
              "      <th>QR(t-2)</th>\n",
              "      <th>DA(t-2)</th>\n",
              "      <th>TATO(t-2)</th>\n",
              "      <th>ROS(t-2)</th>\n",
              "      <th>OCFTD(t-2)</th>\n",
              "    </tr>\n",
              "    <tr>\n",
              "      <th>NAME</th>\n",
              "      <th></th>\n",
              "      <th></th>\n",
              "      <th></th>\n",
              "      <th></th>\n",
              "      <th></th>\n",
              "      <th></th>\n",
              "      <th></th>\n",
              "      <th></th>\n",
              "      <th></th>\n",
              "      <th></th>\n",
              "      <th></th>\n",
              "      <th></th>\n",
              "      <th></th>\n",
              "      <th></th>\n",
              "    </tr>\n",
              "  </thead>\n",
              "  <tbody>\n",
              "    <tr>\n",
              "      <th>AAA</th>\n",
              "      <td>356.04</td>\n",
              "      <td>0.42</td>\n",
              "      <td>1.20</td>\n",
              "      <td>42.79</td>\n",
              "      <td>1.47</td>\n",
              "      <td>0.74</td>\n",
              "      <td>1.76</td>\n",
              "      <td>549.53</td>\n",
              "      <td>1.21</td>\n",
              "      <td>1.33</td>\n",
              "      <td>45.51</td>\n",
              "      <td>1.41</td>\n",
              "      <td>2.47</td>\n",
              "      <td>9.74</td>\n",
              "    </tr>\n",
              "    <tr>\n",
              "      <th>AAM</th>\n",
              "      <td>17.88</td>\n",
              "      <td>0.57</td>\n",
              "      <td>9.96</td>\n",
              "      <td>4.14</td>\n",
              "      <td>1.01</td>\n",
              "      <td>7.97</td>\n",
              "      <td>-43.91</td>\n",
              "      <td>0.33</td>\n",
              "      <td>0.68</td>\n",
              "      <td>14.11</td>\n",
              "      <td>3.36</td>\n",
              "      <td>0.65</td>\n",
              "      <td>0.17</td>\n",
              "      <td>670.20</td>\n",
              "    </tr>\n",
              "    <tr>\n",
              "      <th>AAT</th>\n",
              "      <td>131.64</td>\n",
              "      <td>0.43</td>\n",
              "      <td>3.18</td>\n",
              "      <td>30.00</td>\n",
              "      <td>0.95</td>\n",
              "      <td>9.39</td>\n",
              "      <td>-74.00</td>\n",
              "      <td>46.87</td>\n",
              "      <td>1.72</td>\n",
              "      <td>2.81</td>\n",
              "      <td>31.52</td>\n",
              "      <td>0.61</td>\n",
              "      <td>6.09</td>\n",
              "      <td>15.64</td>\n",
              "    </tr>\n",
              "    <tr>\n",
              "      <th>ABR</th>\n",
              "      <td>38.55</td>\n",
              "      <td>0.61</td>\n",
              "      <td>2.37</td>\n",
              "      <td>23.38</td>\n",
              "      <td>0.30</td>\n",
              "      <td>28.21</td>\n",
              "      <td>55.57</td>\n",
              "      <td>23.47</td>\n",
              "      <td>1.95</td>\n",
              "      <td>4.48</td>\n",
              "      <td>18.16</td>\n",
              "      <td>0.31</td>\n",
              "      <td>21.20</td>\n",
              "      <td>23.36</td>\n",
              "    </tr>\n",
              "    <tr>\n",
              "      <th>ABS</th>\n",
              "      <td>39.07</td>\n",
              "      <td>0.61</td>\n",
              "      <td>1.40</td>\n",
              "      <td>34.06</td>\n",
              "      <td>0.86</td>\n",
              "      <td>1.70</td>\n",
              "      <td>-2.99</td>\n",
              "      <td>115.35</td>\n",
              "      <td>2.37</td>\n",
              "      <td>1.89</td>\n",
              "      <td>41.84</td>\n",
              "      <td>0.87</td>\n",
              "      <td>5.45</td>\n",
              "      <td>-84.44</td>\n",
              "    </tr>\n",
              "    <tr>\n",
              "      <th>...</th>\n",
              "      <td>...</td>\n",
              "      <td>...</td>\n",
              "      <td>...</td>\n",
              "      <td>...</td>\n",
              "      <td>...</td>\n",
              "      <td>...</td>\n",
              "      <td>...</td>\n",
              "      <td>...</td>\n",
              "      <td>...</td>\n",
              "      <td>...</td>\n",
              "      <td>...</td>\n",
              "      <td>...</td>\n",
              "      <td>...</td>\n",
              "      <td>...</td>\n",
              "    </tr>\n",
              "    <tr>\n",
              "      <th>VSI</th>\n",
              "      <td>50.76</td>\n",
              "      <td>1.21</td>\n",
              "      <td>1.41</td>\n",
              "      <td>62.90</td>\n",
              "      <td>0.63</td>\n",
              "      <td>7.17</td>\n",
              "      <td>18.32</td>\n",
              "      <td>77.97</td>\n",
              "      <td>1.40</td>\n",
              "      <td>1.91</td>\n",
              "      <td>59.41</td>\n",
              "      <td>0.43</td>\n",
              "      <td>19.48</td>\n",
              "      <td>6.37</td>\n",
              "    </tr>\n",
              "    <tr>\n",
              "      <th>VTB</th>\n",
              "      <td>27.44</td>\n",
              "      <td>0.86</td>\n",
              "      <td>3.41</td>\n",
              "      <td>20.07</td>\n",
              "      <td>0.99</td>\n",
              "      <td>9.02</td>\n",
              "      <td>-4.29</td>\n",
              "      <td>9.20</td>\n",
              "      <td>0.69</td>\n",
              "      <td>1.67</td>\n",
              "      <td>26.54</td>\n",
              "      <td>1.14</td>\n",
              "      <td>2.33</td>\n",
              "      <td>109.59</td>\n",
              "    </tr>\n",
              "    <tr>\n",
              "      <th>VTO</th>\n",
              "      <td>120.67</td>\n",
              "      <td>0.51</td>\n",
              "      <td>2.57</td>\n",
              "      <td>31.98</td>\n",
              "      <td>0.68</td>\n",
              "      <td>6.21</td>\n",
              "      <td>32.14</td>\n",
              "      <td>188.21</td>\n",
              "      <td>0.89</td>\n",
              "      <td>1.84</td>\n",
              "      <td>34.65</td>\n",
              "      <td>0.53</td>\n",
              "      <td>13.67</td>\n",
              "      <td>38.72</td>\n",
              "    </tr>\n",
              "    <tr>\n",
              "      <th>YBM</th>\n",
              "      <td>26.20</td>\n",
              "      <td>0.46</td>\n",
              "      <td>0.67</td>\n",
              "      <td>57.49</td>\n",
              "      <td>0.99</td>\n",
              "      <td>2.18</td>\n",
              "      <td>10.13</td>\n",
              "      <td>30.47</td>\n",
              "      <td>0.75</td>\n",
              "      <td>0.89</td>\n",
              "      <td>58.88</td>\n",
              "      <td>1.15</td>\n",
              "      <td>2.99</td>\n",
              "      <td>13.52</td>\n",
              "    </tr>\n",
              "    <tr>\n",
              "      <th>YEG</th>\n",
              "      <td>44.90</td>\n",
              "      <td>0.31</td>\n",
              "      <td>1.91</td>\n",
              "      <td>27.05</td>\n",
              "      <td>0.24</td>\n",
              "      <td>9.87</td>\n",
              "      <td>-73.63</td>\n",
              "      <td>120.12</td>\n",
              "      <td>0.91</td>\n",
              "      <td>2.74</td>\n",
              "      <td>36.04</td>\n",
              "      <td>0.78</td>\n",
              "      <td>2.78</td>\n",
              "      <td>-17.87</td>\n",
              "    </tr>\n",
              "  </tbody>\n",
              "</table>\n",
              "<p>366 rows × 14 columns</p>\n",
              "</div>\n",
              "      <button class=\"colab-df-convert\" onclick=\"convertToInteractive('df-918fcadc-dc5a-4d4f-a58d-52132fa77789')\"\n",
              "              title=\"Convert this dataframe to an interactive table.\"\n",
              "              style=\"display:none;\">\n",
              "        \n",
              "  <svg xmlns=\"http://www.w3.org/2000/svg\" height=\"24px\"viewBox=\"0 0 24 24\"\n",
              "       width=\"24px\">\n",
              "    <path d=\"M0 0h24v24H0V0z\" fill=\"none\"/>\n",
              "    <path d=\"M18.56 5.44l.94 2.06.94-2.06 2.06-.94-2.06-.94-.94-2.06-.94 2.06-2.06.94zm-11 1L8.5 8.5l.94-2.06 2.06-.94-2.06-.94L8.5 2.5l-.94 2.06-2.06.94zm10 10l.94 2.06.94-2.06 2.06-.94-2.06-.94-.94-2.06-.94 2.06-2.06.94z\"/><path d=\"M17.41 7.96l-1.37-1.37c-.4-.4-.92-.59-1.43-.59-.52 0-1.04.2-1.43.59L10.3 9.45l-7.72 7.72c-.78.78-.78 2.05 0 2.83L4 21.41c.39.39.9.59 1.41.59.51 0 1.02-.2 1.41-.59l7.78-7.78 2.81-2.81c.8-.78.8-2.07 0-2.86zM5.41 20L4 18.59l7.72-7.72 1.47 1.35L5.41 20z\"/>\n",
              "  </svg>\n",
              "      </button>\n",
              "      \n",
              "  <style>\n",
              "    .colab-df-container {\n",
              "      display:flex;\n",
              "      flex-wrap:wrap;\n",
              "      gap: 12px;\n",
              "    }\n",
              "\n",
              "    .colab-df-convert {\n",
              "      background-color: #E8F0FE;\n",
              "      border: none;\n",
              "      border-radius: 50%;\n",
              "      cursor: pointer;\n",
              "      display: none;\n",
              "      fill: #1967D2;\n",
              "      height: 32px;\n",
              "      padding: 0 0 0 0;\n",
              "      width: 32px;\n",
              "    }\n",
              "\n",
              "    .colab-df-convert:hover {\n",
              "      background-color: #E2EBFA;\n",
              "      box-shadow: 0px 1px 2px rgba(60, 64, 67, 0.3), 0px 1px 3px 1px rgba(60, 64, 67, 0.15);\n",
              "      fill: #174EA6;\n",
              "    }\n",
              "\n",
              "    [theme=dark] .colab-df-convert {\n",
              "      background-color: #3B4455;\n",
              "      fill: #D2E3FC;\n",
              "    }\n",
              "\n",
              "    [theme=dark] .colab-df-convert:hover {\n",
              "      background-color: #434B5C;\n",
              "      box-shadow: 0px 1px 3px 1px rgba(0, 0, 0, 0.15);\n",
              "      filter: drop-shadow(0px 1px 2px rgba(0, 0, 0, 0.3));\n",
              "      fill: #FFFFFF;\n",
              "    }\n",
              "  </style>\n",
              "\n",
              "      <script>\n",
              "        const buttonEl =\n",
              "          document.querySelector('#df-918fcadc-dc5a-4d4f-a58d-52132fa77789 button.colab-df-convert');\n",
              "        buttonEl.style.display =\n",
              "          google.colab.kernel.accessAllowed ? 'block' : 'none';\n",
              "\n",
              "        async function convertToInteractive(key) {\n",
              "          const element = document.querySelector('#df-918fcadc-dc5a-4d4f-a58d-52132fa77789');\n",
              "          const dataTable =\n",
              "            await google.colab.kernel.invokeFunction('convertToInteractive',\n",
              "                                                     [key], {});\n",
              "          if (!dataTable) return;\n",
              "\n",
              "          const docLinkHtml = 'Like what you see? Visit the ' +\n",
              "            '<a target=\"_blank\" href=https://colab.research.google.com/notebooks/data_table.ipynb>data table notebook</a>'\n",
              "            + ' to learn more about interactive tables.';\n",
              "          element.innerHTML = '';\n",
              "          dataTable['output_type'] = 'display_data';\n",
              "          await google.colab.output.renderOutput(dataTable, element);\n",
              "          const docLink = document.createElement('div');\n",
              "          docLink.innerHTML = docLinkHtml;\n",
              "          element.appendChild(docLink);\n",
              "        }\n",
              "      </script>\n",
              "    </div>\n",
              "  </div>\n",
              "  "
            ]
          },
          "metadata": {},
          "execution_count": 282
        }
      ],
      "source": [
        "X_2022 = pd.read_csv('gdrive/MyDrive/Đồ án tốt nghiệp/data_2022.csv')\n",
        "X_2022 = X_2022.set_index('NAME')\n",
        "X_2022"
      ]
    },
    {
      "cell_type": "code",
      "execution_count": 283,
      "metadata": {
        "id": "i-qpSCEkKoFf"
      },
      "outputs": [],
      "source": [
        "y_pred_2023 = stack_model.predict(X_2022)"
      ]
    },
    {
      "cell_type": "code",
      "execution_count": 284,
      "metadata": {
        "id": "EMc9U5xCKoFf"
      },
      "outputs": [],
      "source": [
        "X_2022['Pred'] = y_pred_2023\n",
        "X_2022 = X_2022.reset_index()"
      ]
    },
    {
      "cell_type": "code",
      "execution_count": 285,
      "metadata": {
        "id": "9uVSrubyKoFg",
        "colab": {
          "base_uri": "https://localhost:8080/"
        },
        "outputId": "df4bc647-5a71-421f-b5b0-b8e3df0f61ad"
      },
      "outputs": [
        {
          "output_type": "execute_result",
          "data": {
            "text/plain": [
              "94"
            ]
          },
          "metadata": {},
          "execution_count": 285
        }
      ],
      "source": [
        "len(X_2022[X_2022['Pred']==1]['NAME'].values.tolist())"
      ]
    },
    {
      "cell_type": "code",
      "source": [
        "X_2022[X_2022['Pred']==1]['NAME'].values.tolist()"
      ],
      "metadata": {
        "colab": {
          "base_uri": "https://localhost:8080/"
        },
        "id": "jzPk0WiJgVIt",
        "outputId": "f41feae7-42f2-434c-fabe-be1a1f0383d2"
      },
      "execution_count": 286,
      "outputs": [
        {
          "output_type": "execute_result",
          "data": {
            "text/plain": [
              "['AAM',\n",
              " 'AAT',\n",
              " 'AGM',\n",
              " 'AMD',\n",
              " 'APC',\n",
              " 'BCE',\n",
              " 'BRC',\n",
              " 'BTT',\n",
              " 'CDC',\n",
              " 'COM',\n",
              " 'CRC',\n",
              " 'DAG',\n",
              " 'DC4',\n",
              " 'DHM',\n",
              " 'DIG',\n",
              " 'DLG',\n",
              " 'DTA',\n",
              " 'DTT',\n",
              " 'DXV',\n",
              " 'EMC',\n",
              " 'EVG',\n",
              " 'FCM',\n",
              " 'FDC',\n",
              " 'FIT',\n",
              " 'GAB',\n",
              " 'GMC',\n",
              " 'HAI',\n",
              " 'HAP',\n",
              " 'HAR',\n",
              " 'HAS',\n",
              " 'HBC',\n",
              " 'HHS',\n",
              " 'HID',\n",
              " 'HII',\n",
              " 'HMC',\n",
              " 'HNG',\n",
              " 'HOT',\n",
              " 'HRC',\n",
              " 'HSL',\n",
              " 'HU1',\n",
              " 'HU3',\n",
              " 'HVN',\n",
              " 'IBC',\n",
              " 'L10',\n",
              " 'LEC',\n",
              " 'LGL',\n",
              " 'LM8',\n",
              " 'MCG',\n",
              " 'MCP',\n",
              " 'MDG',\n",
              " 'NHA',\n",
              " 'PHC',\n",
              " 'PLP',\n",
              " 'PMG',\n",
              " 'PNC',\n",
              " 'POM',\n",
              " 'PSH',\n",
              " 'PTC',\n",
              " 'PTL',\n",
              " 'QBS',\n",
              " 'QCG',\n",
              " 'RDP',\n",
              " 'SC5',\n",
              " 'SCD',\n",
              " 'SHA',\n",
              " 'SHI',\n",
              " 'SJF',\n",
              " 'SKG',\n",
              " 'SMA',\n",
              " 'SMC',\n",
              " 'SRF',\n",
              " 'ST8',\n",
              " 'SVD',\n",
              " 'TCR',\n",
              " 'TDG',\n",
              " 'TDH',\n",
              " 'TGG',\n",
              " 'THG',\n",
              " 'TLD',\n",
              " 'TLH',\n",
              " 'TMT',\n",
              " 'TNT',\n",
              " 'TPC',\n",
              " 'TTB',\n",
              " 'TTF',\n",
              " 'UDC',\n",
              " 'VAF',\n",
              " 'VCA',\n",
              " 'VDS',\n",
              " 'VJC',\n",
              " 'VMD',\n",
              " 'VNE',\n",
              " 'VNG',\n",
              " 'VTB']"
            ]
          },
          "metadata": {},
          "execution_count": 286
        }
      ]
    },
    {
      "cell_type": "code",
      "source": [
        "import lightgbm as lgb\n",
        "\n",
        "model = DecisionTreeClassifier(max_depth = 4,\n",
        "                          max_features = 'auto',\n",
        "                          min_samples_split = 2,\n",
        "                          random_state = 0,\n",
        "                          class_weight = {0:.092, 1:.908},\n",
        "                          )\n",
        "\n",
        "model.fit(X_train,y_train)\n",
        "importance_dt = model.feature_importances_\n",
        "features_importances_dt = pd.DataFrame({'FeatureName': X_train.columns,\n",
        "                                        'Feature Importance': importance_dt})\n",
        "features_importances_dt['Normalized_Importance'] = features_importances_dt['Feature Importance']\n",
        "features_importances_dt.sort_values(by=['Feature Importance'], ascending=False)\n",
        "\n",
        "features_importances_dt.sort_values(\"Feature Importance\", ascending=False).sort_values(\"Feature Importance\").plot(figsize=(12,6),\n",
        "                                                                             x=\"FeatureName\",\n",
        "                                                                             y=[\"Normalized_Importance\"],\n",
        "                                                                             kind=\"barh\")\n",
        "features_importances_dt\n",
        "plt.title(\"Decision Tree Feature Importance\".upper())\n"
      ],
      "metadata": {
        "id": "ofY6iEdDhd65",
        "colab": {
          "base_uri": "https://localhost:8080/",
          "height": 562
        },
        "outputId": "f692946d-bea2-4974-dc0a-cac1c07d2c66"
      },
      "execution_count": 287,
      "outputs": [
        {
          "output_type": "execute_result",
          "data": {
            "text/plain": [
              "Text(0.5, 1.0, 'DECISION TREE FEATURE IMPORTANCE')"
            ]
          },
          "metadata": {},
          "execution_count": 287
        },
        {
          "output_type": "display_data",
          "data": {
            "text/plain": [
              "<Figure size 1200x600 with 1 Axes>"
            ],
            "image/png": "[encoded data removed]"
          },
          "metadata": {}
        }
      ]
    },
    {
      "cell_type": "code",
      "source": [
        "import lightgbm as lgb\n",
        "\n",
        "model = RandomForestClassifier(random_state = 0,\n",
        "                                         class_weight = {0:.092, 1:.908},\n",
        "                                         criterion = 'gini',\n",
        "                                         max_depth = 4,\n",
        "                                         max_features = 'auto',\n",
        "                                         min_samples_split = 4,\n",
        "                                         n_estimators = 50)\n",
        "\n",
        "model.fit(X_train,y_train)\n",
        "importance_dt = model.feature_importances_\n",
        "features_importances_dt = pd.DataFrame({'FeatureName': X_train.columns,\n",
        "                                        'Feature Importance': importance_dt})\n",
        "features_importances_dt['Normalized_Importance'] = features_importances_dt['Feature Importance']\n",
        "features_importances_dt.sort_values(by=['Feature Importance'], ascending=False)\n",
        "\n",
        "features_importances_dt.sort_values(\"Feature Importance\", ascending=False).sort_values(\"Feature Importance\").plot(figsize=(12,6),\n",
        "                                                                             x=\"FeatureName\",\n",
        "                                                                             y=[\"Normalized_Importance\"],\n",
        "                                                                             kind=\"barh\")\n",
        "features_importances_dt\n",
        "plt.title(\"Random Forest Feature Importance\".upper())\n"
      ],
      "metadata": {
        "id": "wyfHVzaLkdax",
        "colab": {
          "base_uri": "https://localhost:8080/",
          "height": 562
        },
        "outputId": "8e12e224-948e-47f3-9497-97db40a35d3f"
      },
      "execution_count": 288,
      "outputs": [
        {
          "output_type": "execute_result",
          "data": {
            "text/plain": [
              "Text(0.5, 1.0, 'RANDOM FOREST FEATURE IMPORTANCE')"
            ]
          },
          "metadata": {},
          "execution_count": 288
        },
        {
          "output_type": "display_data",
          "data": {
            "text/plain": [
              "<Figure size 1200x600 with 1 Axes>"
            ],
            "image/png": "[encoded data removed]"
          },
          "metadata": {}
        }
      ]
    },
    {
      "cell_type": "code",
      "execution_count": 289,
      "metadata": {
        "id": "EEzmg8ouKoFh",
        "colab": {
          "base_uri": "https://localhost:8080/",
          "height": 562
        },
        "outputId": "608e1ad2-983a-4771-b1de-af870002d3ec"
      },
      "outputs": [
        {
          "output_type": "execute_result",
          "data": {
            "text/plain": [
              "Text(0.5, 1.0, 'XGBOOST FEATURE IMPORTANCE')"
            ]
          },
          "metadata": {},
          "execution_count": 289
        },
        {
          "output_type": "display_data",
          "data": {
            "text/plain": [
              "<Figure size 1200x600 with 1 Axes>"
            ],
            "image/png": "[encoded data removed]"
          },
          "metadata": {}
        }
      ],
      "source": [
        "model = XGBClassifier(objective='binary:logistic', random_state=0,\n",
        "                                         max_depth = 4,\n",
        "                                         n_estimators = 50,\n",
        "                                        scale_pos_weight = 9,\n",
        "                                        subsample = 0.8,\n",
        "                                        colsample_bytree = 0.8)\n",
        "\n",
        "model.fit(X_train,y_train)\n",
        "importance_dt = model.feature_importances_\n",
        "features_importances_dt = pd.DataFrame({'FeatureName': X_train.columns,\n",
        "                                        'Feature Importance': importance_dt})\n",
        "features_importances_dt['Normalized_Importance'] = features_importances_dt['Feature Importance']\n",
        "features_importances_dt.sort_values(by=['Feature Importance'], ascending=False)\n",
        "\n",
        "features_importances_dt.sort_values(\"Feature Importance\", ascending=False).sort_values(\"Feature Importance\").plot(figsize=(12,6),\n",
        "                                                                             x=\"FeatureName\",\n",
        "                                                                             y=[\"Normalized_Importance\"],\n",
        "                                                                             kind=\"barh\")\n",
        "features_importances_dt\n",
        "plt.title(\"XGBoost Feature Importance\".upper())"
      ]
    },
    {
      "cell_type": "code",
      "source": [],
      "metadata": {
        "id": "R34xFZJYZXWK"
      },
      "execution_count": 289,
      "outputs": []
    }
  ],
  "metadata": {
    "colab": {
      "provenance": []
    },
    "kernelspec": {
      "display_name": "Python 3",
      "language": "python",
      "name": "python3"
    },
    "language_info": {
      "codemirror_mode": {
        "name": "ipython",
        "version": 3
      },
      "file_extension": ".py",
      "mimetype": "text/x-python",
      "name": "python",
      "nbconvert_exporter": "python",
      "pygments_lexer": "ipython3",
      "version": "3.8.5"
    }
  },
  "nbformat": 4,
  "nbformat_minor": 0
}